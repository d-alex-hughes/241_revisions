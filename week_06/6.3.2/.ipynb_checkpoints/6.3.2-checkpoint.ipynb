{
 "cells": [
  {
   "cell_type": "code",
   "execution_count": 1,
   "metadata": {},
   "outputs": [
    {
     "name": "stderr",
     "output_type": "stream",
     "text": [
      "\n",
      "Please cite as: \n",
      "\n",
      " Hlavac, Marek (2015). stargazer: Well-Formatted Regression and Summary Statistics Tables.\n",
      " R package version 5.2. http://CRAN.R-project.org/package=stargazer \n",
      "\n"
     ]
    }
   ],
   "source": [
    "library(data.table) \n",
    "library(stargazer)\n",
    "\n",
    "set.seed(42)"
   ]
  },
  {
   "cell_type": "markdown",
   "metadata": {},
   "source": [
    "# What goes wrong with bad controls? Everything! \n",
    "## A Very Simple Example \n",
    "Let's make some data in just the same way that we typically make data.\n",
    "\n",
    "First, let's make and `id` variable, an `epsilon` variable that represents everything in the world that we haven't measured, a `D` variable that represents the assignment to treatment, and a `tau` variable that represents each individuals response to treatment if he or she or it is exposed to the treatment. \n"
   ]
  },
  {
   "cell_type": "code",
   "execution_count": 2,
   "metadata": {},
   "outputs": [],
   "source": [
    "d <- data.table(\n",
    "  id  = 1:1000, \n",
    "  epsilon = rnorm(1000), \n",
    "  D   = sample(0:1, 1000, replace = TRUE),\n",
    "  tau = rnorm(n = 1000, mean = 2, sd = 1)\n",
    ")"
   ]
  },
  {
   "cell_type": "markdown",
   "metadata": {},
   "source": [
    "Now, lets make the *slightly* more complicated quantities, `x`, the bad control, and the potential outcomes. We're going to take some care to create the x-variable. As we show in the figure below, the x-variable is **caused** by both the treatment and other things in the system. \n",
    "\n",
    "For example, consider the case of the white collar and blue collar jobs. If you're born the heir of a real-estate empire in NY (in this case represented by $\\epsilon$), you might be likely, no matter your college attendance or draft status, to end up in a white collar job (in this case represented in $X$). But, it may also be the case in the data that having been assigned to attend college (in this case represented in $D$) increases the probability that you get a white collar job. "
   ]
  },
  {
   "cell_type": "markdown",
   "metadata": {},
   "source": [
    "<img src='bad_controls_diagram.pdf'>"
   ]
  },
  {
   "cell_type": "markdown",
   "metadata": {},
   "source": [
    "Suppose that we measure four variables, $D, x, Y, \\epsilon$ that all have a positive relationship between one another, shown in the figures above.  The one exception, and this is important to make this example easy-ish to understand, is that $x$ actually has *no* relationship on Y.\n",
    "\n",
    "The way we've built this data, if someone is in treatment ($D=1$), then they're more likely to have a larger value for $X$ and also a larger value for $Y$. Similarly, if someone has a high $\\epsilon$ value, then they're more likely to have a higher value for $X$ and also a higher value for $Y$. \n",
    "\n",
    "In the figure on the left, where we've included dotted-line relationships between $D$, $X$, and $\\epsilon$, we're acknowledging that these relationships exist, but we're not going to condition on them. As a result, there is no covariance between $D$ and $\\epsilon$, which we represent with no line. \n",
    "In the figure on the right, consider that we've conditioned on the $X$ variable. As a result, there is a solid line relationship between $\\epsilon$ and $X$; but so too is there a solid line relationship between $\\epsilon$ and $D$ **after we condition on $X$**. \n",
    "\n",
    "Perhaps think of it this way -- if we don't condition on $X$ then any value of $\\epsilon$ is possible, and so too is any value of $D$. But, after we set the $X$ to a value by conditioning on it, some arrangements are more likely to have been the case than others. \n",
    "\n",
    "- If we don't condition on $X$, and if $\\epsilon$ is low, it could still be the case that the unit was in treatment or was in control. We don't have any conditional information. \n",
    "- But, if we condition so that the units we're considering have a $X=1$, and if $\\epsilon$ is low, then *we can know* that the person was more likely to be in the treatment group than the control group. \n",
    "\n",
    "Let's make these, carefully. Create the variable $x$, the realization of the variable $X$ to be a binary indicator that takes the values of either 1 or 0. And, suppose that the probability of being a 1 increases if you're in treatment and also if you've got a high value of epsilon. (I'm going to scale these probabilities using a `pnorm` call, just so that the values for the `prob` argument to `rbinom` conforms to be a valid probability statement.  \n"
   ]
  },
  {
   "cell_type": "code",
   "execution_count": 3,
   "metadata": {},
   "outputs": [
    {
     "data": {},
     "metadata": {},
     "output_type": "display_data"
    }
   ],
   "source": [
    "d[ , x := rbinom(n = 1000, size = 1, prob = pnorm(2*D + epsilon))]"
   ]
  },
  {
   "cell_type": "markdown",
   "metadata": {},
   "source": [
    "# Questions for Understanding \n",
    "\n",
    "1. If we examine the relationship between $x$ and $D$ with a regression, should the relationship be positive, negative, or we don't know? \n",
    "2. If we examine the relationship between $x$ and $\\epsilon$ with a regression, should the relationship be positive, negative, or we don't know? \n",
    "3. **Challenge**: If we examine the regression of `x ~ D + epsilon` what will be the nature of each variables' relationship with x? Will they be the same, different, and will they be positive, negative, or we don't know? \n"
   ]
  },
  {
   "cell_type": "code",
   "execution_count": 4,
   "metadata": {},
   "outputs": [],
   "source": [
    "mod_d    <- d[ , lm(x ~ D)]\n",
    "mod_x    <- d[ , lm(x ~ epsilon)]\n",
    "mod_both <- d[ , lm(x ~ D + epsilon)]"
   ]
  },
  {
   "cell_type": "markdown",
   "metadata": {},
   "source": [
    "The results are commented out, below, so that you can answer the question before seeing the estimated results. "
   ]
  },
  {
   "cell_type": "code",
   "execution_count": 5,
   "metadata": {},
   "outputs": [],
   "source": [
    "# stargazer(mod_d, mod_x, mod_both, type = 'text')"
   ]
  },
  {
   "cell_type": "markdown",
   "metadata": {},
   "source": [
    "## Make Potential Outcomes \n",
    "\n",
    "To this point, we haven't actually built any outcomes, we've been principally concerned with building the *upstream* data for our causal system. Let's make those potential outcomes now. \n",
    "\n",
    "For everybody, their potential outcomes to control are a combination of some individual idiosyncratic value (represented by the random draw in this code), plus their $x$ value, plus all the other features in the world that we haven't measured, their $\\epsilon$."
   ]
  },
  {
   "cell_type": "code",
   "execution_count": 6,
   "metadata": {},
   "outputs": [
    {
     "data": {},
     "metadata": {},
     "output_type": "display_data"
    }
   ],
   "source": [
    "d[ , y0 := runif(1000, min = 0, max = 10) + epsilon]"
   ]
  },
  {
   "cell_type": "markdown",
   "metadata": {},
   "source": [
    "## Questions for Understanding \n",
    "\n",
    "1. Do we **need** in a strict sense to define the potential outcomes to treatment on this data? Or, would that information simply be a linear combination of some data that we already have in hand? "
   ]
  },
  {
   "cell_type": "markdown",
   "metadata": {},
   "source": [
    "Finally, let's produce a measured outcome value for $Y$. "
   ]
  },
  {
   "cell_type": "code",
   "execution_count": 7,
   "metadata": {},
   "outputs": [
    {
     "data": {},
     "metadata": {},
     "output_type": "display_data"
    },
    {
     "data": {},
     "metadata": {},
     "output_type": "display_data"
    },
    {
     "data": {},
     "metadata": {},
     "output_type": "display_data"
    }
   ],
   "source": [
    "d[    , Y := as.numeric(NA)]\n",
    "d[D==0, Y := y0]\n",
    "d[D==1, Y := y0 + tau]"
   ]
  },
  {
   "cell_type": "markdown",
   "metadata": {},
   "source": [
    "# Finally, Estimate Causal Effects \n",
    "\n",
    "In the world that we've occupied to this point, whether we *do* or *do not* condition on a variable, an experiment that we've executed that has successfully randomized the treatment should produce a reliable causal estimate. That is, in this setup, **if we estimate a model, it should provide us with an unbiased estiamte of $\\tau$, or 2.**. \n"
   ]
  },
  {
   "cell_type": "code",
   "execution_count": 8,
   "metadata": {},
   "outputs": [],
   "source": [
    "unconditional_model <- d[ , lm(Y ~ D)]"
   ]
  },
  {
   "cell_type": "markdown",
   "metadata": {},
   "source": [
    "But, what is going to happen if we use a *cough cough bad...* control variable to \"clean up our estimate\". After all, if controls only *increase the accuracy of our predictions*, then this will improve our model right? \n"
   ]
  },
  {
   "cell_type": "code",
   "execution_count": 9,
   "metadata": {},
   "outputs": [],
   "source": [
    "bad_control_model <- d[ , lm(Y ~ D + x)]"
   ]
  },
  {
   "cell_type": "markdown",
   "metadata": {},
   "source": [
    "What are other ways that we could see this relationship? Well, earlier we talked about \"setting x to be equal to 1\". Let's try that on this data. Among the people who have an $x$ value that is one, what is the causal relationship between D and Y? \n"
   ]
  },
  {
   "cell_type": "code",
   "execution_count": 10,
   "metadata": {},
   "outputs": [],
   "source": [
    "subset_model <- d[x==1, lm(Y ~ D)]"
   ]
  },
  {
   "cell_type": "code",
   "execution_count": 11,
   "metadata": {},
   "outputs": [
    {
     "name": "stdout",
     "output_type": "stream",
     "text": [
      "\n",
      "==========================================\n",
      "                  Dependent variable:     \n",
      "             -----------------------------\n",
      "                           Y              \n",
      "                (1)       (2)       (3)   \n",
      "------------------------------------------\n",
      "D            2.002***  1.662***  1.794*** \n",
      "              (0.202)   (0.227)   (0.256) \n",
      "                                          \n",
      "x                      0.813***           \n",
      "                        (0.251)           \n",
      "                                          \n",
      "Constant     4.933***  4.526***  5.252*** \n",
      "              (0.144)   (0.191)   (0.207) \n",
      "                                          \n",
      "------------------------------------------\n",
      "Data Subset     All       All      x==1   \n",
      "Observations   1,000     1,000      713   \n",
      "R2             0.090     0.099     0.065  \n",
      "Adjusted R2    0.089     0.097     0.063  \n",
      "==========================================\n",
      "Note:          *p<0.1; **p<0.05; ***p<0.01\n"
     ]
    }
   ],
   "source": [
    "stargazer(unconditional_model, bad_control_model, subset_model, \n",
    "          type = 'text', header = FALSE, table.placement = 'h', \n",
    "          add.lines = list(c('Data Subset', 'All', 'All', '$x==1$')), \n",
    "          omit.stat = c('ser', 'F')\n",
    "          )"
   ]
  },
  {
   "cell_type": "code",
   "execution_count": null,
   "metadata": {},
   "outputs": [],
   "source": []
  }
 ],
 "metadata": {
  "kernelspec": {
   "display_name": "R",
   "language": "R",
   "name": "ir"
  },
  "language_info": {
   "codemirror_mode": "r",
   "file_extension": ".r",
   "mimetype": "text/x-r-source",
   "name": "R",
   "pygments_lexer": "r",
   "version": "3.4.3"
  }
 },
 "nbformat": 4,
 "nbformat_minor": 2
}
