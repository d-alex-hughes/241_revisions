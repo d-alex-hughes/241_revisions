{
 "cells": [
  {
   "cell_type": "markdown",
   "metadata": {},
   "source": [
    "# Practice! \n",
    "\n",
    "We've just gone through a basic description of how *random assignment* might assign people to be in the treatment or the control groups. \n",
    "\n",
    "We want you to take this point home: \n",
    "\n",
    "> Even when there is no treatment effect at all, random assignment means that the what we estimate in any particular experient might be larger or smaller than the truth.\n",
    "\n",
    "This doesn't mean that the estimator doesn't *work*, per se, but rather than when we're in a world with finite data, in any particular instance we might be slightly high or low in the values that our **estimator** produces. "
   ]
  },
  {
   "cell_type": "markdown",
   "metadata": {},
   "source": [
    "## Define Functions \n",
    "\n",
    "Below, we copy versions of the functions that you just worked through. "
   ]
  },
  {
   "cell_type": "code",
   "execution_count": 1,
   "metadata": {},
   "outputs": [],
   "source": [
    "randomize <- function(size) { \n",
    "    ## this is a dead-simple randomizer \n",
    "    ## ---   \n",
    "    ## inputs: the size of the population (must be even)\n",
    "    ## ---\n",
    "    ## output: a vector of 1s and 0s \n",
    "    \n",
    "    list_of_assignments <- c(rep(0, size/2), rep(1, size/2))\n",
    "    randomized_assignments <- sample(list_of_assignments)\n",
    "    \n",
    "    return(randomized_assignments)\n",
    "} \n",
    "\n",
    "est_ate <- function(outcome, treat) { \n",
    "    ## this is a dead-simple estimator\n",
    "    ## --- \n",
    "    ## inputs: a vector of outcomes and a vector of\n",
    "    ## treatment assignments \n",
    "    ## --- \n",
    "    ## output: A difference in means estimate of the ATE\n",
    "    \n",
    "    mean(outcome[treat==1]) - mean(outcome[treat==0])\n",
    "}"
   ]
  },
  {
   "cell_type": "markdown",
   "metadata": {},
   "source": [
    "**QUESTION OF UNDERSTANDING**: \n",
    "\n",
    "1. Look at the way that we have defined the randomizer, called `randomize` above. Think (or read) back to section 2.5 that we previously read in _FEDAI_. Would you say that this randomizer is an example of:\n",
    "  1. Complete Random Assignment; or, \n",
    "  2. Simple Random Assignment?"
   ]
  },
  {
   "cell_type": "markdown",
   "metadata": {},
   "source": [
    "## Define Data \n",
    "\n",
    "As well, we include the definition of data from this section. "
   ]
  },
  {
   "cell_type": "code",
   "execution_count": 2,
   "metadata": {},
   "outputs": [
    {
     "data": {
      "text/html": [
       "<table>\n",
       "<thead><tr><th scope=col>group</th><th scope=col>po_control</th><th scope=col>po_treat</th></tr></thead>\n",
       "<tbody>\n",
       "\t<tr><td>Man</td><td>1  </td><td>1  </td></tr>\n",
       "\t<tr><td>Man</td><td>2  </td><td>2  </td></tr>\n",
       "\t<tr><td>Man</td><td>3  </td><td>3  </td></tr>\n",
       "\t<tr><td>Man</td><td>4  </td><td>4  </td></tr>\n",
       "\t<tr><td>Man</td><td>5  </td><td>5  </td></tr>\n",
       "\t<tr><td>Man</td><td>6  </td><td>6  </td></tr>\n",
       "</tbody>\n",
       "</table>\n"
      ],
      "text/latex": [
       "\\begin{tabular}{r|lll}\n",
       " group & po\\_control & po\\_treat\\\\\n",
       "\\hline\n",
       "\t Man & 1   & 1  \\\\\n",
       "\t Man & 2   & 2  \\\\\n",
       "\t Man & 3   & 3  \\\\\n",
       "\t Man & 4   & 4  \\\\\n",
       "\t Man & 5   & 5  \\\\\n",
       "\t Man & 6   & 6  \\\\\n",
       "\\end{tabular}\n"
      ],
      "text/markdown": [
       "\n",
       "group | po_control | po_treat | \n",
       "|---|---|---|---|---|---|\n",
       "| Man | 1   | 1   | \n",
       "| Man | 2   | 2   | \n",
       "| Man | 3   | 3   | \n",
       "| Man | 4   | 4   | \n",
       "| Man | 5   | 5   | \n",
       "| Man | 6   | 6   | \n",
       "\n",
       "\n"
      ],
      "text/plain": [
       "  group po_control po_treat\n",
       "1 Man   1          1       \n",
       "2 Man   2          2       \n",
       "3 Man   3          3       \n",
       "4 Man   4          4       \n",
       "5 Man   5          5       \n",
       "6 Man   6          6       "
      ]
     },
     "metadata": {},
     "output_type": "display_data"
    }
   ],
   "source": [
    "d <- data.frame(\n",
    "    group = c(rep(\"Man\", 20), rep(\"Woman\", 20)), \n",
    "    po_control = c(1:20, 51:70),\n",
    "    po_treat   = c(1:20, 51:70)\n",
    "    )\n",
    "head(d)"
   ]
  },
  {
   "cell_type": "markdown",
   "metadata": {},
   "source": [
    "While the randomizer that we've used to this point might *work*, perhaps it is a little bit more limited than what we would like. \n",
    "\n",
    "In the next cell, look into how you might use random draws from a binomial distribution to create the control (0) and treatment (1) indicators. "
   ]
  },
  {
   "cell_type": "code",
   "execution_count": 3,
   "metadata": {},
   "outputs": [],
   "source": [
    "# ?rbinom"
   ]
  },
  {
   "cell_type": "markdown",
   "metadata": {},
   "source": [
    "Use the `rbinom` function to do the following: \n",
    "\n",
    "- Create a vector that has length 40, and a 50% chance of being in treatment. Assign this into a variable on the data frame `d` called `treat_50`. \n",
    "- Create a vector that has length 40, and a 65% chance of being in treatment. Assign this into a variable on the data frame `d` called `treat_65`. "
   ]
  },
  {
   "cell_type": "code",
   "execution_count": 4,
   "metadata": {},
   "outputs": [],
   "source": [
    "d$treat_50 <- \"\"\n",
    "d$treat_65 <- \"\" "
   ]
  },
  {
   "cell_type": "markdown",
   "metadata": {},
   "source": [
    "Suppose that you're living in Bill Murray's *Groundhog Day* movie and you can run the same experiment, on the same set of people, a possibly limitless number of times. \n",
    "\n",
    "In one of those *possible* experiments you use the `treat_50` indicator as your treatment assignment. In the other of those experiments you put 50% of people in treatment. In the other of those experiments you put 65% of people in treatment. \n",
    "\n",
    "- Are both of these assignments, **random**? \n",
    "- In any one *particular* experiment that we run, should the treatment effect under the two assginments produce the same estimate of the treatment effect? Why or why not? \n",
    "- Use the data that you've just produced in the data frame `d` to look at this. "
   ]
  },
  {
   "cell_type": "code",
   "execution_count": 5,
   "metadata": {},
   "outputs": [],
   "source": [
    "ate_50 <- \"\" # est_ate()\n",
    "ate_65 <- \"\" # est_ate()"
   ]
  },
  {
   "cell_type": "markdown",
   "metadata": {},
   "source": [
    "- Across a large number of these experiments, should the treatment effects under the two assigments produce estimates that are *in expectation* the same? Why or why not? "
   ]
  },
  {
   "cell_type": "code",
   "execution_count": null,
   "metadata": {},
   "outputs": [],
   "source": []
  }
 ],
 "metadata": {
  "kernelspec": {
   "display_name": "R",
   "language": "R",
   "name": "ir"
  },
  "language_info": {
   "codemirror_mode": "r",
   "file_extension": ".r",
   "mimetype": "text/x-r-source",
   "name": "R",
   "pygments_lexer": "r",
   "version": "3.5.0"
  }
 },
 "nbformat": 4,
 "nbformat_minor": 2
}
