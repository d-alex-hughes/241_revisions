{
 "cells": [
  {
   "cell_type": "code",
   "execution_count": 6,
   "metadata": {},
   "outputs": [],
   "source": [
    "randomize <- function(size) { \n",
    "  ## this is a dead-simple randomizer \n",
    "  ## ---   \n",
    "  ## inputs: the size of the population (must be even)\n",
    "  ## ---\n",
    "  ## output: a vector of 1s and 0s \n",
    "\n",
    "  list_of_assignments <- c(rep(0, size/2), rep(1, size/2))\n",
    "  randomized_assignments <- sample(list_of_assignments)\n",
    "  \n",
    "  return(randomized_assignments)\n",
    "  } \n",
    "\n",
    "est_ate <- function(outcome, treat) { \n",
    "  mean(outcome[treat==1]) - mean(outcome[treat==0])\n",
    "  } "
   ]
  },
  {
   "cell_type": "markdown",
   "metadata": {},
   "source": [
    "# Practice! \n",
    "\n",
    "We've just gone through a basic description how the p-values change when we the state of the world is that we *do* have a treatment effect (in this case it was +25) compared to when we didn't have a treatment effect (previously it was +0). \n",
    "\n",
    "We want you to take this point home: \n",
    "\n",
    "> What we want from a p-value is the following: If the null hypothesis is **not** true, we would like to have a small p-value. If the null hypothesis **is** true, we would like to have a large p-value. "
   ]
  },
  {
   "cell_type": "markdown",
   "metadata": {},
   "source": [
    "# Solidifying Understanding \n",
    "\n",
    "At the point, we have built *all* of the mechanics to conduct a simulation for an entire experiment. This simulation, under the *randomization inference* paradigm produces for us p-values. \n",
    "\n",
    "There is one piece of the discussion that we think we may have moved too quickly past -- the point that when we actually run the experiment we generate a *single* set of outcomes that we're going to use for everything related to the simulation. \n",
    "\n",
    "Consider the following data that we've been using through this section (3.5):"
   ]
  },
  {
   "cell_type": "code",
   "execution_count": 7,
   "metadata": {},
   "outputs": [],
   "source": [
    "d <- data.frame(\n",
    "    group = c(rep(\"Man\", 20), rep(\"Woman\", 20)), \n",
    "    po_control = c(1:20, 51:70),\n",
    "    po_treat   = c(1:20, 51:70) + 25\n",
    "    )"
   ]
  },
  {
   "cell_type": "markdown",
   "metadata": {},
   "source": [
    "In this data, we are able to conceptualize a potential outcome to *treatment* and *control* for each individual in the experiment. After all, as we talked about last week every subject actually posesses both of these concepts, even if we get to see only one for any particular unit. "
   ]
  },
  {
   "cell_type": "markdown",
   "metadata": {},
   "source": [
    "When we actually conduct the experiment, we're **randomly** revealing one or the other of those values. If we happen to assign a unit to treatment, then we're revealing $Y_{i}(1)$ for that unit $i$. And, if we should happen to randomly put that unit into control, then we would be revealing $Y_{i}(0)$ for that unit $i$. \n",
    "\n",
    "One way to represent this is to think that rather than a *science table* `d`, when we actually run the experiment we end up with the *observable data*, maybe stored in a data frame `obs_d`. "
   ]
  },
  {
   "cell_type": "code",
   "execution_count": 8,
   "metadata": {},
   "outputs": [
    {
     "data": {
      "text/html": [
       "<table>\n",
       "<thead><tr><th scope=col>group</th><th scope=col>treat</th><th scope=col>Y</th></tr></thead>\n",
       "<tbody>\n",
       "\t<tr><td>Man</td><td>0  </td><td> 1 </td></tr>\n",
       "\t<tr><td>Man</td><td>1  </td><td>27 </td></tr>\n",
       "\t<tr><td>Man</td><td>1  </td><td>28 </td></tr>\n",
       "\t<tr><td>Man</td><td>0  </td><td> 4 </td></tr>\n",
       "\t<tr><td>Man</td><td>1  </td><td>30 </td></tr>\n",
       "\t<tr><td>Man</td><td>0  </td><td> 6 </td></tr>\n",
       "</tbody>\n",
       "</table>\n"
      ],
      "text/latex": [
       "\\begin{tabular}{r|lll}\n",
       " group & treat & Y\\\\\n",
       "\\hline\n",
       "\t Man & 0   &  1 \\\\\n",
       "\t Man & 1   & 27 \\\\\n",
       "\t Man & 1   & 28 \\\\\n",
       "\t Man & 0   &  4 \\\\\n",
       "\t Man & 1   & 30 \\\\\n",
       "\t Man & 0   &  6 \\\\\n",
       "\\end{tabular}\n"
      ],
      "text/markdown": [
       "\n",
       "group | treat | Y | \n",
       "|---|---|---|---|---|---|\n",
       "| Man | 0   |  1  | \n",
       "| Man | 1   | 27  | \n",
       "| Man | 1   | 28  | \n",
       "| Man | 0   |  4  | \n",
       "| Man | 1   | 30  | \n",
       "| Man | 0   |  6  | \n",
       "\n",
       "\n"
      ],
      "text/plain": [
       "  group treat Y \n",
       "1 Man   0      1\n",
       "2 Man   1     27\n",
       "3 Man   1     28\n",
       "4 Man   0      4\n",
       "5 Man   1     30\n",
       "6 Man   0      6"
      ]
     },
     "metadata": {},
     "output_type": "display_data"
    }
   ],
   "source": [
    "d$treat <- randomize(40)\n",
    "\n",
    "obs_d <- d[ , c('group', 'treat')]\n",
    "obs_d$Y <- ifelse(d$treat == 1, d$po_treat, d$po_control)\n",
    "\n",
    "head(obs_d)"
   ]
  },
  {
   "cell_type": "markdown",
   "metadata": {},
   "source": [
    "The good news is that our experimental design is *purpose built* to use only this observable data. "
   ]
  },
  {
   "cell_type": "markdown",
   "metadata": {},
   "source": [
    "# Simulating an Experiment from Top-to-Bottom"
   ]
  },
  {
   "cell_type": "markdown",
   "metadata": {},
   "source": [
    "We have a lot of pieces built into the week right now: \n",
    "\n",
    "- Data that we're making \n",
    "- Potential Outcomes to Treatment \n",
    "- Potential Outcomes to Control \n",
    "- Random Assignments into Treatment and Control\n",
    "- An Estimator to Calculate the ATE \n",
    "- A procedure to produce values under the sharp null. "
   ]
  },
  {
   "cell_type": "code",
   "execution_count": 72,
   "metadata": {},
   "outputs": [],
   "source": [
    "create_population <- function(pop_size, treat_effect) {\n",
    "    ## create a population of outcomes for the estrogen experiment \n",
    "    ## --- \n",
    "    ## input  : pop_size    : the size of the population you want to make \n",
    "    ##        : treat_effect: the magnitude of the treatment effect \n",
    "    ## --- \n",
    "    ## output : a population science table with po to treatment and control \n",
    "    population <- data.frame(\n",
    "              group = c(rep(\"Man\", pop_size/2), rep(\"Woman\", pop_size/2)), \n",
    "              po_control = c(sample(1:20,  size = pop_size/2, replace = TRUE), \n",
    "                             sample(51:70, size = pop_size/2, replace = TRUE))\n",
    "              )\n",
    "    population$po_treat <- population$po_control + treat_effect\n",
    "    \n",
    "    return(population)\n",
    "}\n",
    "\n",
    "randomize <- function(size) { \n",
    "    ## this is a dead-simple randomizer \n",
    "    ## ---   \n",
    "    ## inputs: the size of the population (must be even)\n",
    "    ## ---\n",
    "    ## output: a vector of 1s and 0s \n",
    "\n",
    "    list_of_assignments <- c(rep(0, size/2), rep(1, size/2))\n",
    "    randomized_assignments <- sample(list_of_assignments)\n",
    "  \n",
    "    return(randomized_assignments)\n",
    "} \n",
    "\n",
    "run_experiment <- function(pop = population, experiment_size=experiment_size, idx=idx) { \n",
    "    ## run ONE experiment that: (a) samples from the population;\n",
    "    ## then: (b) reveals potential outcomes \n",
    "    ## ---\n",
    "    ## input  : pop : a population of people to draw from (made by create_population)\n",
    "    ## .      : experiment_size : a named argument for the size of the experiment \n",
    "    ## .      : idx : an indicator for which people to sample \n",
    "    ## --- \n",
    "    ## output : a data frame with treatment assignment, covariates, and measured outcomes\n",
    "    \n",
    "    ## sample from the total population to make an experimental population\n",
    "    experiment_population <- pop[idx, ] # taking the rows that are in the obj `idx` \n",
    "    ## assign some of them to treatment \n",
    "    experiment_population$treat <- randomize(size=experiment_size)\n",
    "    ## keep only the covariate and treatment assignment in the `obs_d` data\n",
    "    obs_d <- experiment_population[ , c('group', 'treat')]\n",
    "    ## if they're in treatment, measure the po_treat, otherwise measure po_control\n",
    "    obs_d$Y <- ifelse(test = experiment_population$treat == 1, \n",
    "                      yes = experiment_population$po_treat, \n",
    "                      no = experiment_population$po_control)\n",
    "    \n",
    "    return(obs_d)\n",
    "}\n",
    "\n",
    "est_ate <- function(outcome, treat) { \n",
    "    ## calculate a two-group difference\n",
    "    mean(outcome[treat==1]) - mean(outcome[treat==0])\n",
    "} \n",
    "\n",
    "conduct_ri <- function(nsims, dat=obs_d) { \n",
    "    ## conduct randomization inference \n",
    "    ## ---\n",
    "    ## inputs  : an observed, experimental data frame \n",
    "    ##         : the number of simulations to run (1000) is more than enough\n",
    "    ## returns : a distribution of ates under the sharp null \n",
    "    dist_under_sharp_null <- rep(NA, nsims)\n",
    "\n",
    "    for(i in 1:nsims){ \n",
    "        dat$treat <- randomize(nrow(dat))\n",
    "        dist_under_sharp_null[i]  <- est_ate(dat$Y, dat$treat)\n",
    "    }\n",
    "    \n",
    "    return(dist_under_sharp_null)\n",
    "}\n",
    "\n",
    "make_conclusion <- function(estimated_ate, distribution) {  \n",
    "    ## make a conclusion \n",
    "    ## ---\n",
    "    ## inputs  : a distribution under the sharp null \n",
    "    ##         : the measured, two-group difference from the experiment\n",
    "    ## --- \n",
    "    ## outputs : a p-value under randomization\n",
    "    mean(distribution > estimated_ate)\n",
    "}"
   ]
  },
  {
   "cell_type": "code",
   "execution_count": 73,
   "metadata": {},
   "outputs": [],
   "source": [
    "whole_sim <- function(nsims, experiment_size, treat_effect, pop_size) { \n",
    "    population     <- create_population(pop_size=pop_size, treat_effect=treat_effect)\n",
    "    experiment_idx <- sample(1:pop_size, experiment_size, replace = FALSE)\n",
    "    obs_d          <- run_experiment(pop=population, experiment_size=experiment_size, idx=experiment_idx)\n",
    "    estimated_ate  <- est_ate(outcome=obs_d$Y, treat=obs_d$treat)\n",
    "    dist_under_sharp_null <- conduct_ri(nsims)\n",
    "    p_val          <- make_conclusion(estimated_ate=estimated_ate, distribution=dist_under_sharp_null)\n",
    "    \n",
    "    return(list(ate = estimated_ate, p_val = p_val))\n",
    "    \n",
    "}"
   ]
  },
  {
   "cell_type": "markdown",
   "metadata": {},
   "source": [
    "Let's suppose that there is a really large population of people that we could *possibly* bring into experiment. Rather than just 40 people who are under consideration, instead there are 4,000. \n",
    "\n",
    "We can make data that is similar to what we've had before, just expanded somewhat. "
   ]
  },
  {
   "cell_type": "code",
   "execution_count": 77,
   "metadata": {},
   "outputs": [
    {
     "data": {
      "text/html": [
       "<dl>\n",
       "\t<dt>$ate</dt>\n",
       "\t\t<dd>13.4</dd>\n",
       "\t<dt>$p_val</dt>\n",
       "\t\t<dd>0.061</dd>\n",
       "</dl>\n"
      ],
      "text/latex": [
       "\\begin{description}\n",
       "\\item[\\$ate] 13.4\n",
       "\\item[\\$p\\_val] 0.061\n",
       "\\end{description}\n"
      ],
      "text/markdown": [
       "$ate\n",
       ":   13.4\n",
       "$p_val\n",
       ":   0.061\n",
       "\n",
       "\n"
      ],
      "text/plain": [
       "$ate\n",
       "[1] 13.4\n",
       "\n",
       "$p_val\n",
       "[1] 0.061\n"
      ]
     },
     "metadata": {},
     "output_type": "display_data"
    }
   ],
   "source": [
    "whole_sim(nsims=1000, experiment_size=40, treat_effect=20, pop_size=4000)"
   ]
  },
  {
   "cell_type": "code",
   "execution_count": null,
   "metadata": {},
   "outputs": [],
   "source": []
  },
  {
   "cell_type": "code",
   "execution_count": 80,
   "metadata": {},
   "outputs": [
    {
     "data": {
      "text/html": [
       "'/Users/alehughe/Desktop/2u_revisions'"
      ],
      "text/latex": [
       "'/Users/alehughe/Desktop/2u\\_revisions'"
      ],
      "text/markdown": [
       "'/Users/alehughe/Desktop/2u_revisions'"
      ],
      "text/plain": [
       "[1] \"/Users/alehughe/Desktop/2u_revisions\""
      ]
     },
     "metadata": {},
     "output_type": "display_data"
    }
   ],
   "source": [
    "getwd()"
   ]
  },
  {
   "cell_type": "code",
   "execution_count": null,
   "metadata": {},
   "outputs": [],
   "source": []
  }
 ],
 "metadata": {
  "kernelspec": {
   "display_name": "R",
   "language": "R",
   "name": "ir"
  },
  "language_info": {
   "codemirror_mode": "r",
   "file_extension": ".r",
   "mimetype": "text/x-r-source",
   "name": "R",
   "pygments_lexer": "r",
   "version": "3.5.0"
  }
 },
 "nbformat": 4,
 "nbformat_minor": 2
}
