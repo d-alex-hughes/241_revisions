{
 "cells": [
  {
   "cell_type": "markdown",
   "metadata": {},
   "source": [
    "# Practice! \n",
    "\n",
    "We've just gone through a basic description of how we might use simulation data to evaluate whether the magnitude of the treatment effect that we observe in our experiment is *statistically surprising*. \n",
    "\n",
    "We want you to take this point home: \n",
    "\n",
    "> If we *presume* that the sharp null hypothesis is true and simulate a large number of experiments under that premise, we can create an **intuitive inferential** statement. "
   ]
  },
  {
   "cell_type": "code",
   "execution_count": null,
   "metadata": {},
   "outputs": [],
   "source": []
  }
 ],
 "metadata": {
  "kernelspec": {
   "display_name": "R",
   "language": "R",
   "name": "ir"
  },
  "language_info": {
   "codemirror_mode": "r",
   "file_extension": ".r",
   "mimetype": "text/x-r-source",
   "name": "R",
   "pygments_lexer": "r",
   "version": "3.5.0"
  }
 },
 "nbformat": 4,
 "nbformat_minor": 2
}
