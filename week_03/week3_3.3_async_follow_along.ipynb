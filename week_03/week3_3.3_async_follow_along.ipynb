{
 "cells": [
  {
   "cell_type": "markdown",
   "metadata": {},
   "source": [
    "# Goals for the Week \n",
    "\n",
    "One of the primary goals of this week is to build an intuition for whether a treatment effect that we observe in an experiment is large enough that we believe it is not an artifact of our sample size, or the experiment design, or just bad luck! "
   ]
  },
  {
   "cell_type": "markdown",
   "metadata": {},
   "source": [
    "## Reading to Begin \n",
    "\n",
    "Before we demonstrate these concepts concretely, in code, please read the following sections of *Field Experiments*\n",
    "\n",
    "- Chapter 3, Introduction\n",
    "- Chapter 3, Section 1 - Sampling Distributions \n",
    "- Chapter 3, Section 4 - Hypothesis Testing"
   ]
  },
  {
   "cell_type": "code",
   "execution_count": 22,
   "metadata": {},
   "outputs": [],
   "source": [
    "rm(list = ls())"
   ]
  },
  {
   "cell_type": "code",
   "execution_count": 23,
   "metadata": {},
   "outputs": [],
   "source": [
    "set.seed(42)"
   ]
  },
  {
   "cell_type": "code",
   "execution_count": 24,
   "metadata": {},
   "outputs": [
    {
     "data": {
      "text/html": [
       "<table>\n",
       "<thead><tr><th scope=col>group</th></tr></thead>\n",
       "<tbody>\n",
       "\t<tr><td>Man</td></tr>\n",
       "\t<tr><td>Man</td></tr>\n",
       "\t<tr><td>Man</td></tr>\n",
       "\t<tr><td>Man</td></tr>\n",
       "\t<tr><td>Man</td></tr>\n",
       "\t<tr><td>Man</td></tr>\n",
       "</tbody>\n",
       "</table>\n"
      ],
      "text/latex": [
       "\\begin{tabular}{r|l}\n",
       " group\\\\\n",
       "\\hline\n",
       "\t Man\\\\\n",
       "\t Man\\\\\n",
       "\t Man\\\\\n",
       "\t Man\\\\\n",
       "\t Man\\\\\n",
       "\t Man\\\\\n",
       "\\end{tabular}\n"
      ],
      "text/markdown": [
       "\n",
       "group | \n",
       "|---|---|---|---|---|---|\n",
       "| Man | \n",
       "| Man | \n",
       "| Man | \n",
       "| Man | \n",
       "| Man | \n",
       "| Man | \n",
       "\n",
       "\n"
      ],
      "text/plain": [
       "  group\n",
       "1 Man  \n",
       "2 Man  \n",
       "3 Man  \n",
       "4 Man  \n",
       "5 Man  \n",
       "6 Man  "
      ]
     },
     "metadata": {},
     "output_type": "display_data"
    }
   ],
   "source": [
    "# This code should be shown at 4:00\n",
    "\n",
    "d <- data.frame(\n",
    "    group = c(rep(\"Man\", 20), rep(\"Woman\", 20))\n",
    "    )\n",
    "\n",
    "head(d)"
   ]
  },
  {
   "cell_type": "code",
   "execution_count": 25,
   "metadata": {},
   "outputs": [
    {
     "data": {
      "text/html": [
       "<table>\n",
       "<thead><tr><th></th><th scope=col>group</th><th scope=col>po_control</th></tr></thead>\n",
       "<tbody>\n",
       "\t<tr><th scope=row>35</th><td>Woman</td><td>65   </td></tr>\n",
       "\t<tr><th scope=row>36</th><td>Woman</td><td>66   </td></tr>\n",
       "\t<tr><th scope=row>37</th><td>Woman</td><td>67   </td></tr>\n",
       "\t<tr><th scope=row>38</th><td>Woman</td><td>68   </td></tr>\n",
       "\t<tr><th scope=row>39</th><td>Woman</td><td>69   </td></tr>\n",
       "\t<tr><th scope=row>40</th><td>Woman</td><td>70   </td></tr>\n",
       "</tbody>\n",
       "</table>\n"
      ],
      "text/latex": [
       "\\begin{tabular}{r|ll}\n",
       "  & group & po\\_control\\\\\n",
       "\\hline\n",
       "\t35 & Woman & 65   \\\\\n",
       "\t36 & Woman & 66   \\\\\n",
       "\t37 & Woman & 67   \\\\\n",
       "\t38 & Woman & 68   \\\\\n",
       "\t39 & Woman & 69   \\\\\n",
       "\t40 & Woman & 70   \\\\\n",
       "\\end{tabular}\n"
      ],
      "text/markdown": [
       "\n",
       "| <!--/--> | group | po_control | \n",
       "|---|---|---|---|---|---|\n",
       "| 35 | Woman | 65    | \n",
       "| 36 | Woman | 66    | \n",
       "| 37 | Woman | 67    | \n",
       "| 38 | Woman | 68    | \n",
       "| 39 | Woman | 69    | \n",
       "| 40 | Woman | 70    | \n",
       "\n",
       "\n"
      ],
      "text/plain": [
       "   group po_control\n",
       "35 Woman 65        \n",
       "36 Woman 66        \n",
       "37 Woman 67        \n",
       "38 Woman 68        \n",
       "39 Woman 69        \n",
       "40 Woman 70        "
      ]
     },
     "metadata": {},
     "output_type": "display_data"
    }
   ],
   "source": [
    "d$po_control <- c(1:20, 51:70)\n",
    "\n",
    "tail(d)"
   ]
  },
  {
   "cell_type": "code",
   "execution_count": 26,
   "metadata": {},
   "outputs": [
    {
     "data": {
      "text/html": [
       "<table>\n",
       "<thead><tr><th scope=col>group</th><th scope=col>po_control</th><th scope=col>po_treatment</th></tr></thead>\n",
       "<tbody>\n",
       "\t<tr><td>Man</td><td>1  </td><td>1  </td></tr>\n",
       "\t<tr><td>Man</td><td>2  </td><td>2  </td></tr>\n",
       "\t<tr><td>Man</td><td>3  </td><td>3  </td></tr>\n",
       "\t<tr><td>Man</td><td>4  </td><td>4  </td></tr>\n",
       "\t<tr><td>Man</td><td>5  </td><td>5  </td></tr>\n",
       "\t<tr><td>Man</td><td>6  </td><td>6  </td></tr>\n",
       "</tbody>\n",
       "</table>\n"
      ],
      "text/latex": [
       "\\begin{tabular}{r|lll}\n",
       " group & po\\_control & po\\_treatment\\\\\n",
       "\\hline\n",
       "\t Man & 1   & 1  \\\\\n",
       "\t Man & 2   & 2  \\\\\n",
       "\t Man & 3   & 3  \\\\\n",
       "\t Man & 4   & 4  \\\\\n",
       "\t Man & 5   & 5  \\\\\n",
       "\t Man & 6   & 6  \\\\\n",
       "\\end{tabular}\n"
      ],
      "text/markdown": [
       "\n",
       "group | po_control | po_treatment | \n",
       "|---|---|---|---|---|---|\n",
       "| Man | 1   | 1   | \n",
       "| Man | 2   | 2   | \n",
       "| Man | 3   | 3   | \n",
       "| Man | 4   | 4   | \n",
       "| Man | 5   | 5   | \n",
       "| Man | 6   | 6   | \n",
       "\n",
       "\n"
      ],
      "text/plain": [
       "  group po_control po_treatment\n",
       "1 Man   1          1           \n",
       "2 Man   2          2           \n",
       "3 Man   3          3           \n",
       "4 Man   4          4           \n",
       "5 Man   5          5           \n",
       "6 Man   6          6           "
      ]
     },
     "metadata": {},
     "output_type": "display_data"
    }
   ],
   "source": [
    "d$po_treatment <- d$po_control + 0 # No effect! \n",
    "\n",
    "head(d)"
   ]
  },
  {
   "cell_type": "code",
   "execution_count": 27,
   "metadata": {},
   "outputs": [
    {
     "data": {
      "text/html": [
       "<table>\n",
       "<thead><tr><th scope=col>group</th><th scope=col>po_control</th><th scope=col>po_treatment</th></tr></thead>\n",
       "<tbody>\n",
       "\t<tr><td>Man</td><td>1  </td><td>1  </td></tr>\n",
       "\t<tr><td>Man</td><td>2  </td><td>2  </td></tr>\n",
       "\t<tr><td>Man</td><td>3  </td><td>3  </td></tr>\n",
       "\t<tr><td>Man</td><td>4  </td><td>4  </td></tr>\n",
       "\t<tr><td>Man</td><td>5  </td><td>5  </td></tr>\n",
       "\t<tr><td>Man</td><td>6  </td><td>6  </td></tr>\n",
       "</tbody>\n",
       "</table>\n"
      ],
      "text/latex": [
       "\\begin{tabular}{r|lll}\n",
       " group & po\\_control & po\\_treatment\\\\\n",
       "\\hline\n",
       "\t Man & 1   & 1  \\\\\n",
       "\t Man & 2   & 2  \\\\\n",
       "\t Man & 3   & 3  \\\\\n",
       "\t Man & 4   & 4  \\\\\n",
       "\t Man & 5   & 5  \\\\\n",
       "\t Man & 6   & 6  \\\\\n",
       "\\end{tabular}\n"
      ],
      "text/markdown": [
       "\n",
       "group | po_control | po_treatment | \n",
       "|---|---|---|---|---|---|\n",
       "| Man | 1   | 1   | \n",
       "| Man | 2   | 2   | \n",
       "| Man | 3   | 3   | \n",
       "| Man | 4   | 4   | \n",
       "| Man | 5   | 5   | \n",
       "| Man | 6   | 6   | \n",
       "\n",
       "\n"
      ],
      "text/plain": [
       "  group po_control po_treatment\n",
       "1 Man   1          1           \n",
       "2 Man   2          2           \n",
       "3 Man   3          3           \n",
       "4 Man   4          4           \n",
       "5 Man   5          5           \n",
       "6 Man   6          6           "
      ]
     },
     "metadata": {},
     "output_type": "display_data"
    }
   ],
   "source": [
    "head(d)"
   ]
  },
  {
   "cell_type": "code",
   "execution_count": 28,
   "metadata": {},
   "outputs": [
    {
     "data": {
      "text/html": [
       "<table>\n",
       "<thead><tr><th></th><th scope=col>group</th><th scope=col>po_control</th><th scope=col>po_treatment</th></tr></thead>\n",
       "<tbody>\n",
       "\t<tr><th scope=row>35</th><td>Woman</td><td>65   </td><td>65   </td></tr>\n",
       "\t<tr><th scope=row>36</th><td>Woman</td><td>66   </td><td>66   </td></tr>\n",
       "\t<tr><th scope=row>37</th><td>Woman</td><td>67   </td><td>67   </td></tr>\n",
       "\t<tr><th scope=row>38</th><td>Woman</td><td>68   </td><td>68   </td></tr>\n",
       "\t<tr><th scope=row>39</th><td>Woman</td><td>69   </td><td>69   </td></tr>\n",
       "\t<tr><th scope=row>40</th><td>Woman</td><td>70   </td><td>70   </td></tr>\n",
       "</tbody>\n",
       "</table>\n"
      ],
      "text/latex": [
       "\\begin{tabular}{r|lll}\n",
       "  & group & po\\_control & po\\_treatment\\\\\n",
       "\\hline\n",
       "\t35 & Woman & 65    & 65   \\\\\n",
       "\t36 & Woman & 66    & 66   \\\\\n",
       "\t37 & Woman & 67    & 67   \\\\\n",
       "\t38 & Woman & 68    & 68   \\\\\n",
       "\t39 & Woman & 69    & 69   \\\\\n",
       "\t40 & Woman & 70    & 70   \\\\\n",
       "\\end{tabular}\n"
      ],
      "text/markdown": [
       "\n",
       "| <!--/--> | group | po_control | po_treatment | \n",
       "|---|---|---|---|---|---|\n",
       "| 35 | Woman | 65    | 65    | \n",
       "| 36 | Woman | 66    | 66    | \n",
       "| 37 | Woman | 67    | 67    | \n",
       "| 38 | Woman | 68    | 68    | \n",
       "| 39 | Woman | 69    | 69    | \n",
       "| 40 | Woman | 70    | 70    | \n",
       "\n",
       "\n"
      ],
      "text/plain": [
       "   group po_control po_treatment\n",
       "35 Woman 65         65          \n",
       "36 Woman 66         66          \n",
       "37 Woman 67         67          \n",
       "38 Woman 68         68          \n",
       "39 Woman 69         69          \n",
       "40 Woman 70         70          "
      ]
     },
     "metadata": {},
     "output_type": "display_data"
    }
   ],
   "source": [
    "tail(d)"
   ]
  },
  {
   "cell_type": "code",
   "execution_count": 29,
   "metadata": {},
   "outputs": [
    {
     "data": {
      "text/html": [
       "<ol class=list-inline>\n",
       "\t<li>1</li>\n",
       "\t<li>1</li>\n",
       "\t<li>0</li>\n",
       "\t<li>0</li>\n",
       "\t<li>1</li>\n",
       "\t<li>0</li>\n",
       "</ol>\n"
      ],
      "text/latex": [
       "\\begin{enumerate*}\n",
       "\\item 1\n",
       "\\item 1\n",
       "\\item 0\n",
       "\\item 0\n",
       "\\item 1\n",
       "\\item 0\n",
       "\\end{enumerate*}\n"
      ],
      "text/markdown": [
       "1. 1\n",
       "2. 1\n",
       "3. 0\n",
       "4. 0\n",
       "5. 1\n",
       "6. 0\n",
       "\n",
       "\n"
      ],
      "text/plain": [
       "[1] 1 1 0 0 1 0"
      ]
     },
     "metadata": {},
     "output_type": "display_data"
    }
   ],
   "source": [
    "randomize <- function(size) { \n",
    "  ## this is a dead-simple randomizer \n",
    "  ## ---   \n",
    "  ## inputs: the size of the population (must be even)\n",
    "  ## ---\n",
    "  ## output: a vector of 1s and 0s \n",
    "\n",
    "  list_of_assignments <- c(rep(0, size/2), rep(1, size/2))\n",
    "  randomized_assignments <- sample(list_of_assignments)\n",
    "  \n",
    "  return(randomized_assignments)\n",
    "  } \n",
    "\n",
    "randomize(6)"
   ]
  },
  {
   "cell_type": "code",
   "execution_count": 30,
   "metadata": {},
   "outputs": [
    {
     "data": {
      "text/html": [
       "<table>\n",
       "<thead><tr><th scope=col>group</th><th scope=col>po_control</th><th scope=col>po_treatment</th><th scope=col>treatment</th></tr></thead>\n",
       "<tbody>\n",
       "\t<tr><td>Man</td><td>1  </td><td>1  </td><td>1  </td></tr>\n",
       "\t<tr><td>Man</td><td>2  </td><td>2  </td><td>0  </td></tr>\n",
       "\t<tr><td>Man</td><td>3  </td><td>3  </td><td>1  </td></tr>\n",
       "\t<tr><td>Man</td><td>4  </td><td>4  </td><td>1  </td></tr>\n",
       "\t<tr><td>Man</td><td>5  </td><td>5  </td><td>0  </td></tr>\n",
       "\t<tr><td>Man</td><td>6  </td><td>6  </td><td>1  </td></tr>\n",
       "</tbody>\n",
       "</table>\n"
      ],
      "text/latex": [
       "\\begin{tabular}{r|llll}\n",
       " group & po\\_control & po\\_treatment & treatment\\\\\n",
       "\\hline\n",
       "\t Man & 1   & 1   & 1  \\\\\n",
       "\t Man & 2   & 2   & 0  \\\\\n",
       "\t Man & 3   & 3   & 1  \\\\\n",
       "\t Man & 4   & 4   & 1  \\\\\n",
       "\t Man & 5   & 5   & 0  \\\\\n",
       "\t Man & 6   & 6   & 1  \\\\\n",
       "\\end{tabular}\n"
      ],
      "text/markdown": [
       "\n",
       "group | po_control | po_treatment | treatment | \n",
       "|---|---|---|---|---|---|\n",
       "| Man | 1   | 1   | 1   | \n",
       "| Man | 2   | 2   | 0   | \n",
       "| Man | 3   | 3   | 1   | \n",
       "| Man | 4   | 4   | 1   | \n",
       "| Man | 5   | 5   | 0   | \n",
       "| Man | 6   | 6   | 1   | \n",
       "\n",
       "\n"
      ],
      "text/plain": [
       "  group po_control po_treatment treatment\n",
       "1 Man   1          1            1        \n",
       "2 Man   2          2            0        \n",
       "3 Man   3          3            1        \n",
       "4 Man   4          4            1        \n",
       "5 Man   5          5            0        \n",
       "6 Man   6          6            1        "
      ]
     },
     "metadata": {},
     "output_type": "display_data"
    }
   ],
   "source": [
    "d$treatment <- randomize(20) # conduct randomization for \n",
    "                             # this experiment\n",
    "head(d)"
   ]
  },
  {
   "cell_type": "code",
   "execution_count": 31,
   "metadata": {},
   "outputs": [
    {
     "data": {
      "text/html": [
       "<table>\n",
       "<thead><tr><th scope=col>group</th><th scope=col>po_control</th><th scope=col>po_treatment</th><th scope=col>treatment</th><th scope=col>outcomes</th></tr></thead>\n",
       "<tbody>\n",
       "\t<tr><td>Man</td><td>1  </td><td>1  </td><td>1  </td><td>1  </td></tr>\n",
       "\t<tr><td>Man</td><td>2  </td><td>2  </td><td>0  </td><td>2  </td></tr>\n",
       "\t<tr><td>Man</td><td>3  </td><td>3  </td><td>1  </td><td>3  </td></tr>\n",
       "\t<tr><td>Man</td><td>4  </td><td>4  </td><td>1  </td><td>4  </td></tr>\n",
       "\t<tr><td>Man</td><td>5  </td><td>5  </td><td>0  </td><td>5  </td></tr>\n",
       "\t<tr><td>Man</td><td>6  </td><td>6  </td><td>1  </td><td>6  </td></tr>\n",
       "</tbody>\n",
       "</table>\n"
      ],
      "text/latex": [
       "\\begin{tabular}{r|lllll}\n",
       " group & po\\_control & po\\_treatment & treatment & outcomes\\\\\n",
       "\\hline\n",
       "\t Man & 1   & 1   & 1   & 1  \\\\\n",
       "\t Man & 2   & 2   & 0   & 2  \\\\\n",
       "\t Man & 3   & 3   & 1   & 3  \\\\\n",
       "\t Man & 4   & 4   & 1   & 4  \\\\\n",
       "\t Man & 5   & 5   & 0   & 5  \\\\\n",
       "\t Man & 6   & 6   & 1   & 6  \\\\\n",
       "\\end{tabular}\n"
      ],
      "text/markdown": [
       "\n",
       "group | po_control | po_treatment | treatment | outcomes | \n",
       "|---|---|---|---|---|---|\n",
       "| Man | 1   | 1   | 1   | 1   | \n",
       "| Man | 2   | 2   | 0   | 2   | \n",
       "| Man | 3   | 3   | 1   | 3   | \n",
       "| Man | 4   | 4   | 1   | 4   | \n",
       "| Man | 5   | 5   | 0   | 5   | \n",
       "| Man | 6   | 6   | 1   | 6   | \n",
       "\n",
       "\n"
      ],
      "text/plain": [
       "  group po_control po_treatment treatment outcomes\n",
       "1 Man   1          1            1         1       \n",
       "2 Man   2          2            0         2       \n",
       "3 Man   3          3            1         3       \n",
       "4 Man   4          4            1         4       \n",
       "5 Man   5          5            0         5       \n",
       "6 Man   6          6            1         6       "
      ]
     },
     "metadata": {},
     "output_type": "display_data"
    }
   ],
   "source": [
    "d$outcomes <- (d$po_treatment * d$treatment) + \n",
    "              (d$po_control*(1-d$treatment))\n",
    "head(d)"
   ]
  },
  {
   "cell_type": "code",
   "execution_count": 32,
   "metadata": {},
   "outputs": [
    {
     "data": {
      "text/html": [
       "<table>\n",
       "<thead><tr><th scope=col>group</th><th scope=col>po_control</th><th scope=col>po_treatment</th><th scope=col>treatment</th><th scope=col>outcomes</th><th scope=col>outcomes_2</th></tr></thead>\n",
       "<tbody>\n",
       "\t<tr><td>Man</td><td>1  </td><td>1  </td><td>1  </td><td>1  </td><td>1  </td></tr>\n",
       "\t<tr><td>Man</td><td>2  </td><td>2  </td><td>0  </td><td>2  </td><td>2  </td></tr>\n",
       "\t<tr><td>Man</td><td>3  </td><td>3  </td><td>1  </td><td>3  </td><td>3  </td></tr>\n",
       "\t<tr><td>Man</td><td>4  </td><td>4  </td><td>1  </td><td>4  </td><td>4  </td></tr>\n",
       "\t<tr><td>Man</td><td>5  </td><td>5  </td><td>0  </td><td>5  </td><td>5  </td></tr>\n",
       "\t<tr><td>Man</td><td>6  </td><td>6  </td><td>1  </td><td>6  </td><td>6  </td></tr>\n",
       "</tbody>\n",
       "</table>\n"
      ],
      "text/latex": [
       "\\begin{tabular}{r|llllll}\n",
       " group & po\\_control & po\\_treatment & treatment & outcomes & outcomes\\_2\\\\\n",
       "\\hline\n",
       "\t Man & 1   & 1   & 1   & 1   & 1  \\\\\n",
       "\t Man & 2   & 2   & 0   & 2   & 2  \\\\\n",
       "\t Man & 3   & 3   & 1   & 3   & 3  \\\\\n",
       "\t Man & 4   & 4   & 1   & 4   & 4  \\\\\n",
       "\t Man & 5   & 5   & 0   & 5   & 5  \\\\\n",
       "\t Man & 6   & 6   & 1   & 6   & 6  \\\\\n",
       "\\end{tabular}\n"
      ],
      "text/markdown": [
       "\n",
       "group | po_control | po_treatment | treatment | outcomes | outcomes_2 | \n",
       "|---|---|---|---|---|---|\n",
       "| Man | 1   | 1   | 1   | 1   | 1   | \n",
       "| Man | 2   | 2   | 0   | 2   | 2   | \n",
       "| Man | 3   | 3   | 1   | 3   | 3   | \n",
       "| Man | 4   | 4   | 1   | 4   | 4   | \n",
       "| Man | 5   | 5   | 0   | 5   | 5   | \n",
       "| Man | 6   | 6   | 1   | 6   | 6   | \n",
       "\n",
       "\n"
      ],
      "text/plain": [
       "  group po_control po_treatment treatment outcomes outcomes_2\n",
       "1 Man   1          1            1         1        1         \n",
       "2 Man   2          2            0         2        2         \n",
       "3 Man   3          3            1         3        3         \n",
       "4 Man   4          4            1         4        4         \n",
       "5 Man   5          5            0         5        5         \n",
       "6 Man   6          6            1         6        6         "
      ]
     },
     "metadata": {},
     "output_type": "display_data"
    }
   ],
   "source": [
    "# show on slide 51\n",
    "d$outcomes_2 <- NA\n",
    "d[d$treatment==1, 'outcomes_2'] <- d[d$treatment==1, 'po_control']\n",
    "d[d$treatment==0, 'outcomes_2'] <- d[d$treatment==0, 'po_treatment']\n",
    "\n",
    "head(d)"
   ]
  },
  {
   "cell_type": "code",
   "execution_count": 33,
   "metadata": {},
   "outputs": [
    {
     "data": {
      "text/html": [
       "<pre class=language-r><code>function (outcome, treat) \n",
       "{\n",
       "<span style=white-space:pre-wrap>    mean(outcome[treat == 1]) - mean(outcome[treat == 0])</span>\n",
       "}</code></pre>"
      ],
      "text/latex": [
       "\\begin{minted}{r}\n",
       "function (outcome, treat) \n",
       "\\{\n",
       "    mean(outcome{[}treat == 1{]}) - mean(outcome{[}treat == 0{]})\n",
       "\\}\n",
       "\\end{minted}"
      ],
      "text/markdown": [
       "```r\n",
       "function (outcome, treat) \n",
       "{\n",
       "    mean(outcome[treat == 1]) - mean(outcome[treat == 0])\n",
       "}\n",
       "```"
      ],
      "text/plain": [
       "function(outcome, treat) { \n",
       "  mean(outcome[treat==1]) - mean(outcome[treat==0])\n",
       "  }"
      ]
     },
     "metadata": {},
     "output_type": "display_data"
    }
   ],
   "source": [
    "# show on slide 56\n",
    "est_ate <- function(outcome, treat) { \n",
    "  mean(outcome[treat==1]) - mean(outcome[treat==0])\n",
    "  } \n",
    "est_ate"
   ]
  },
  {
   "cell_type": "code",
   "execution_count": 34,
   "metadata": {},
   "outputs": [],
   "source": [
    "ate <- 1.3"
   ]
  },
  {
   "cell_type": "code",
   "execution_count": 35,
   "metadata": {},
   "outputs": [],
   "source": [
    "ate <- est_ate(outcome = d$outcomes, d$treatment)"
   ]
  },
  {
   "cell_type": "code",
   "execution_count": 36,
   "metadata": {},
   "outputs": [
    {
     "data": {
      "text/html": [
       "-2.8"
      ],
      "text/latex": [
       "-2.8"
      ],
      "text/markdown": [
       "-2.8"
      ],
      "text/plain": [
       "[1] -2.8"
      ]
     },
     "metadata": {},
     "output_type": "display_data"
    }
   ],
   "source": [
    "ate"
   ]
  },
  {
   "cell_type": "code",
   "execution_count": 20,
   "metadata": {},
   "outputs": [],
   "source": [
    "ate <- 1.3"
   ]
  },
  {
   "cell_type": "code",
   "execution_count": 16,
   "metadata": {},
   "outputs": [],
   "source": [
    "ate = 1.3"
   ]
  },
  {
   "cell_type": "markdown",
   "metadata": {},
   "source": [
    "![alternate](./img/hist_animation.gif)"
   ]
  },
  {
   "cell_type": "code",
   "execution_count": 17,
   "metadata": {},
   "outputs": [
    {
     "ename": "ERROR",
     "evalue": "Error in eval(expr, envir, enclos): object 'pwd' not found\n",
     "output_type": "error",
     "traceback": [
      "Error in eval(expr, envir, enclos): object 'pwd' not found\nTraceback:\n"
     ]
    }
   ],
   "source": [
    "!pwd"
   ]
  },
  {
   "cell_type": "code",
   "execution_count": null,
   "metadata": {},
   "outputs": [],
   "source": [
    "getwd()"
   ]
  },
  {
   "cell_type": "code",
   "execution_count": null,
   "metadata": {},
   "outputs": [],
   "source": [
    "install.packages(\"IRdisplay\")"
   ]
  },
  {
   "cell_type": "code",
   "execution_count": null,
   "metadata": {},
   "outputs": [],
   "source": []
  }
 ],
 "metadata": {
  "kernelspec": {
   "display_name": "R",
   "language": "R",
   "name": "ir"
  },
  "language_info": {
   "codemirror_mode": "r",
   "file_extension": ".r",
   "mimetype": "text/x-r-source",
   "name": "R",
   "pygments_lexer": "r",
   "version": "3.4.3"
  },
  "latex_envs": {
   "LaTeX_envs_menu_present": true,
   "autoclose": false,
   "autocomplete": true,
   "bibliofile": "biblio.bib",
   "cite_by": "apalike",
   "current_citInitial": 1,
   "eqLabelWithNumbers": true,
   "eqNumInitial": 1,
   "hotkeys": {
    "equation": "Ctrl-E",
    "itemize": "Ctrl-I"
   },
   "labels_anchors": false,
   "latex_user_defs": false,
   "report_style_numbering": false,
   "user_envs_cfg": false
  }
 },
 "nbformat": 4,
 "nbformat_minor": 2
}
