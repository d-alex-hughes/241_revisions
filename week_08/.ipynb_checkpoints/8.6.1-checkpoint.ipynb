{
 "cells": [
  {
   "cell_type": "code",
   "execution_count": 1,
   "metadata": {},
   "outputs": [
    {
     "name": "stderr",
     "output_type": "stream",
     "text": [
      "Loading required package: car\n",
      "Loading required package: lmtest\n",
      "Loading required package: zoo\n",
      "\n",
      "Attaching package: ‘zoo’\n",
      "\n",
      "The following objects are masked from ‘package:base’:\n",
      "\n",
      "    as.Date, as.Date.numeric\n",
      "\n",
      "Loading required package: sandwich\n",
      "Loading required package: survival\n",
      "\n",
      "Please cite as: \n",
      "\n",
      " Hlavac, Marek (2015). stargazer: Well-Formatted Regression and Summary Statistics Tables.\n",
      " R package version 5.2. http://CRAN.R-project.org/package=stargazer \n",
      "\n"
     ]
    }
   ],
   "source": [
    "library(data.table)\n",
    "library(AER)\n",
    "library(stargazer)"
   ]
  },
  {
   "cell_type": "markdown",
   "metadata": {},
   "source": [
    "# Estimate Section 5.8 \n",
    "On page 157 of _Field Experiments_ Green and Gerber walk through estimating and reporting the compliers average causal effect (CACE) and intent to treat effect (ITT) for an experiment that they conducted in New Haven. We would like you to also produce these estimates. \n",
    "\n",
    "The next line of code loads their replication data. "
   ]
  },
  {
   "cell_type": "code",
   "execution_count": 2,
   "metadata": {},
   "outputs": [],
   "source": [
    "d <- fread(\"http://hdl.handle.net/10079/70rxwqn\")"
   ]
  },
  {
   "cell_type": "markdown",
   "metadata": {},
   "source": [
    "In this data, we select one-person households that were either pure controls or canvass only households. \n",
    "\n",
    "> *Yes, you're right* we are essentially limiting our inference to a very small subset of the US population who live by themselves. "
   ]
  },
  {
   "cell_type": "code",
   "execution_count": 5,
   "metadata": {},
   "outputs": [],
   "source": [
    "d <- d[onetreat == 1 & mailings == 0 & phongotv == 0 & persons == 1, ]"
   ]
  },
  {
   "cell_type": "markdown",
   "metadata": {},
   "source": [
    "This data set has 26 variables, most of which we're not going to be occupied with in this notebook. Most of the variables have human-legible variable names, but we'll clean up a few. "
   ]
  },
  {
   "cell_type": "code",
   "execution_count": 9,
   "metadata": {},
   "outputs": [],
   "source": [
    "setnames(d, old = c('v98', 'persngrp', 'cntany'), c('VOTED', 'ASSIGNED', 'TREATED'))"
   ]
  },
  {
   "cell_type": "code",
   "execution_count": 10,
   "metadata": {},
   "outputs": [
    {
     "name": "stdout",
     "output_type": "stream",
     "text": [
      "Classes ‘data.table’ and 'data.frame':\t7090 obs. of  26 variables:\n",
      " $ V1        : chr  \"3\" \"4\" \"10\" \"15\" ...\n",
      " $ id1       : int  14210 6818 5039 20246 399 4152 20242 13269 21206 13117 ...\n",
      " $ persons   : int  1 1 1 1 1 1 1 1 1 1 ...\n",
      " $ v98_1     : int  1 0 0 0 0 0 0 0 0 1 ...\n",
      " $ v98_2     : int  1 0 0 0 0 0 0 0 0 1 ...\n",
      " $ ASSIGNED  : int  1 1 1 1 1 1 1 1 1 1 ...\n",
      " $ mailings  : int  0 0 0 0 0 0 0 0 0 0 ...\n",
      " $ phongotv  : int  0 0 0 0 0 0 0 0 0 0 ...\n",
      " $ ward      : int  15 25 4 17 17 26 17 15 25 4 ...\n",
      " $ majpty1   : int  0 0 1 1 0 1 0 1 0 1 ...\n",
      " $ majpty2   : int  0 0 1 1 0 1 0 1 0 1 ...\n",
      " $ age1      : int  54 45 72 28 30 30 59 27 25 82 ...\n",
      " $ age2      : int  54 45 72 28 30 30 59 27 25 82 ...\n",
      " $ placebo   : int  0 0 0 0 0 0 0 0 0 0 ...\n",
      " $ vote98    : int  1 0 0 0 0 0 0 0 0 1 ...\n",
      " $ VOTED     : int  1 0 0 0 0 0 0 0 0 1 ...\n",
      " $ TREATED   : int  0 0 0 0 0 0 0 0 0 0 ...\n",
      " $ pcntany   : int  0 0 0 0 0 0 0 0 0 0 ...\n",
      " $ v96_1     : int  1 0 1 1 0 0 0 0 1 1 ...\n",
      " $ v96_0     : int  0 0 0 0 0 0 1 1 0 0 ...\n",
      " $ age       : int  54 45 72 28 30 30 59 27 25 82 ...\n",
      " $ agemiss   : int  0 0 0 0 0 0 0 0 0 0 ...\n",
      " $ agesq     : int  2916 2025 5184 784 900 900 3481 729 625 6724 ...\n",
      " $ majorpty  : int  0 0 1 1 0 1 0 1 0 1 ...\n",
      " $ onetreat  : int  1 1 1 1 1 1 1 1 1 1 ...\n",
      " $ onetreat_p: int  1 1 1 1 1 1 1 1 1 1 ...\n",
      " - attr(*, \".internal.selfref\")=<externalptr> \n"
     ]
    }
   ],
   "source": [
    "str(d)"
   ]
  },
  {
   "cell_type": "markdown",
   "metadata": {},
   "source": [
    "Here is the minimum meta-data that we think you need to conduct this work: \n",
    "- The outcome variable, `VOTED`, in the New Haven voter mobilization experiments is score 1 if the subject voted and 0 otherwise. \n",
    "- The assigned treatment is called `ASSIGNED`, and is scored 1 if the subject was asssigend to receive a visit from a canvasser and 0 otherwise. \n",
    "- The measurement for compliance is called `TREATED` and is scored 1 if the subject received any contact from the canvassers. \n",
    "\n",
    "A quick cross-tab on the `ASSIGNED` and `TREATED` show that there was one-sided non-compliance. "
   ]
  },
  {
   "cell_type": "code",
   "execution_count": 11,
   "metadata": {},
   "outputs": [
    {
     "data": {
      "text/plain": [
       "        TREATED\n",
       "ASSIGNED    0    1\n",
       "       0 5645    0\n",
       "       1 1050  395"
      ]
     },
     "metadata": {},
     "output_type": "display_data"
    }
   ],
   "source": [
    "d[ , table(ASSIGNED, TREATED)]"
   ]
  },
  {
   "cell_type": "markdown",
   "metadata": {},
   "source": [
    "# 1. Reproduce a Table \n",
    "\n",
    "Can you reproduce the table that is reported on page 150, table 5.2? \n",
    "- Don't worry about formating the table to be pretty/handome (or even just tidy). \n",
    "- Can you, using conditional statements and slices of the data, produce the values that are reported in this? \n",
    "\n",
    "We will do the first one for you. "
   ]
  },
  {
   "cell_type": "code",
   "execution_count": 12,
   "metadata": {},
   "outputs": [
    {
     "data": {
      "text/html": [
       "<table>\n",
       "<thead><tr><th scope=col>turnout_rate</th><th scope=col>number_contacted</th></tr></thead>\n",
       "<tbody>\n",
       "\t<tr><td>0.5443038</td><td>395      </td></tr>\n",
       "</tbody>\n",
       "</table>\n"
      ],
      "text/latex": [
       "\\begin{tabular}{r|ll}\n",
       " turnout\\_rate & number\\_contacted\\\\\n",
       "\\hline\n",
       "\t 0.5443038 & 395      \\\\\n",
       "\\end{tabular}\n"
      ],
      "text/markdown": [
       "\n",
       "turnout_rate | number_contacted | \n",
       "|---|\n",
       "| 0.5443038 | 395       | \n",
       "\n",
       "\n"
      ],
      "text/plain": [
       "  turnout_rate number_contacted\n",
       "1 0.5443038    395             "
      ]
     },
     "metadata": {},
     "output_type": "display_data"
    }
   ],
   "source": [
    "d[TREATED==1, .(turnout_rate = mean(VOTED), \n",
    "                number_contacted = .N)]"
   ]
  },
  {
   "cell_type": "code",
   "execution_count": null,
   "metadata": {},
   "outputs": [],
   "source": []
  },
  {
   "cell_type": "markdown",
   "metadata": {},
   "source": [
    "# 2. Estimate the ITT, $\\alpha$, and CACE using means "
   ]
  },
  {
   "cell_type": "code",
   "execution_count": 13,
   "metadata": {},
   "outputs": [
    {
     "ename": "ERROR",
     "evalue": "Error in ITT/alpha: non-numeric argument to binary operator\n",
     "output_type": "error",
     "traceback": [
      "Error in ITT/alpha: non-numeric argument to binary operator\nTraceback:\n"
     ]
    }
   ],
   "source": [
    "ITT   <- ''\n",
    "alpha <- ''\n",
    "CACE <- ITT / alpha"
   ]
  },
  {
   "cell_type": "markdown",
   "metadata": {},
   "source": [
    "# 3. Produce the CACE using two least-squares models\n",
    "1. Estimate one model `first` that is the first-stage regression in a 2SLS. \n",
    "2. Estimate one model `second` that is the second-stage regression in a 2SLS. \n",
    "\n",
    "(*Hint*: You shouldn't need it, but Green and Gerber walk us through this pretty clearly.) "
   ]
  },
  {
   "cell_type": "code",
   "execution_count": null,
   "metadata": {},
   "outputs": [],
   "source": []
  },
  {
   "cell_type": "markdown",
   "metadata": {},
   "source": [
    "# 4. Produce the CACE using 2SLS \n",
    "\n",
    "Use the `ivreg` method from `AER` to estimate this CACE. \n",
    "\n",
    "1. Does this estimate match with what you estimated when you did this yourself? \n",
    "2. Use the `confint` method on the result of the model that you estimate. Does this confidence interval for the CACE overlap with zero? Given what you see, would you conclude that there is, or is not, a CACE of being treated? "
   ]
  },
  {
   "cell_type": "code",
   "execution_count": null,
   "metadata": {},
   "outputs": [],
   "source": []
  }
 ],
 "metadata": {
  "kernelspec": {
   "display_name": "R",
   "language": "R",
   "name": "ir"
  },
  "language_info": {
   "codemirror_mode": "r",
   "file_extension": ".r",
   "mimetype": "text/x-r-source",
   "name": "R",
   "pygments_lexer": "r",
   "version": "3.4.3"
  }
 },
 "nbformat": 4,
 "nbformat_minor": 2
}
