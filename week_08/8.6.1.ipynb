{
 "cells": [
  {
   "cell_type": "code",
   "execution_count": null,
   "metadata": {},
   "outputs": [],
   "source": [
    "library(data.table)\n",
    "library(AER)\n",
    "library(stargazer)"
   ]
  },
  {
   "cell_type": "markdown",
   "metadata": {},
   "source": [
    "# Estimate Section 5.8 \n",
    "On page 157 of _Field Experiments_ Green and Gerber walk through estimating and reporting the compliers average causal effect (CACE) and intent to treat effect (ITT) for an experiment that they conducted in New Haven. We would like you to also produce these estimates. \n",
    "\n",
    "The next line of code loads their replication data. "
   ]
  },
  {
   "cell_type": "code",
   "execution_count": null,
   "metadata": {},
   "outputs": [],
   "source": [
    "d <- fread(\"http://hdl.handle.net/10079/70rxwqn\")"
   ]
  },
  {
   "cell_type": "markdown",
   "metadata": {},
   "source": [
    "In this data, we select one-person households that were either pure controls or canvass only households. \n",
    "\n",
    "> *Yes, you're right* we are essentially limiting our inference to a very small subset of the US population who live by themselves. "
   ]
  },
  {
   "cell_type": "code",
   "execution_count": null,
   "metadata": {},
   "outputs": [],
   "source": [
    "d <- d[onetreat == 1 & mailings == 0 & phongotv == 0 & persons == 1, ]"
   ]
  },
  {
   "cell_type": "markdown",
   "metadata": {},
   "source": [
    "This data set has 26 variables, most of which we're not going to be occupied with in this notebook. Most of the variables have human-legible variable names, but we'll clean up a few. "
   ]
  },
  {
   "cell_type": "code",
   "execution_count": null,
   "metadata": {},
   "outputs": [],
   "source": [
    "setnames(d, old = c('v98', 'persngrp', 'cntany'), c('VOTED', 'ASSIGNED', 'TREATED'))"
   ]
  },
  {
   "cell_type": "code",
   "execution_count": null,
   "metadata": {},
   "outputs": [],
   "source": [
    "str(d)"
   ]
  },
  {
   "cell_type": "markdown",
   "metadata": {},
   "source": [
    "Here is the minimum meta-data that we think you need to conduct this work: \n",
    "- The outcome variable, `VOTED`, in the New Haven voter mobilization experiments is score 1 if the subject voted and 0 otherwise. \n",
    "- The assigned treatment is called `ASSIGNED`, and is scored 1 if the subject was asssigend to receive a visit from a canvasser and 0 otherwise. \n",
    "- The measurement for compliance is called `TREATED` and is scored 1 if the subject received any contact from the canvassers. \n",
    "\n",
    "A quick cross-tab on the `ASSIGNED` and `TREATED` show that there was one-sided non-compliance. "
   ]
  },
  {
   "cell_type": "code",
   "execution_count": null,
   "metadata": {},
   "outputs": [],
   "source": [
    "d[ , table(ASSIGNED, TREATED)]"
   ]
  },
  {
   "cell_type": "markdown",
   "metadata": {},
   "source": [
    "# 1. Reproduce a Table \n",
    "\n",
    "Can you reproduce the table that is reported on page 150, table 5.2? \n",
    "- Don't worry about formating the table to be pretty/handome (or even just tidy). \n",
    "- Can you, using conditional statements and slices of the data, produce the values that are reported in this? \n",
    "\n",
    "We will do the first one for you. "
   ]
  },
  {
   "cell_type": "code",
   "execution_count": null,
   "metadata": {},
   "outputs": [],
   "source": [
    "d[TREATED==1, .(turnout_rate = mean(VOTED), \n",
    "                number_contacted = .N)]"
   ]
  },
  {
   "cell_type": "code",
   "execution_count": null,
   "metadata": {},
   "outputs": [],
   "source": []
  },
  {
   "cell_type": "markdown",
   "metadata": {},
   "source": [
    "# 2. Estimate the ITT, $\\alpha$, and CACE using means "
   ]
  },
  {
   "cell_type": "code",
   "execution_count": null,
   "metadata": {},
   "outputs": [],
   "source": [
    "ITT   <- ''\n",
    "alpha <- ''\n",
    "CACE <- ITT / alpha"
   ]
  },
  {
   "cell_type": "markdown",
   "metadata": {},
   "source": [
    "# 3. Produce the CACE using two least-squares models\n",
    "1. Estimate one model `first` that is the first-stage regression in a 2SLS. \n",
    "2. Estimate one model `second` that is the second-stage regression in a 2SLS. \n",
    "\n",
    "(*Hint*: You shouldn't need it, but Green and Gerber walk us through this pretty clearly.) "
   ]
  },
  {
   "cell_type": "code",
   "execution_count": null,
   "metadata": {},
   "outputs": [],
   "source": []
  },
  {
   "cell_type": "markdown",
   "metadata": {},
   "source": [
    "# 4. Produce the CACE using 2SLS \n",
    "\n",
    "Use the `ivreg` method from `AER` to estimate this CACE. \n",
    "\n",
    "1. Does this estimate match with what you estimated when you did this yourself? \n",
    "2. Use the `confint` method on the result of the model that you estimate. Does this confidence interval for the CACE overlap with zero? Given what you see, would you conclude that there is, or is not, a CACE of being treated? "
   ]
  },
  {
   "cell_type": "code",
   "execution_count": null,
   "metadata": {},
   "outputs": [],
   "source": []
  }
 ],
 "metadata": {
  "kernelspec": {
   "display_name": "R",
   "language": "R",
   "name": "ir"
  },
  "language_info": {
   "codemirror_mode": "r",
   "file_extension": ".r",
   "mimetype": "text/x-r-source",
   "name": "R",
   "pygments_lexer": "r",
   "version": "3.4.3"
  }
 },
 "nbformat": 4,
 "nbformat_minor": 2
}
