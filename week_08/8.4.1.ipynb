{
 "cells": [
  {
   "cell_type": "code",
   "execution_count": 69,
   "metadata": {},
   "outputs": [
    {
     "name": "stderr",
     "output_type": "stream",
     "text": [
      "\n",
      "Please cite as: \n",
      "\n",
      " Hlavac, Marek (2015). stargazer: Well-Formatted Regression and Summary Statistics Tables.\n",
      " R package version 5.2. http://CRAN.R-project.org/package=stargazer \n",
      "\n"
     ]
    }
   ],
   "source": [
    "library(data.table) \n",
    "library(lmtest)\n",
    "library(sandwich)\n",
    "library(stargazer)"
   ]
  },
  {
   "cell_type": "markdown",
   "metadata": {},
   "source": [
    "# Intent to Treat and Compliers Average Treatment Effects \n",
    "\n",
    "So far this week, we've been thinking about a new concept -- the possiblity that we tell people that they have been randomly placed in a treatment condition, but that they don't reliably take that condition. \n",
    "\n",
    "To this point, this has come with attendant changes in our notational system: \n",
    "\n",
    "- `d` is the *dose* of treatment that subjects receive; \n",
    "- `z` is the *treatment group* that the subject was randomly assigned to. \n",
    "\n",
    "Before, we had made the simplifying assumption that $z_{i}=1 \\rightarrow d_{i}=1$. In this *brave new world* it might not be the case that that this relationship alwasys holds. That is, it might be that we have assigned someone to take the treatment, but they are a *never taker* who *doesn't comply* with that assignment. That is, $z_{i}=1$, but $d_{i}=0$. "
   ]
  },
  {
   "cell_type": "markdown",
   "metadata": {},
   "source": [
    "## Consequences of Non Compliance \n",
    "\n",
    "What happens to our estimated treatment effect when there is non-compliance? Well, that actually depends \"on the arrangement of the data\" -- which is just a jargon way to say that the two-group estimate could be **larger** or **smaller** than the true causal effect, depending on the covariacne relationships in the data. "
   ]
  },
  {
   "cell_type": "markdown",
   "metadata": {},
   "source": [
    "## Make Data \n",
    "\n",
    "Let's make a quick function that will produce data. This time, we are going to write a short function that will let us produce data either *with random non-compliance* or *with systematic non-compliance*. "
   ]
  },
  {
   "cell_type": "code",
   "execution_count": 73,
   "metadata": {},
   "outputs": [],
   "source": [
    "make_data <- function(nrows=1000, random_non_compliance=TRUE, treat_size=5) { \n",
    "    ## this function will make data for the purposes of learning\n",
    "    ## about how  random or non-random non-compliance will change\n",
    "    ## a two-group difference estimate of those who are treated.\n",
    "\n",
    "    require(data.table, quietly = TRUE)\n",
    "    \n",
    "    d <- data.table(id = 1:nrows) \n",
    "\n",
    "    d[ , y0 := rnorm(nrows, mean = 10)]\n",
    "    d[ , tau := rnorm(nrows, mean = treat_size)]\n",
    "    d[ , y1 := y0 + tau]\n",
    "\n",
    "    d[ , assigned := sample(0:1, .N, replace=T, prob = c(0.5, 0.5))] # z in the book\n",
    "    \n",
    "    d[assigned == 0, treated := 0L] \n",
    "    \n",
    "    if(random_non_compliance) {\n",
    "        ## random non-compliance\n",
    "        d[assigned == 1,\n",
    "          treated := sample(c(1,0), size=.N, replace=TRUE, prob=c(.7, .3))]\n",
    "    } else {\n",
    "        ## non-random non-compliance; based on potential outcomes to treatment \n",
    "        d[assigned == 1 & y1 > mean(y1),\n",
    "          treated := sample(1:0, size=.N, replace=TRUE, prob=c(.7, .3))]\n",
    "        d[assigned == 1 & y1 < mean(y1),\n",
    "          treated := sample(1:0, size=.N, replace=TRUE, prob=c(.2, .8))]\n",
    "    }\n",
    "\n",
    "    d[treated == 1, Y := y1]\n",
    "    d[treated == 0, Y := y0]\n",
    "\n",
    "    return(d)\n",
    "\n",
    "}"
   ]
  },
  {
   "cell_type": "markdown",
   "metadata": {},
   "source": [
    "## Questions of Understanding \n",
    "1. What is happening in the `if` block in this function? Among the people who are assigned to treatment: \n",
    "  1. What information does the `treated` variable encode? \n",
    "  2. What does the `sample` function do, and what is the `prob` argument to this function? \n",
    "2. What is happening in the `else` block in this function? \n",
    "  1. What are the filtering statements doing and how are each different? \n",
    "  2. If someone's potential outcomes to treatment are higher than average, are they more likely to comply than someone whose potential outcomes to treatment are lower than average? How do you know this? "
   ]
  },
  {
   "cell_type": "code",
   "execution_count": 16,
   "metadata": {},
   "outputs": [
    {
     "data": {
      "text/html": [
       "<table>\n",
       "<thead><tr><th scope=col>id</th><th scope=col>y0</th><th scope=col>tau</th><th scope=col>y1</th><th scope=col>assigned</th><th scope=col>treated</th><th scope=col>Y</th></tr></thead>\n",
       "<tbody>\n",
       "\t<tr><td>1        </td><td>9.224055 </td><td>7.356996 </td><td>16.58105 </td><td>1        </td><td>0        </td><td> 9.224055</td></tr>\n",
       "\t<tr><td>2        </td><td>9.226536 </td><td>6.047394 </td><td>15.27393 </td><td>1        </td><td>1        </td><td>15.273930</td></tr>\n",
       "\t<tr><td>3        </td><td>9.187702 </td><td>4.780534 </td><td>13.96824 </td><td>0        </td><td>0        </td><td> 9.187702</td></tr>\n",
       "\t<tr><td>4        </td><td>9.812834 </td><td>2.878594 </td><td>12.69143 </td><td>0        </td><td>0        </td><td> 9.812834</td></tr>\n",
       "\t<tr><td>5        </td><td>7.694449 </td><td>5.143330 </td><td>12.83778 </td><td>1        </td><td>0        </td><td> 7.694449</td></tr>\n",
       "\t<tr><td>6        </td><td>9.236976 </td><td>4.163977 </td><td>13.40095 </td><td>0        </td><td>0        </td><td> 9.236976</td></tr>\n",
       "</tbody>\n",
       "</table>\n"
      ],
      "text/latex": [
       "\\begin{tabular}{r|lllllll}\n",
       " id & y0 & tau & y1 & assigned & treated & Y\\\\\n",
       "\\hline\n",
       "\t 1         & 9.224055  & 7.356996  & 16.58105  & 1         & 0         &  9.224055\\\\\n",
       "\t 2         & 9.226536  & 6.047394  & 15.27393  & 1         & 1         & 15.273930\\\\\n",
       "\t 3         & 9.187702  & 4.780534  & 13.96824  & 0         & 0         &  9.187702\\\\\n",
       "\t 4         & 9.812834  & 2.878594  & 12.69143  & 0         & 0         &  9.812834\\\\\n",
       "\t 5         & 7.694449  & 5.143330  & 12.83778  & 1         & 0         &  7.694449\\\\\n",
       "\t 6         & 9.236976  & 4.163977  & 13.40095  & 0         & 0         &  9.236976\\\\\n",
       "\\end{tabular}\n"
      ],
      "text/markdown": [
       "\n",
       "id | y0 | tau | y1 | assigned | treated | Y | \n",
       "|---|---|---|---|---|---|\n",
       "| 1         | 9.224055  | 7.356996  | 16.58105  | 1         | 0         |  9.224055 | \n",
       "| 2         | 9.226536  | 6.047394  | 15.27393  | 1         | 1         | 15.273930 | \n",
       "| 3         | 9.187702  | 4.780534  | 13.96824  | 0         | 0         |  9.187702 | \n",
       "| 4         | 9.812834  | 2.878594  | 12.69143  | 0         | 0         |  9.812834 | \n",
       "| 5         | 7.694449  | 5.143330  | 12.83778  | 1         | 0         |  7.694449 | \n",
       "| 6         | 9.236976  | 4.163977  | 13.40095  | 0         | 0         |  9.236976 | \n",
       "\n",
       "\n"
      ],
      "text/plain": [
       "  id y0       tau      y1       assigned treated Y        \n",
       "1 1  9.224055 7.356996 16.58105 1        0        9.224055\n",
       "2 2  9.226536 6.047394 15.27393 1        1       15.273930\n",
       "3 3  9.187702 4.780534 13.96824 0        0        9.187702\n",
       "4 4  9.812834 2.878594 12.69143 0        0        9.812834\n",
       "5 5  7.694449 5.143330 12.83778 1        0        7.694449\n",
       "6 6  9.236976 4.163977 13.40095 0        0        9.236976"
      ]
     },
     "metadata": {},
     "output_type": "display_data"
    }
   ],
   "source": [
    "d <- make_data(nrows = 1000, random_non_compliance = TRUE)\n",
    "head(d) "
   ]
  },
  {
   "cell_type": "markdown",
   "metadata": {},
   "source": [
    "This data.table `d` has a lot of infomration that we wouldn't have access to in the real world when we run the experiment. In the real world, instead we would only observe: "
   ]
  },
  {
   "cell_type": "code",
   "execution_count": 17,
   "metadata": {},
   "outputs": [],
   "source": [
    "obs <- d[ , .(assigned, treated, Y)]"
   ]
  },
  {
   "cell_type": "markdown",
   "metadata": {},
   "source": [
    "With this data in hand we can calculate all of the causal quantities that we're after. Horray! "
   ]
  },
  {
   "cell_type": "markdown",
   "metadata": {},
   "source": [
    "### Estimate the Intent to Treat Effect \n",
    "\n",
    "The intent to treat effect is the difference between the group that we assign to receive treatment and the group that we assign to receive control. Note that this isn't necessairily people who took treatment and contorl, in this brave new world people are able to choose whether or not to take the thing they are assigned to. \n",
    "\n",
    "How do we calculate the ITT using a difference in means estimator? *Just the same way we always have!* "
   ]
  },
  {
   "cell_type": "code",
   "execution_count": 18,
   "metadata": {},
   "outputs": [
    {
     "data": {
      "text/html": [
       "3.51294421624265"
      ],
      "text/latex": [
       "3.51294421624265"
      ],
      "text/markdown": [
       "3.51294421624265"
      ],
      "text/plain": [
       "[1] 3.512944"
      ]
     },
     "metadata": {},
     "output_type": "display_data"
    }
   ],
   "source": [
    "itt <- obs[ , .(mean_y = mean(Y)), keyby = .(assigned)][ , diff(mean_y)]\n",
    "itt"
   ]
  },
  {
   "cell_type": "markdown",
   "metadata": {},
   "source": [
    "Wait, but didn't we set the treatment effect above to be equal to 5 on average? "
   ]
  },
  {
   "cell_type": "code",
   "execution_count": 19,
   "metadata": {},
   "outputs": [
    {
     "data": {
      "text/html": [
       "5.02209705587328"
      ],
      "text/latex": [
       "5.02209705587328"
      ],
      "text/markdown": [
       "5.02209705587328"
      ],
      "text/plain": [
       "[1] 5.022097"
      ]
     },
     "metadata": {},
     "output_type": "display_data"
    }
   ],
   "source": [
    "d[ , mean(tau)]"
   ]
  },
  {
   "cell_type": "markdown",
   "metadata": {},
   "source": [
    "Why then are we generating an intent to treat that is so much smaller than the true treatment effect in the data? \n",
    "\n",
    "Among the people that we assigned to take the treatment, what proportion of them actually took it? We can answer this question with a simple subset and average. "
   ]
  },
  {
   "cell_type": "code",
   "execution_count": 20,
   "metadata": {},
   "outputs": [],
   "source": [
    "alpha <- d[assigned == 1, mean(treated)]"
   ]
  },
  {
   "cell_type": "markdown",
   "metadata": {},
   "source": [
    "And so, with both the intent to treat (`itt`) and the compliance rate (`alpha`) calculated we can produce a reliable estiamte of the compliers causal effect. "
   ]
  },
  {
   "cell_type": "code",
   "execution_count": 21,
   "metadata": {},
   "outputs": [
    {
     "data": {
      "text/html": [
       "5.04343745665245"
      ],
      "text/latex": [
       "5.04343745665245"
      ],
      "text/markdown": [
       "5.04343745665245"
      ],
      "text/plain": [
       "[1] 5.043437"
      ]
     },
     "metadata": {},
     "output_type": "display_data"
    }
   ],
   "source": [
    "itt / alpha"
   ]
  },
  {
   "cell_type": "markdown",
   "metadata": {},
   "source": [
    "It isn't *exactly* the causal effect that we created when we produce `tau` in the `make_data` function, but the differences are only a product of the limited sample size that we are working with. If, rather than 1,000 observations, we had 1,000,000 we would be very, *very* close. "
   ]
  },
  {
   "cell_type": "code",
   "execution_count": 26,
   "metadata": {},
   "outputs": [
    {
     "data": {
      "text/html": [
       "4.99983080424848"
      ],
      "text/latex": [
       "4.99983080424848"
      ],
      "text/markdown": [
       "4.99983080424848"
      ],
      "text/plain": [
       "[1] 4.999831"
      ]
     },
     "metadata": {},
     "output_type": "display_data"
    }
   ],
   "source": [
    "d_6     <- make_data(nrows = 1e6)\n",
    "itt_6   <- d_6[ , .(mean_y = mean(Y)), keyby = .(assigned)][ , diff(mean_y)]\n",
    "alpha_6 <- d_6[assigned==1, mean(treated)]\n",
    "cace_6  <- itt_6/alpha_6\n",
    "cace_6"
   ]
  },
  {
   "cell_type": "markdown",
   "metadata": {},
   "source": [
    "# Estimate the same quantities with linear models \n",
    "\n",
    "As with every two-group estimator in the course, we can also estimate this quantity using linear models. Because the design work produces solid, causal contrasts, the estimators are always easy! \n",
    "\n",
    "But, with a linear model, we could possibly include additional covariates that might improve the efficiency of the estimates (thereby producing more power). \n",
    "\n",
    "To estiamte the CACE using linear models, we can produce the same sets of estimates as before, just with models. "
   ]
  },
  {
   "cell_type": "code",
   "execution_count": 27,
   "metadata": {},
   "outputs": [],
   "source": [
    "model_itt <- d[ , lm(Y ~ assigned)]\n",
    "model_compliance <- d[ , lm(treated ~ assigned)]"
   ]
  },
  {
   "cell_type": "markdown",
   "metadata": {},
   "source": [
    "Each of these models will have coefficients and standard error estiamtes. For example, consider the summary of the `model_itt`. "
   ]
  },
  {
   "cell_type": "code",
   "execution_count": 30,
   "metadata": {},
   "outputs": [
    {
     "data": {
      "text/plain": [
       "\n",
       "t test of coefficients:\n",
       "\n",
       "            Estimate Std. Error t value  Pr(>|t|)    \n",
       "(Intercept) 9.980116   0.088207 113.144 < 2.2e-16 ***\n",
       "assigned    3.512944   0.125882  27.907 < 2.2e-16 ***\n",
       "---\n",
       "Signif. codes:  0 ‘***’ 0.001 ‘**’ 0.01 ‘*’ 0.05 ‘.’ 0.1 ‘ ’ 1\n"
      ]
     },
     "metadata": {},
     "output_type": "display_data"
    }
   ],
   "source": [
    "coeftest(model_itt)"
   ]
  },
  {
   "cell_type": "markdown",
   "metadata": {},
   "source": [
    "The `(Intercept)` estimates the average in the control group (which we set to be 10 in the `make_data` function call), and the `assigned` coefficient estimates the marginal change between the treatment and control groups. It is **exactly** what we calculated in the difference in means! :+1:\n",
    "\n",
    "The same holds for the compliance rate model. "
   ]
  },
  {
   "cell_type": "code",
   "execution_count": 31,
   "metadata": {},
   "outputs": [
    {
     "data": {
      "text/plain": [
       "\n",
       "t test of coefficients:\n",
       "\n",
       "               Estimate  Std. Error t value Pr(>|t|)    \n",
       "(Intercept) -1.6852e-16  1.4294e-02   0.000        1    \n",
       "assigned     6.9654e-01  2.0399e-02  34.146   <2e-16 ***\n",
       "---\n",
       "Signif. codes:  0 ‘***’ 0.001 ‘**’ 0.01 ‘*’ 0.05 ‘.’ 0.1 ‘ ’ 1\n"
      ]
     },
     "metadata": {},
     "output_type": "display_data"
    }
   ],
   "source": [
    "coeftest(model_compliance)"
   ]
  },
  {
   "cell_type": "markdown",
   "metadata": {},
   "source": [
    "This value is exactly the same as the difference in means that we calculated in the difference in means calculation for `alpha`. \n",
    "\n",
    "We could use these coefficients to indirectly compute the CACE in the following ways: "
   ]
  },
  {
   "cell_type": "code",
   "execution_count": 33,
   "metadata": {},
   "outputs": [
    {
     "data": {
      "text/html": [
       "<strong>assigned:</strong> 5.04343745665245"
      ],
      "text/latex": [
       "\\textbf{assigned:} 5.04343745665245"
      ],
      "text/markdown": [
       "**assigned:** 5.04343745665245"
      ],
      "text/plain": [
       "assigned \n",
       "5.043437 "
      ]
     },
     "metadata": {},
     "output_type": "display_data"
    }
   ],
   "source": [
    "(coef(model_itt) / coef(model_compliance))[2]"
   ]
  },
  {
   "cell_type": "code",
   "execution_count": 34,
   "metadata": {},
   "outputs": [
    {
     "data": {
      "text/html": [
       "<strong>assigned:</strong> 5.04343745665245"
      ],
      "text/latex": [
       "\\textbf{assigned:} 5.04343745665245"
      ],
      "text/markdown": [
       "**assigned:** 5.04343745665245"
      ],
      "text/plain": [
       "assigned \n",
       "5.043437 "
      ]
     },
     "metadata": {},
     "output_type": "display_data"
    }
   ],
   "source": [
    "coef(model_itt)[2] / coef(model_compliance)[2]"
   ]
  },
  {
   "cell_type": "markdown",
   "metadata": {},
   "source": [
    "Note that this does not have  clear estimate of the uncertainty associated with it. That is a drag... \n",
    "\n",
    "In order to estimate with a reliable standard error, we can turn to \n",
    "two stage least squares (2SLS), which is a particular, feasible estimate of an instrumental variables regression. \n",
    "\n",
    "2SLS has the benefit of:\n",
    "  \n",
    "  1. Doing _exactly_ the same thing that the CACE = ITT / ITT_{d}; but,\n",
    "  2. Doing it in a way that has known standard errors that are quickly and easily computable. "
   ]
  },
  {
   "cell_type": "markdown",
   "metadata": {},
   "source": [
    "# Two Stage Least Squares \n",
    "\n",
    "2SLS are, rather creatively named because there are **two stages of least squares estimates**. Hey, nobody ever accused economists for being particularily creative... \n",
    "\n",
    "Here's how this process works: \n",
    "\n",
    "## In the first stage: \n",
    "1. Estimate the proportion of people who are receive treatment as a function of being assigned to treatment. \n",
    "2. Then make predictions about the **probability** that someone is treated. These predictions, because of an orthagonal projection feature of OLS regression, are: \n",
    "  - Uncorrelated with anything in the world; \n",
    "  - With the single exception of the treatment assignment (which itself is uncorrelated with anything in the world."
   ]
  },
  {
   "cell_type": "code",
   "execution_count": 41,
   "metadata": {},
   "outputs": [
    {
     "data": {},
     "metadata": {},
     "output_type": "display_data"
    },
    {
     "data": {
      "text/html": [
       "<table>\n",
       "<thead><tr><th scope=col>id</th><th scope=col>y0</th><th scope=col>tau</th><th scope=col>y1</th><th scope=col>assigned</th><th scope=col>treated</th><th scope=col>Y</th><th scope=col>predicted_treatment</th></tr></thead>\n",
       "<tbody>\n",
       "\t<tr><td>1        </td><td>9.224055 </td><td>7.356996 </td><td>16.58105 </td><td>1        </td><td>0        </td><td> 9.224055</td><td>0.697    </td></tr>\n",
       "\t<tr><td>2        </td><td>9.226536 </td><td>6.047394 </td><td>15.27393 </td><td>1        </td><td>1        </td><td>15.273930</td><td>0.697    </td></tr>\n",
       "\t<tr><td>3        </td><td>9.187702 </td><td>4.780534 </td><td>13.96824 </td><td>0        </td><td>0        </td><td> 9.187702</td><td>0.000    </td></tr>\n",
       "\t<tr><td>4        </td><td>9.812834 </td><td>2.878594 </td><td>12.69143 </td><td>0        </td><td>0        </td><td> 9.812834</td><td>0.000    </td></tr>\n",
       "\t<tr><td>5        </td><td>7.694449 </td><td>5.143330 </td><td>12.83778 </td><td>1        </td><td>0        </td><td> 7.694449</td><td>0.697    </td></tr>\n",
       "\t<tr><td>6        </td><td>9.236976 </td><td>4.163977 </td><td>13.40095 </td><td>0        </td><td>0        </td><td> 9.236976</td><td>0.000    </td></tr>\n",
       "</tbody>\n",
       "</table>\n"
      ],
      "text/latex": [
       "\\begin{tabular}{r|llllllll}\n",
       " id & y0 & tau & y1 & assigned & treated & Y & predicted\\_treatment\\\\\n",
       "\\hline\n",
       "\t 1         & 9.224055  & 7.356996  & 16.58105  & 1         & 0         &  9.224055 & 0.697    \\\\\n",
       "\t 2         & 9.226536  & 6.047394  & 15.27393  & 1         & 1         & 15.273930 & 0.697    \\\\\n",
       "\t 3         & 9.187702  & 4.780534  & 13.96824  & 0         & 0         &  9.187702 & 0.000    \\\\\n",
       "\t 4         & 9.812834  & 2.878594  & 12.69143  & 0         & 0         &  9.812834 & 0.000    \\\\\n",
       "\t 5         & 7.694449  & 5.143330  & 12.83778  & 1         & 0         &  7.694449 & 0.697    \\\\\n",
       "\t 6         & 9.236976  & 4.163977  & 13.40095  & 0         & 0         &  9.236976 & 0.000    \\\\\n",
       "\\end{tabular}\n"
      ],
      "text/markdown": [
       "\n",
       "id | y0 | tau | y1 | assigned | treated | Y | predicted_treatment | \n",
       "|---|---|---|---|---|---|\n",
       "| 1         | 9.224055  | 7.356996  | 16.58105  | 1         | 0         |  9.224055 | 0.697     | \n",
       "| 2         | 9.226536  | 6.047394  | 15.27393  | 1         | 1         | 15.273930 | 0.697     | \n",
       "| 3         | 9.187702  | 4.780534  | 13.96824  | 0         | 0         |  9.187702 | 0.000     | \n",
       "| 4         | 9.812834  | 2.878594  | 12.69143  | 0         | 0         |  9.812834 | 0.000     | \n",
       "| 5         | 7.694449  | 5.143330  | 12.83778  | 1         | 0         |  7.694449 | 0.697     | \n",
       "| 6         | 9.236976  | 4.163977  | 13.40095  | 0         | 0         |  9.236976 | 0.000     | \n",
       "\n",
       "\n"
      ],
      "text/plain": [
       "  id y0       tau      y1       assigned treated Y         predicted_treatment\n",
       "1 1  9.224055 7.356996 16.58105 1        0        9.224055 0.697              \n",
       "2 2  9.226536 6.047394 15.27393 1        1       15.273930 0.697              \n",
       "3 3  9.187702 4.780534 13.96824 0        0        9.187702 0.000              \n",
       "4 4  9.812834 2.878594 12.69143 0        0        9.812834 0.000              \n",
       "5 5  7.694449 5.143330 12.83778 1        0        7.694449 0.697              \n",
       "6 6  9.236976 4.163977 13.40095 0        0        9.236976 0.000              "
      ]
     },
     "metadata": {},
     "output_type": "display_data"
    }
   ],
   "source": [
    "## Here we're fitting the model, and then making\n",
    "## predictions from that fitted model. \n",
    "## \n",
    "## Note that I'm rounding the predictions, just so they \n",
    "## print more nicely. There's no math reason for doing this. \n",
    "\n",
    "model_first <- d[ , lm(treated ~ assigned)]\n",
    "d[ , predicted_treatment := round(predict(model_first), 3)]\n",
    "\n",
    "head(d)"
   ]
  },
  {
   "cell_type": "code",
   "execution_count": 56,
   "metadata": {},
   "outputs": [
    {
     "data": {},
     "metadata": {},
     "output_type": "display_data"
    },
    {
     "data": {
      "image/png": "[encoded data removed]",
      "text/plain": [
       "Plot with title “Covariance is: 0.10”"
      ]
     },
     "metadata": {},
     "output_type": "display_data"
    }
   ],
   "source": [
    "d[ , epsilon := round(resid(model_first), 2)]\n",
    "model_residuals <- d[ , lm(epsilon ~ predicted_treatment)]\n",
    "plot(jitter(d$predicted_treatment), jitter(d$epsilon), \n",
    "     main = sprintf(\"Covariance is: %.2f\", cov(d$treated, d$epsilon)), \n",
    "     pch = 'x', col = 'steelblue')\n",
    "abline(model_residuals, col = 'darkorange', lwd = 2)"
   ]
  },
  {
   "cell_type": "markdown",
   "metadata": {},
   "source": [
    "## In the second stage\n",
    "\n",
    "In the second stage of OLS regressions, use these `predicted_treatment` variables that you have just constructed as the **exogeneous, random, treatment** indicator in a regression on the outcome you're interested in, Y. "
   ]
  },
  {
   "cell_type": "code",
   "execution_count": 59,
   "metadata": {},
   "outputs": [
    {
     "data": {
      "text/plain": [
       "\n",
       "t test of coefficients:\n",
       "\n",
       "                    Estimate Std. Error t value  Pr(>|t|)    \n",
       "(Intercept)         9.980116   0.044962 221.967 < 2.2e-16 ***\n",
       "predicted_treatment 5.040092   0.183229  27.507 < 2.2e-16 ***\n",
       "---\n",
       "Signif. codes:  0 ‘***’ 0.001 ‘**’ 0.01 ‘*’ 0.05 ‘.’ 0.1 ‘ ’ 1\n"
      ]
     },
     "metadata": {},
     "output_type": "display_data"
    }
   ],
   "source": [
    "second <- d[ , lm(Y ~ predicted_treatment)]\n",
    "coeftest(second, vcovHC(second, type = 'HC3'))"
   ]
  },
  {
   "cell_type": "markdown",
   "metadata": {},
   "source": [
    "Shoot dang! That's got an estimate of the CACE, and also a standard error surrounding it that is informative of our uncertainty in that parameter estimte. That means that we can make an inference about this effect. :tada: "
   ]
  },
  {
   "cell_type": "markdown",
   "metadata": {},
   "source": [
    "# Using built packages \n",
    "\n",
    "As with most stats in R, there is a pre-built version of this 2SLS. Also, as with most stats in R, it isn't hard to do this by hand, yourself. \n",
    "\n",
    "However, the 2SLS that is built is really good, and this is a pretty common task. So, we think it is worth being familiar with the syntax. "
   ]
  },
  {
   "cell_type": "code",
   "execution_count": 64,
   "metadata": {},
   "outputs": [],
   "source": [
    "library(AER)"
   ]
  },
  {
   "cell_type": "markdown",
   "metadata": {},
   "source": [
    "In the model below, the outcome variable is in the typical spot, to the left of the tilde. However there are more model terms in the formula. \n",
    "- To the right of the pipe -- `|` -- is the exogeneous thing that we actually *got to assign* and is random. \n",
    "- To the left of the pipe are the things that are not exogeneous, or at least not fully. "
   ]
  },
  {
   "cell_type": "code",
   "execution_count": 65,
   "metadata": {},
   "outputs": [],
   "source": [
    "model_iv <- d[ , ivreg(Y ~ treated | assigned)]"
   ]
  },
  {
   "cell_type": "code",
   "execution_count": 66,
   "metadata": {},
   "outputs": [
    {
     "data": {
      "text/plain": [
       "\n",
       "Call:\n",
       "ivreg(formula = Y ~ treated | assigned)\n",
       "\n",
       "Residuals:\n",
       "     Min       1Q   Median       3Q      Max \n",
       "-5.79510 -0.71198 -0.01655  0.72737  3.53606 \n",
       "\n",
       "Coefficients:\n",
       "            Estimate Std. Error t value Pr(>|t|)    \n",
       "(Intercept)  9.98012    0.05081  196.43   <2e-16 ***\n",
       "treated      5.04344    0.10410   48.45   <2e-16 ***\n",
       "\n",
       "Diagnostic tests:\n",
       "                 df1 df2 statistic p-value    \n",
       "Weak instruments   1 998      1166  <2e-16 ***\n",
       "Wu-Hausman         1 997         0   0.995    \n",
       "Sargan             0  NA        NA      NA    \n",
       "---\n",
       "Signif. codes:  0 ‘***’ 0.001 ‘**’ 0.01 ‘*’ 0.05 ‘.’ 0.1 ‘ ’ 1\n",
       "\n",
       "Residual standard error: 1.146 on 998 degrees of freedom\n",
       "Multiple R-Squared: 0.8136,\tAdjusted R-squared: 0.8134 \n",
       "Wald test:  2347 on 1 and 998 DF,  p-value: < 2.2e-16 \n"
      ]
     },
     "metadata": {},
     "output_type": "display_data"
    }
   ],
   "source": [
    "summary(model_iv, diagnostics = TRUE)"
   ]
  },
  {
   "cell_type": "markdown",
   "metadata": {},
   "source": [
    "- **Weak instruments**: This is an F-test on the instruments in the first stage. The null hypothesis is essentially that we have weak instruments, so a rejection means our instruments are not weak, which is good.\n",
    "- **Wu-Hausman**: This tests the consistency of the OLS estimates under the assumption that the IV is consistent. When we reject, it means OLS is not consistent, suggesting endogeneity is present. If we accept the null, it essentially means that the OLS and IV estimates are similar, and endogeneity may not have been a big problem. (Note that, as ever, failing to reject a null hypothesis is little comfort...) "
   ]
  },
  {
   "cell_type": "markdown",
   "metadata": {},
   "source": [
    "In the data that we're presently dealing with, it **is the case** that the non-compliance was totally at random, right? So, the failure of the Wu-Hausman test to reject the null actually makes pretty good sense, there isn't a difference in what we estimate under OLS and 2SLS. "
   ]
  },
  {
   "cell_type": "code",
   "execution_count": 70,
   "metadata": {},
   "outputs": [
    {
     "name": "stdout",
     "output_type": "stream",
     "text": [
      "\n",
      "======================================================================\n",
      "                                         Dependent variable:          \n",
      "                               ---------------------------------------\n",
      "                                                  Y                   \n",
      "                               instrumental            OLS            \n",
      "                                 variable                             \n",
      "                                   (1)                 (2)            \n",
      "----------------------------------------------------------------------\n",
      "treated                          5.043***            5.044***         \n",
      "                                 (0.104)             (0.076)          \n",
      "                                                                      \n",
      "Constant                         9.980***            9.980***         \n",
      "                                 (0.051)             (0.045)          \n",
      "                                                                      \n",
      "----------------------------------------------------------------------\n",
      "Observations                      1,000               1,000           \n",
      "R2                                0.814               0.814           \n",
      "Adjusted R2                       0.813               0.813           \n",
      "Residual Std. Error (df = 998)    1.146               1.146           \n",
      "F Statistic                                 4,357.066*** (df = 1; 998)\n",
      "======================================================================\n",
      "Note:                                      *p<0.1; **p<0.05; ***p<0.01\n"
     ]
    }
   ],
   "source": [
    "model_lucky <- d[ , lm(Y ~ treated)]\n",
    "stargazer(model_iv, model_lucky, type = 'text')"
   ]
  },
  {
   "cell_type": "markdown",
   "metadata": {},
   "source": [
    "This isn't generally the case! "
   ]
  },
  {
   "cell_type": "markdown",
   "metadata": {},
   "source": [
    "# Make data with compliance related to potential outcomes \n",
    "\n",
    "Here, we return to the `make_data` call, but now set the flag so that non-compliance is related in a meaningful way to individual's \"taste\" for being in treatment. \n",
    "\n",
    "That is, we're going to be in the `else` block of the `make_data` function. \n",
    "\n",
    "        ## non-random non-compliance; based on potential outcomes to treatment \n",
    "        d[assigned == 1 & y1 > mean(y1),\n",
    "          treated := sample(1:0, size=.N, replace=TRUE, prob=c(.7, .3))]\n",
    "        d[assigned == 1 & y1 < mean(y1),\n",
    "          treated := sample(1:0, size=.N, replace=TRUE, prob=c(.2, .8))]\n",
    "\n",
    "In this else block, the people who have relatively high potential outcomes to treatment are going to comply with treatment, while those with relatively low potential outcomes to treatment are not going to comply with treatment. "
   ]
  },
  {
   "cell_type": "code",
   "execution_count": 74,
   "metadata": {},
   "outputs": [],
   "source": [
    "d <- make_data(nrows = 1000, random_non_compliance = FALSE, treat_size = 5)"
   ]
  },
  {
   "cell_type": "markdown",
   "metadata": {},
   "source": [
    "What do we estimate as an ITT under this data? "
   ]
  },
  {
   "cell_type": "code",
   "execution_count": 76,
   "metadata": {},
   "outputs": [
    {
     "data": {
      "text/html": [
       "<strong>assigned:</strong> 2.48255769532906"
      ],
      "text/latex": [
       "\\textbf{assigned:} 2.48255769532906"
      ],
      "text/markdown": [
       "**assigned:** 2.48255769532906"
      ],
      "text/plain": [
       "assigned \n",
       "2.482558 "
      ]
     },
     "metadata": {},
     "output_type": "display_data"
    }
   ],
   "source": [
    "itt <- d[ , lm(Y ~ assigned)]\n",
    "coef(itt)[2]"
   ]
  },
  {
   "cell_type": "markdown",
   "metadata": {},
   "source": [
    "An intent to treat effect of about 2.5. \n",
    "\n",
    "What is the compliance rate? "
   ]
  },
  {
   "cell_type": "code",
   "execution_count": 77,
   "metadata": {},
   "outputs": [
    {
     "data": {
      "text/html": [
       "<strong>assigned:</strong> 0.461386138613862"
      ],
      "text/latex": [
       "\\textbf{assigned:} 0.461386138613862"
      ],
      "text/markdown": [
       "**assigned:** 0.461386138613862"
      ],
      "text/plain": [
       " assigned \n",
       "0.4613861 "
      ]
     },
     "metadata": {},
     "output_type": "display_data"
    }
   ],
   "source": [
    "alpha <- d[ , lm(treated ~ assigned)]\n",
    "coef(alpha)[2]"
   ]
  },
  {
   "cell_type": "markdown",
   "metadata": {},
   "source": [
    "Which provides a CACE of: "
   ]
  },
  {
   "cell_type": "code",
   "execution_count": 78,
   "metadata": {},
   "outputs": [
    {
     "data": {
      "text/html": [
       "<strong>assigned:</strong> 5.38065079888916"
      ],
      "text/latex": [
       "\\textbf{assigned:} 5.38065079888916"
      ],
      "text/markdown": [
       "**assigned:** 5.38065079888916"
      ],
      "text/plain": [
       "assigned \n",
       "5.380651 "
      ]
     },
     "metadata": {},
     "output_type": "display_data"
    }
   ],
   "source": [
    "coef(itt)[2] / coef(alpha)[2]"
   ]
  },
  {
   "cell_type": "markdown",
   "metadata": {},
   "source": [
    "Can you produce this using a 2SLS? "
   ]
  },
  {
   "cell_type": "code",
   "execution_count": 79,
   "metadata": {},
   "outputs": [],
   "source": [
    "## estimate the first stage \n",
    "first <- ''\n",
    "## predict the changes in treatment \n",
    "\n",
    "## estimate the second stage \n",
    "second <- ''\n",
    "\n"
   ]
  },
  {
   "cell_type": "markdown",
   "metadata": {},
   "source": [
    "Does this comport with the estimates from the `AER::ivreg` call? "
   ]
  },
  {
   "cell_type": "code",
   "execution_count": 80,
   "metadata": {},
   "outputs": [
    {
     "data": {
      "text/plain": [
       "\n",
       "Call:\n",
       "ivreg(formula = Y ~ treated | assigned)\n",
       "\n",
       "Residuals:\n",
       "     Min       1Q   Median       3Q      Max \n",
       "-3.85012 -0.68497  0.03352  0.67656  4.84102 \n",
       "\n",
       "Coefficients:\n",
       "            Estimate Std. Error t value Pr(>|t|)    \n",
       "(Intercept)  9.96394    0.04985  199.90   <2e-16 ***\n",
       "treated      5.38065    0.15202   35.39   <2e-16 ***\n",
       "\n",
       "Diagnostic tests:\n",
       "                 df1 df2 statistic  p-value    \n",
       "Weak instruments   1 998    423.18  < 2e-16 ***\n",
       "Wu-Hausman         1 997     14.15 0.000179 ***\n",
       "Sargan             0  NA        NA       NA    \n",
       "---\n",
       "Signif. codes:  0 ‘***’ 0.001 ‘**’ 0.01 ‘*’ 0.05 ‘.’ 0.1 ‘ ’ 1\n",
       "\n",
       "Residual standard error: 1.109 on 998 degrees of freedom\n",
       "Multiple R-Squared: 0.8319,\tAdjusted R-squared: 0.8317 \n",
       "Wald test:  1253 on 1 and 998 DF,  p-value: < 2.2e-16 \n"
      ]
     },
     "metadata": {},
     "output_type": "display_data"
    }
   ],
   "source": [
    "model_iv <- d[ , ivreg(Y ~ treated | assigned)]\n",
    "summary(model_iv, diagnostics = TRUE)"
   ]
  },
  {
   "cell_type": "markdown",
   "metadata": {},
   "source": [
    "1. We've produced the same estimate of the CACE as we did earlier using the hand-built two-stage estimator. \n",
    "2. We have rejected the Weak Instruments test (good!) \n",
    "3. We have rejected the Wu-Hausman test (this was necessary because the OLS and 2SLS estimates would have told us different causal estimates). "
   ]
  },
  {
   "cell_type": "code",
   "execution_count": null,
   "metadata": {},
   "outputs": [],
   "source": []
  }
 ],
 "metadata": {
  "kernelspec": {
   "display_name": "R",
   "language": "R",
   "name": "ir"
  },
  "language_info": {
   "codemirror_mode": "r",
   "file_extension": ".r",
   "mimetype": "text/x-r-source",
   "name": "R",
   "pygments_lexer": "r",
   "version": "3.4.3"
  }
 },
 "nbformat": 4,
 "nbformat_minor": 2
}
