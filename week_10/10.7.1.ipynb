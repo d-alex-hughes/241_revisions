{
 "cells": [
  {
   "cell_type": "markdown",
   "metadata": {},
   "source": [
    "# Towels and Pooling\n",
    "\n",
    "On page 359 of _Field Experiments_ Green and Gerber report about a study that randomly assigned some hotel rooms to receive requests to reuse their towels, while other hotel rooms did not receive those requests. \n",
    "\n",
    "The theory here is that people *want* to be eco-conscious, they just need little nudges to actually do things that are good for the environment (and incidentally, good for the hotel's bottom line.) "
   ]
  },
  {
   "cell_type": "markdown",
   "metadata": {},
   "source": [
    "# Making Data \n",
    "\n",
    "This happens to me all the time -- I receive data shipped to me from someone who thought they were doing be a favor by summarizing the data -- but, in fact it just means that I cannot analyze the data myself. Yargh! \n",
    "\n",
    "Read through the description of these experiments in Arizona that are described on p. 359, and create data that is consistent with their setup. \n",
    "\n",
    "Your data should have the following columns: \n",
    "\n",
    "- Year \n",
    "- Treatment \n",
    "- Y \n",
    "\n",
    "And then, once you've built your data you should be able to produce the coefficient estimates that are presented in the book, but this time, with a confidence interval associated with the estimate. "
   ]
  },
  {
   "cell_type": "code",
   "execution_count": null,
   "metadata": {},
   "outputs": [],
   "source": []
  },
  {
   "cell_type": "markdown",
   "metadata": {},
   "source": [
    "# Estimate Models \n",
    "Estimate, on this data that you've just created, the treatment effects in the first and second years, separately. "
   ]
  },
  {
   "cell_type": "code",
   "execution_count": null,
   "metadata": {},
   "outputs": [],
   "source": []
  },
  {
   "cell_type": "markdown",
   "metadata": {},
   "source": [
    "At the end of the second year, would you continue to run the program? \n",
    "- Why or why not? \n",
    "- What data, and model, justifies this position? "
   ]
  },
  {
   "cell_type": "code",
   "execution_count": null,
   "metadata": {},
   "outputs": [],
   "source": []
  },
  {
   "cell_type": "markdown",
   "metadata": {},
   "source": [
    "Are the treatment effects measurably different between the first and second experiments? Think back to the method of using a long and short models and testing for differences via an F-test. What should be included in the longer model? "
   ]
  },
  {
   "cell_type": "code",
   "execution_count": null,
   "metadata": {},
   "outputs": [],
   "source": []
  },
  {
   "cell_type": "markdown",
   "metadata": {},
   "source": [
    "Green and Gerber provide us with the concept of precision-weighted meta-analysis, a tool that we can use if we have reason to believe that \"_things_\" are appreciably different between studies. \n",
    "\n",
    "The precision weighting works in the following way: \n",
    "- Compute a weighted average of the treatment effects that you've observed\n",
    "- However, rather than simply averaging across all experiments or conditions with equal weight, place more weight on those experiments that have more *precisely* estimted the treatment effect. \n",
    "- For *precision* Green and Gerber advocate using the standard error of the treatment effect. \n",
    "\n",
    "## Task 1\n",
    "Write a function that takes arguments for the treatment effects and standard errors, and returns the precision weighted estimate of the average treatment effect and the precision weighted estimate of the standard errors. "
   ]
  },
  {
   "cell_type": "code",
   "execution_count": null,
   "metadata": {},
   "outputs": [],
   "source": [
    "precision_weighted_ate <- function(ate1, ate2, se1, se2) { \n",
    "    ## fill in this function according to the formula \n",
    "    \n",
    "}"
   ]
  },
  {
   "cell_type": "code",
   "execution_count": null,
   "metadata": {},
   "outputs": [],
   "source": []
  },
  {
   "cell_type": "markdown",
   "metadata": {},
   "source": [
    "## Task 2\n",
    "\n",
    "Write a function that takes arguments for a `study_indicator`, a `treatment_indicator`, and an `outcome` indicator, and a `data`, and returns the precision weighted estimate of the average treatment effect and the precision weighted estimate of the standard errors. "
   ]
  },
  {
   "cell_type": "code",
   "execution_count": null,
   "metadata": {},
   "outputs": [],
   "source": [
    "precision_weighted_ate_data <- function(data, study_indicator, treatment_indicator, outcome) { \n",
    "    ## fill in this function to estimate against the data. \n",
    "}"
   ]
  },
  {
   "cell_type": "code",
   "execution_count": null,
   "metadata": {},
   "outputs": [],
   "source": []
  },
  {
   "cell_type": "markdown",
   "metadata": {},
   "source": [
    "## Compare against Pooling \n",
    "Compare the results either from **Task 1** or **Task 2** to a model that simply estimates the treatment effect across all of the data -- `lm(outcome ~ treat + year)`. \n",
    "\n",
    "This model allows for different values in the control group in each of the years (captured by the `(Intercept)` and the `year` coefficients) but does not allow for differences in the treatment effect across years."
   ]
  },
  {
   "cell_type": "code",
   "execution_count": null,
   "metadata": {},
   "outputs": [],
   "source": []
  },
  {
   "cell_type": "markdown",
   "metadata": {},
   "source": [
    "How different is the estimate of the treatment effect in this model from the estimate of the treatment effect you estimated in **Task 1** or **Task 2** above? Does this difference surprise you at all? Do you think that this similarity or difference is will *generally* be arranged like this, or is it a special feature of this data in particular? "
   ]
  },
  {
   "cell_type": "code",
   "execution_count": null,
   "metadata": {},
   "outputs": [],
   "source": []
  }
 ],
 "metadata": {
  "kernelspec": {
   "display_name": "R",
   "language": "R",
   "name": "ir"
  },
  "language_info": {
   "codemirror_mode": "r",
   "file_extension": ".r",
   "mimetype": "text/x-r-source",
   "name": "R",
   "pygments_lexer": "r",
   "version": "3.4.3"
  }
 },
 "nbformat": 4,
 "nbformat_minor": 2
}
