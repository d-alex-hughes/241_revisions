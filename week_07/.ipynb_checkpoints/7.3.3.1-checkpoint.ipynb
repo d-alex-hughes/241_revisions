{
 "cells": [
  {
   "cell_type": "code",
   "execution_count": 1,
   "metadata": {},
   "outputs": [
    {
     "name": "stderr",
     "output_type": "stream",
     "text": [
      "\n",
      "Please cite as: \n",
      "\n",
      " Hlavac, Marek (2015). stargazer: Well-Formatted Regression and Summary Statistics Tables.\n",
      " R package version 5.2. http://CRAN.R-project.org/package=stargazer \n",
      "\n",
      "Loading required package: zoo\n",
      "\n",
      "Attaching package: ‘zoo’\n",
      "\n",
      "The following objects are masked from ‘package:base’:\n",
      "\n",
      "    as.Date, as.Date.numeric\n",
      "\n"
     ]
    }
   ],
   "source": [
    "library(data.table) \n",
    "library(stargazer)\n",
    "library(lmtest)\n",
    "\n",
    "set.seed(1)"
   ]
  },
  {
   "cell_type": "markdown",
   "metadata": {},
   "source": [
    "# Estimating Heterogeneous Treatment Effects \n",
    "As we're discussing in the lecture, identifying parts of your data that react systematically differently to treatment is of interest for both theoretical and practical reasons. \n",
    "\n",
    "1. If we know that some people react differently to the treatment, we might be able to reason about \"why\" the treatment is working the way it does. (*Although as we're going to talk about later in the course, this is a pretty risky enterprise, at least if you have to make precise, evidence-based statements.*) \n",
    "2. If we know that some people react differently to treatment than others, we might want to *target* the treatment to reach certain populations (and not others). \n",
    "\n",
    "In this short demonstration, we show how to estimate heterogeneous treatment effects using linear models, as well as best practices for estimating and reporting in ways that will be both statistically sound, and also interpretable for your audience. "
   ]
  },
  {
   "cell_type": "markdown",
   "metadata": {},
   "source": [
    "## Make some data \n",
    "\n",
    "Create data, of size `N=1000`. In this data, \n",
    "\n",
    "- Roughly 1/2 the population are `female` \n",
    "- The population has seven `affluence` levels that we might think of as being ordered categories \n",
    "- A set of potential outcomes to control that have a mean of 100\n",
    "- An individual response to treatment that follow this form: \n",
    "  - The mean response to treatment for poor men is 5; \n",
    "  - The mean response to treatment for poor women in 10; \n",
    "  - For both men and women, the higher is their affluence, the stronger is their response to treatment. \n",
    "  \n",
    "*There are part of the population that react systematically differently to treatment than others*! Can we put an estimator together that will identify this? "
   ]
  },
  {
   "cell_type": "code",
   "execution_count": 2,
   "metadata": {},
   "outputs": [
    {
     "data": {},
     "metadata": {},
     "output_type": "display_data"
    }
   ],
   "source": [
    "simSize <- 1000\n",
    "\n",
    "d <- data.table(\n",
    "    female = sample(c(0,1), simSize, replace = TRUE),\n",
    "    affluence = sample(1:7, simSize, replace = TRUE),\n",
    "    y0 = rnorm(simSize, mean = 100, sd = 7)\n",
    "    ) \n",
    "d[ , ':='(tau   = rnorm(simSize, mean = 5 + 2*female + affluence), \n",
    "          treat = sample(0:1, simSize, replace = TRUE))]"
   ]
  },
  {
   "cell_type": "markdown",
   "metadata": {},
   "source": [
    "Then, if people are in treatment, show their potential outcome to treatment (`y0+tau`); if they are in control, show their potential outcome to control. "
   ]
  },
  {
   "cell_type": "code",
   "execution_count": 3,
   "metadata": {},
   "outputs": [
    {
     "data": {},
     "metadata": {},
     "output_type": "display_data"
    }
   ],
   "source": [
    "d[ , Y :=  y0 + treat * tau]"
   ]
  },
  {
   "cell_type": "markdown",
   "metadata": {},
   "source": [
    "Use grouping and means to answer the following questions: \n",
    "\n",
    "- What should the mean of the treatment effects be? \n",
    "- Is the mean of `tau` higher for men or women? \n",
    "- Is the mean of `tau` higher for wealthy or poor indiviudals? "
   ]
  },
  {
   "cell_type": "code",
   "execution_count": null,
   "metadata": {},
   "outputs": [],
   "source": []
  },
  {
   "cell_type": "markdown",
   "metadata": {},
   "source": [
    "Estimate a model, on the observable data (`Y`, `female`, `affluence`, and `treat`) that produces an estimate of the overall average treatment effect, and also improves the model performance by estimating the *non-causal* differences between men and women. "
   ]
  },
  {
   "cell_type": "code",
   "execution_count": 4,
   "metadata": {},
   "outputs": [
    {
     "data": {
      "text/plain": [
       "\n",
       "Call:\n",
       "lm(formula = Y ~ treat + female)\n",
       "\n",
       "Residuals:\n",
       "     Min       1Q   Median       3Q      Max \n",
       "-22.8764  -5.1092   0.0391   5.1297  22.9016 \n",
       "\n",
       "Coefficients:\n",
       "            Estimate Std. Error t value Pr(>|t|)    \n",
       "(Intercept)  99.4286     0.4084 243.447   <2e-16 ***\n",
       "treat         9.9370     0.4766  20.851   <2e-16 ***\n",
       "female        0.9554     0.4763   2.006   0.0451 *  \n",
       "---\n",
       "Signif. codes:  0 ‘***’ 0.001 ‘**’ 0.01 ‘*’ 0.05 ‘.’ 0.1 ‘ ’ 1\n",
       "\n",
       "Residual standard error: 7.518 on 997 degrees of freedom\n",
       "Multiple R-squared:  0.3077,\tAdjusted R-squared:  0.3063 \n",
       "F-statistic: 221.5 on 2 and 997 DF,  p-value: < 2.2e-16\n"
      ]
     },
     "metadata": {},
     "output_type": "display_data"
    }
   ],
   "source": [
    "overall_mod <- d[ , lm(Y ~ treat + female)]\n",
    "summary(overall_mod)"
   ]
  },
  {
   "cell_type": "markdown",
   "metadata": {},
   "source": [
    "# Estimate the Heterogeneous Treatment Effect\n",
    "When we're estimating a heterogeneous treatment effect, we're effectively asking, \"Is the treatment effect in *this group* different from the treatment effect in *that group*? \n",
    "\n",
    "The null hypothesis in this case is: \n",
    "\n",
    "> There isn't enough evidence to suggest that the treatment effects are different between the two groups, \n",
    "\n",
    "and so the alternative hypothesis is: \n",
    "\n",
    "> There is evidence that suggests *this group* and *that group* react differently to treatment. "
   ]
  },
  {
   "cell_type": "markdown",
   "metadata": {},
   "source": [
    "To estimate this HTE, we can include an additional model term, **an interaction between the treatment and group indicator** that will permit us to *directly* answer the questions we've just laid out. \n",
    "\n",
    "In the case of our data here, to evaluate whether there is a difference in the ways that men and women react to treatment we estimate a model of the following form: "
   ]
  },
  {
   "cell_type": "code",
   "execution_count": 5,
   "metadata": {},
   "outputs": [
    {
     "data": {
      "text/html": [
       "<table>\n",
       "<thead><tr><th></th><th scope=col>Estimate</th><th scope=col>Std. Error</th><th scope=col>t value</th><th scope=col>Pr(&gt;|t|)</th></tr></thead>\n",
       "<tbody>\n",
       "\t<tr><th scope=row>(Intercept)</th><td>100.2108010 </td><td>0.4665088   </td><td>214.810081  </td><td>0.000000e+00</td></tr>\n",
       "\t<tr><th scope=row>treat</th><td>  8.3905055 </td><td>0.6559695   </td><td> 12.790999  </td><td>8.535074e-35</td></tr>\n",
       "\t<tr><th scope=row>female</th><td> -0.7531087 </td><td>0.6894760   </td><td> -1.092291  </td><td>2.749692e-01</td></tr>\n",
       "\t<tr><th scope=row>treat:female</th><td>  3.2372288 </td><td>0.9490565   </td><td>  3.410997  </td><td>6.732546e-04</td></tr>\n",
       "</tbody>\n",
       "</table>\n"
      ],
      "text/latex": [
       "\\begin{tabular}{r|llll}\n",
       "  & Estimate & Std. Error & t value & Pr(>\\textbar{}t\\textbar{})\\\\\n",
       "\\hline\n",
       "\t(Intercept) & 100.2108010  & 0.4665088    & 214.810081   & 0.000000e+00\\\\\n",
       "\ttreat &   8.3905055  & 0.6559695    &  12.790999   & 8.535074e-35\\\\\n",
       "\tfemale &  -0.7531087  & 0.6894760    &  -1.092291   & 2.749692e-01\\\\\n",
       "\ttreat:female &   3.2372288  & 0.9490565    &   3.410997   & 6.732546e-04\\\\\n",
       "\\end{tabular}\n"
      ],
      "text/markdown": [
       "\n",
       "| <!--/--> | Estimate | Std. Error | t value | Pr(>|t|) | \n",
       "|---|---|---|---|\n",
       "| (Intercept) | 100.2108010  | 0.4665088    | 214.810081   | 0.000000e+00 | \n",
       "| treat |   8.3905055  | 0.6559695    |  12.790999   | 8.535074e-35 | \n",
       "| female |  -0.7531087  | 0.6894760    |  -1.092291   | 2.749692e-01 | \n",
       "| treat:female |   3.2372288  | 0.9490565    |   3.410997   | 6.732546e-04 | \n",
       "\n",
       "\n"
      ],
      "text/plain": [
       "             Estimate    Std. Error t value    Pr(>|t|)    \n",
       "(Intercept)  100.2108010 0.4665088  214.810081 0.000000e+00\n",
       "treat          8.3905055 0.6559695   12.790999 8.535074e-35\n",
       "female        -0.7531087 0.6894760   -1.092291 2.749692e-01\n",
       "treat:female   3.2372288 0.9490565    3.410997 6.732546e-04"
      ]
     },
     "metadata": {},
     "output_type": "display_data"
    }
   ],
   "source": [
    "hte_mod = d[ , lm(Y ~ treat + female + treat * female)]\n",
    "summary(hte_mod)$coefficients"
   ]
  },
  {
   "cell_type": "markdown",
   "metadata": {},
   "source": [
    "What is being reported in this set of estimates: \n",
    "\n",
    "- The **(Intercept)** estimate is the mean value of `Y` for **men** who are in **control**; \n",
    "- The **treat** estimate is the mean treatment effect for **men**; \n",
    "- The **female** estimate is the mean difference between **men** and **women** who are in control;\n",
    "- The **treat:female** estimate is the mean difference between the treatment effect for **men** and **women**. \n",
    "\n",
    "There is a lot to unpack in that set of statements. Once a model interacts some features with others, the interpretation of both will *always* be interwound. \n",
    "\n",
    "1. In this model, it is not possible to make a statement about the treatment effect, without also talking about the population, either men or women.\n",
    "2. It is also not possible to talk about the average difference between men and women from these coefficients. Reported in this model is the average difference between men and women, *who are in the control group*. "
   ]
  },
  {
   "cell_type": "markdown",
   "metadata": {},
   "source": [
    "At the same time, although we made the data such that there is a heterogeneous response to treatment across levels of affluence, because we have not estimated this heterogeneity, the treatment effect is pooling across all levels of affluence. \n",
    "\n",
    "In the model below, we include an indicator for the affluence of the observation, *but we do not interact that indicator with the treatment indicator*. "
   ]
  },
  {
   "cell_type": "code",
   "execution_count": 6,
   "metadata": {},
   "outputs": [
    {
     "data": {
      "text/html": [
       "<table>\n",
       "<thead><tr><th></th><th scope=col>Estimate</th><th scope=col>Std. Error</th><th scope=col>t value</th><th scope=col>Pr(&gt;|t|)</th></tr></thead>\n",
       "<tbody>\n",
       "\t<tr><th scope=row>(Intercept)</th><td>98.0745421  </td><td>0.6957082   </td><td>140.970791  </td><td>0.000000e+00</td></tr>\n",
       "\t<tr><th scope=row>treat</th><td> 8.3610908  </td><td>0.6474070   </td><td> 12.914736  </td><td>2.240523e-35</td></tr>\n",
       "\t<tr><th scope=row>female</th><td>-0.7573496  </td><td>0.6798652   </td><td> -1.113970  </td><td>2.655624e-01</td></tr>\n",
       "\t<tr><th scope=row>factor(affluence)2</th><td> 1.2748043  </td><td>0.8440001   </td><td>  1.510432  </td><td>1.312524e-01</td></tr>\n",
       "\t<tr><th scope=row>factor(affluence)3</th><td> 0.9084284  </td><td>0.8401050   </td><td>  1.081327  </td><td>2.798149e-01</td></tr>\n",
       "\t<tr><th scope=row>factor(affluence)4</th><td> 2.5774230  </td><td>0.8684264   </td><td>  2.967923  </td><td>3.070344e-03</td></tr>\n",
       "\t<tr><th scope=row>factor(affluence)5</th><td> 3.1029397  </td><td>0.8769886   </td><td>  3.538176  </td><td>4.216054e-04</td></tr>\n",
       "\t<tr><th scope=row>factor(affluence)6</th><td> 3.4459593  </td><td>0.8504190   </td><td>  4.052072  </td><td>5.474135e-05</td></tr>\n",
       "\t<tr><th scope=row>factor(affluence)7</th><td> 4.2191340  </td><td>0.8426264   </td><td>  5.007123  </td><td>6.538388e-07</td></tr>\n",
       "\t<tr><th scope=row>treat:female</th><td> 3.2309811  </td><td>0.9348958   </td><td>  3.455980  </td><td>5.715777e-04</td></tr>\n",
       "</tbody>\n",
       "</table>\n"
      ],
      "text/latex": [
       "\\begin{tabular}{r|llll}\n",
       "  & Estimate & Std. Error & t value & Pr(>\\textbar{}t\\textbar{})\\\\\n",
       "\\hline\n",
       "\t(Intercept) & 98.0745421   & 0.6957082    & 140.970791   & 0.000000e+00\\\\\n",
       "\ttreat &  8.3610908   & 0.6474070    &  12.914736   & 2.240523e-35\\\\\n",
       "\tfemale & -0.7573496   & 0.6798652    &  -1.113970   & 2.655624e-01\\\\\n",
       "\tfactor(affluence)2 &  1.2748043   & 0.8440001    &   1.510432   & 1.312524e-01\\\\\n",
       "\tfactor(affluence)3 &  0.9084284   & 0.8401050    &   1.081327   & 2.798149e-01\\\\\n",
       "\tfactor(affluence)4 &  2.5774230   & 0.8684264    &   2.967923   & 3.070344e-03\\\\\n",
       "\tfactor(affluence)5 &  3.1029397   & 0.8769886    &   3.538176   & 4.216054e-04\\\\\n",
       "\tfactor(affluence)6 &  3.4459593   & 0.8504190    &   4.052072   & 5.474135e-05\\\\\n",
       "\tfactor(affluence)7 &  4.2191340   & 0.8426264    &   5.007123   & 6.538388e-07\\\\\n",
       "\ttreat:female &  3.2309811   & 0.9348958    &   3.455980   & 5.715777e-04\\\\\n",
       "\\end{tabular}\n"
      ],
      "text/markdown": [
       "\n",
       "| <!--/--> | Estimate | Std. Error | t value | Pr(>|t|) | \n",
       "|---|---|---|---|---|---|---|---|---|---|\n",
       "| (Intercept) | 98.0745421   | 0.6957082    | 140.970791   | 0.000000e+00 | \n",
       "| treat |  8.3610908   | 0.6474070    |  12.914736   | 2.240523e-35 | \n",
       "| female | -0.7573496   | 0.6798652    |  -1.113970   | 2.655624e-01 | \n",
       "| factor(affluence)2 |  1.2748043   | 0.8440001    |   1.510432   | 1.312524e-01 | \n",
       "| factor(affluence)3 |  0.9084284   | 0.8401050    |   1.081327   | 2.798149e-01 | \n",
       "| factor(affluence)4 |  2.5774230   | 0.8684264    |   2.967923   | 3.070344e-03 | \n",
       "| factor(affluence)5 |  3.1029397   | 0.8769886    |   3.538176   | 4.216054e-04 | \n",
       "| factor(affluence)6 |  3.4459593   | 0.8504190    |   4.052072   | 5.474135e-05 | \n",
       "| factor(affluence)7 |  4.2191340   | 0.8426264    |   5.007123   | 6.538388e-07 | \n",
       "| treat:female |  3.2309811   | 0.9348958    |   3.455980   | 5.715777e-04 | \n",
       "\n",
       "\n"
      ],
      "text/plain": [
       "                   Estimate   Std. Error t value    Pr(>|t|)    \n",
       "(Intercept)        98.0745421 0.6957082  140.970791 0.000000e+00\n",
       "treat               8.3610908 0.6474070   12.914736 2.240523e-35\n",
       "female             -0.7573496 0.6798652   -1.113970 2.655624e-01\n",
       "factor(affluence)2  1.2748043 0.8440001    1.510432 1.312524e-01\n",
       "factor(affluence)3  0.9084284 0.8401050    1.081327 2.798149e-01\n",
       "factor(affluence)4  2.5774230 0.8684264    2.967923 3.070344e-03\n",
       "factor(affluence)5  3.1029397 0.8769886    3.538176 4.216054e-04\n",
       "factor(affluence)6  3.4459593 0.8504190    4.052072 5.474135e-05\n",
       "factor(affluence)7  4.2191340 0.8426264    5.007123 6.538388e-07\n",
       "treat:female        3.2309811 0.9348958    3.455980 5.715777e-04"
      ]
     },
     "metadata": {},
     "output_type": "display_data"
    }
   ],
   "source": [
    "model_affluence = d[ , lm(Y ~ treat + female + factor(affluence) + treat * female)]\n",
    "summary(model_affluence)$coefficients"
   ]
  },
  {
   "cell_type": "markdown",
   "metadata": {},
   "source": [
    "In this model, we continue to observe that \n",
    "\n",
    "- There is no baseline difference between men and women who are in control; \n",
    "- There is a treatment effect for men that is around 9 units; \n",
    "- The treatment effect for women is roughly 1.5 units stronger than for men.\n",
    "\n",
    "We also see that there are differences in the potential outcomes to control *for men and women* that increase as measured affluence increases. In this model, because we have not interacted the `affluence` measure with the treatment, we are picking up only the **main effect** of affluence, not the heterogenity in treatment effects across affluence. "
   ]
  },
  {
   "cell_type": "markdown",
   "metadata": {},
   "source": [
    "## Reporting \n",
    "\n",
    "Reporting these heterogeneities to stakeholders is important, and poses particular challenges. Although interaction terms are reasonably straightforward to estimate and interpret, they do require more care than the simpler models. \n",
    "\n",
    "We prefer to report heterogeneous treatment effects as conditional effects *among parts of the data* when we're reporting to stakeholders, and support our conclusions of different responses to treatment with a test to back it up. \n",
    "\n",
    "Here's what we mean: \n",
    "\n",
    "1. Estimate the interaction model we have already show to test for HTE. \n",
    "2. When present, if possible partition the data into groups based on the HTE factor and estimate models. \n",
    "3. Report these models, and support conclusions of difference with the test from part 1. "
   ]
  },
  {
   "cell_type": "code",
   "execution_count": 7,
   "metadata": {},
   "outputs": [
    {
     "name": "stdout",
     "output_type": "stream",
     "text": [
      "\n",
      "============================================\n",
      "                   Dependent variable:      \n",
      "             -------------------------------\n",
      "                            Y               \n",
      "                (1)       (2)        (3)    \n",
      "--------------------------------------------\n",
      "treat        11.628***  8.391***   8.391*** \n",
      "              (0.691)   (0.651)    (0.656)  \n",
      "                                            \n",
      "female                              -0.753  \n",
      "                                   (0.689)  \n",
      "                                            \n",
      "treat:female                       3.237*** \n",
      "                                   (0.949)  \n",
      "                                            \n",
      "Constant     99.458*** 100.211*** 100.211***\n",
      "              (0.511)   (0.463)    (0.467)  \n",
      "                                            \n",
      "--------------------------------------------\n",
      "Observations    480       520       1,000   \n",
      "R2             0.372     0.243      0.316   \n",
      "Adjusted R2    0.371     0.241      0.314   \n",
      "============================================\n",
      "Note:            *p<0.1; **p<0.05; ***p<0.01\n"
     ]
    }
   ],
   "source": [
    "hte_mod    = d[ , lm(Y ~ treat * female)]\n",
    "female_mod = d[female==1, lm(Y ~ treat)]\n",
    "male_mod   = d[female==0, lm(Y ~ treat)]\n",
    "\n",
    "stargazer(female_mod, male_mod, hte_mod, \n",
    "          type = 'text', omit.stat = c('ser', 'F'))"
   ]
  },
  {
   "cell_type": "markdown",
   "metadata": {},
   "source": [
    "# A General Framework \n",
    "The framework that we've proposed to this point, estimating interactions and reporting, provide inferential statements on *individual parameter-level heterogeneity*. In the case of a female-male heterogeneity, the interaction tests exactly the contrast we seek to understand. \n",
    "\n",
    "However, if there are more than two levels in the feature that encodes the heterogeneity, coefficient-level tests will check for heterogeneity at each parameter-level -- and this might not answer the question we're actually interested in. \n",
    "\n",
    "In this section, we will (re-)introduce a general framework that produces the same inference as the *individual parameter-level tests* when there are only two levels, but that also generalizes to a multi-level variable -- the **F-test**. \n",
    "\n",
    "Above, in `overall_mod` you have estimated a model that forces treatment effects to be the same for men and women. In `hte_mod` you've permitted more model flexibility: namely that the treatment effects for men and women can be different. To test for whether the more flexible model has out-performed the less flexible model, recall in the F-test from 203. \n",
    "\n",
    "An F-test is a test for the ratio of variance of the residuals, $\\epsilon$ from a regression. Specifically, if we have estimated two models: \n",
    "\n",
    "\\begin{align}\n",
    "Y_{i} & = \\beta_{0} + \\beta_{1} female + \\beta_{2} treat + \\epsilon_{1} \\\\ \n",
    "Y_{i} & = \\beta_{0} + \\beta_{1} female + \\beta_{2} treat + \\beta_{3} treat \\times female + \\epsilon_{2} \n",
    "\\end{align} \n",
    "\n",
    "Then an F-test tests for the ratio of the variance of the $\\epsilon$, which is known to follow an F-distribution. The null hypothesis in this test is that there is no difference in the distriutions, while a significant result on the test would provide evidence that one distribution has measurably more variance than the other. "
   ]
  },
  {
   "cell_type": "code",
   "execution_count": 8,
   "metadata": {},
   "outputs": [
    {
     "data": {
      "text/html": [
       "<table>\n",
       "<thead><tr><th scope=col>Res.Df</th><th scope=col>RSS</th><th scope=col>Df</th><th scope=col>Sum of Sq</th><th scope=col>F</th><th scope=col>Pr(&gt;F)</th></tr></thead>\n",
       "<tbody>\n",
       "\t<tr><td>997         </td><td>56358.07    </td><td>NA          </td><td>     NA     </td><td>     NA     </td><td>          NA</td></tr>\n",
       "\t<tr><td>996         </td><td>55707.31    </td><td> 1          </td><td>650.752     </td><td>11.6349     </td><td>0.0006732546</td></tr>\n",
       "</tbody>\n",
       "</table>\n"
      ],
      "text/latex": [
       "\\begin{tabular}{r|llllll}\n",
       " Res.Df & RSS & Df & Sum of Sq & F & Pr(>F)\\\\\n",
       "\\hline\n",
       "\t 997          & 56358.07     & NA           &      NA      &      NA      &           NA\\\\\n",
       "\t 996          & 55707.31     &  1           & 650.752      & 11.6349      & 0.0006732546\\\\\n",
       "\\end{tabular}\n"
      ],
      "text/markdown": [
       "\n",
       "Res.Df | RSS | Df | Sum of Sq | F | Pr(>F) | \n",
       "|---|---|\n",
       "| 997          | 56358.07     | NA           |      NA      |      NA      |           NA | \n",
       "| 996          | 55707.31     |  1           | 650.752      | 11.6349      | 0.0006732546 | \n",
       "\n",
       "\n"
      ],
      "text/plain": [
       "  Res.Df RSS      Df Sum of Sq F       Pr(>F)      \n",
       "1 997    56358.07 NA      NA        NA           NA\n",
       "2 996    55707.31  1 650.752   11.6349 0.0006732546"
      ]
     },
     "metadata": {},
     "output_type": "display_data"
    }
   ],
   "source": [
    "anova(overall_mod, hte_mod, test = 'F')"
   ]
  },
  {
   "cell_type": "markdown",
   "metadata": {},
   "source": [
    "Note the p-value on the test here and compare it to the p-value that is reported on the interaction term in the `hte_mod` regression. "
   ]
  },
  {
   "cell_type": "code",
   "execution_count": 9,
   "metadata": {},
   "outputs": [
    {
     "data": {
      "text/plain": [
       "\n",
       "t test of coefficients:\n",
       "\n",
       "              Estimate Std. Error  t value  Pr(>|t|)    \n",
       "(Intercept)  100.21080    0.46651 214.8101 < 2.2e-16 ***\n",
       "treat          8.39051    0.65597  12.7910 < 2.2e-16 ***\n",
       "female        -0.75311    0.68948  -1.0923 0.2749692    \n",
       "treat:female   3.23723    0.94906   3.4110 0.0006733 ***\n",
       "---\n",
       "Signif. codes:  0 ‘***’ 0.001 ‘**’ 0.01 ‘*’ 0.05 ‘.’ 0.1 ‘ ’ 1\n"
      ]
     },
     "metadata": {},
     "output_type": "display_data"
    }
   ],
   "source": [
    "coeftest(hte_mod)"
   ]
  },
  {
   "cell_type": "markdown",
   "metadata": {},
   "source": [
    "These two tests report *exactly* the same p-values. This is because when a single additional feature is being tested (as is the case with the single additional hte feature of `treat:female`) the two tests are mathmatically equivalent. \n",
    "\n",
    "**Why is this desirable?** The f-test provides a general framework that can test for heterogeneity across a feature, no matter the number of levels that exist in that feature. "
   ]
  },
  {
   "cell_type": "markdown",
   "metadata": {},
   "source": [
    "## Test for Heterogeneity on Affluence\n",
    "\n",
    "The affluence feature that is in this data is *also* associated with increasing response to treatment -- that is to say -- there is heterogeneity of the treatment effect across levels of affluence. However, when we built the data, we said that the `affluence` level was a set of oredered categories; and so, we cannot use this feature as a linear predictor. \n",
    "\n",
    "Let's fit this model."
   ]
  },
  {
   "cell_type": "code",
   "execution_count": 10,
   "metadata": {},
   "outputs": [],
   "source": [
    "mod_short <- d[ , lm(Y ~ treat + female + factor(affluence))]\n",
    "mod_long  <- d[ , lm(Y ~ treat + female + factor(affluence) + treat * factor(affluence))]"
   ]
  },
  {
   "cell_type": "markdown",
   "metadata": {},
   "source": [
    "*(Notice that this regression is converting to a factor at the time of estimation)*. \n",
    "\n",
    "To test for whether there is heterogeneous response to treatment at different levels of affluence, we can use the F-test just described. "
   ]
  },
  {
   "cell_type": "code",
   "execution_count": 11,
   "metadata": {},
   "outputs": [
    {
     "data": {
      "text/html": [
       "<table>\n",
       "<thead><tr><th scope=col>Res.Df</th><th scope=col>RSS</th><th scope=col>Df</th><th scope=col>Sum of Sq</th><th scope=col>F</th><th scope=col>Pr(&gt;F)</th></tr></thead>\n",
       "<tbody>\n",
       "\t<tr><td>991      </td><td>54271.55 </td><td>NA       </td><td>      NA </td><td>      NA </td><td>       NA</td></tr>\n",
       "\t<tr><td>985      </td><td>53704.80 </td><td> 6       </td><td>566.7516 </td><td>1.732466 </td><td>0.1102387</td></tr>\n",
       "</tbody>\n",
       "</table>\n"
      ],
      "text/latex": [
       "\\begin{tabular}{r|llllll}\n",
       " Res.Df & RSS & Df & Sum of Sq & F & Pr(>F)\\\\\n",
       "\\hline\n",
       "\t 991       & 54271.55  & NA        &       NA  &       NA  &        NA\\\\\n",
       "\t 985       & 53704.80  &  6        & 566.7516  & 1.732466  & 0.1102387\\\\\n",
       "\\end{tabular}\n"
      ],
      "text/markdown": [
       "\n",
       "Res.Df | RSS | Df | Sum of Sq | F | Pr(>F) | \n",
       "|---|---|\n",
       "| 991       | 54271.55  | NA        |       NA  |       NA  |        NA | \n",
       "| 985       | 53704.80  |  6        | 566.7516  | 1.732466  | 0.1102387 | \n",
       "\n",
       "\n"
      ],
      "text/plain": [
       "  Res.Df RSS      Df Sum of Sq F        Pr(>F)   \n",
       "1 991    54271.55 NA       NA        NA        NA\n",
       "2 985    53704.80  6 566.7516  1.732466 0.1102387"
      ]
     },
     "metadata": {},
     "output_type": "display_data"
    }
   ],
   "source": [
    "anova(mod_short, mod_long, test = 'F')"
   ]
  },
  {
   "cell_type": "markdown",
   "metadata": {},
   "source": [
    "In the `Df` column, in the second row, we see that there are 6 fewer degrees of freedom in the long model than the short model -- this corresponds to an interacted coefficient for each of the levels that *are not* `affluence == 1`. The p-value for this test of overall heterogeneity across affluence suggests that, indeed, there is a difference in response. \n",
    "\n",
    "If we were to examine this at the individual *parameter-level* using only tests for the interactions, we would have reached a different conclusion. "
   ]
  },
  {
   "cell_type": "code",
   "execution_count": 12,
   "metadata": {},
   "outputs": [
    {
     "data": {
      "text/plain": [
       "\n",
       "t test of coefficients:\n",
       "\n",
       "                         Estimate Std. Error  t value  Pr(>|t|)    \n",
       "(Intercept)              98.22518    0.82563 118.9694 < 2.2e-16 ***\n",
       "treat                     7.97181    1.17155   6.8045 1.758e-11 ***\n",
       "female                    0.93617    0.46951   1.9939  0.046434 *  \n",
       "factor(affluence)2        0.71520    1.22467   0.5840  0.559358    \n",
       "factor(affluence)3        0.57746    1.20880   0.4777  0.632963    \n",
       "factor(affluence)4        1.84801    1.23636   1.4947  0.135307    \n",
       "factor(affluence)5        1.90651    1.21914   1.5638  0.118184    \n",
       "factor(affluence)6        2.00086    1.23054   1.6260  0.104268    \n",
       "factor(affluence)7        1.84225    1.17955   1.5618  0.118651    \n",
       "treat:factor(affluence)2  1.23373    1.70145   0.7251  0.468558    \n",
       "treat:factor(affluence)3  0.86789    1.68940   0.5137  0.607558    \n",
       "treat:factor(affluence)4  1.42304    1.74583   0.8151  0.415208    \n",
       "treat:factor(affluence)5  2.54583    1.76128   1.4454  0.148652    \n",
       "treat:factor(affluence)6  2.88802    1.71224   1.6867  0.091980 .  \n",
       "treat:factor(affluence)7  4.83245    1.69261   2.8550  0.004394 ** \n",
       "---\n",
       "Signif. codes:  0 ‘***’ 0.001 ‘**’ 0.01 ‘*’ 0.05 ‘.’ 0.1 ‘ ’ 1\n"
      ]
     },
     "metadata": {},
     "output_type": "display_data"
    }
   ],
   "source": [
    "coeftest(mod_long)"
   ]
  },
  {
   "cell_type": "markdown",
   "metadata": {},
   "source": [
    "In this set of tests, there is not enough evidence to reject the null hypothesis that the treatment works differently for people who are affluence level 1 than people who are affluence level **2, 3, 4, 5**, while there is some evidence that levels **6, and 7** respond differently to treatment than level **1** people. "
   ]
  },
  {
   "cell_type": "code",
   "execution_count": null,
   "metadata": {},
   "outputs": [],
   "source": []
  }
 ],
 "metadata": {
  "kernelspec": {
   "display_name": "R",
   "language": "R",
   "name": "ir"
  },
  "language_info": {
   "codemirror_mode": "r",
   "file_extension": ".r",
   "mimetype": "text/x-r-source",
   "name": "R",
   "pygments_lexer": "r",
   "version": "3.4.3"
  }
 },
 "nbformat": 4,
 "nbformat_minor": 2
}
