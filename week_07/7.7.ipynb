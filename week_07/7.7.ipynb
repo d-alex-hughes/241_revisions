{
 "cells": [
  {
   "cell_type": "markdown",
   "metadata": {},
   "source": [
    "# Making those tips\n",
    "\n",
    "Does anybody presently work in a restaurant? Has anybody? If so, what sorts of crazy strategies did you use to try to increase the amount of tips that you earned? \n",
    "\n",
    "One strategy, used in diners and breakfast nooks across America is to put a *note* on the receipt that comes back to the patron. Or, if you're in a hustle and you can't write, \"Thanks!\" then to just put a happy face. \n",
    "\n",
    "Does placing a happy face increase tips the servers earn? Does it work the same for all servers?  "
   ]
  },
  {
   "cell_type": "code",
   "execution_count": 2,
   "metadata": {},
   "outputs": [],
   "source": [
    "library(data.table)\n",
    "library(foreign)\n",
    "\n",
    "d <- read.dta(\"http://hdl.handle.net/10079/vmcvdzs\")\n",
    "d <- data.table(d)"
   ]
  },
  {
   "cell_type": "code",
   "execution_count": 5,
   "metadata": {},
   "outputs": [
    {
     "data": {
      "text/html": [
       "<table>\n",
       "<thead><tr><th scope=col>female</th><th scope=col>happyface</th><th scope=col>tip</th><th scope=col>xhappy</th><th scope=col>tipround</th></tr></thead>\n",
       "<tbody>\n",
       "\t<tr><td>Female</td><td>None  </td><td>44.78 </td><td>0     </td><td>45    </td></tr>\n",
       "\t<tr><td>Female</td><td>None  </td><td>27.55 </td><td>0     </td><td>28    </td></tr>\n",
       "\t<tr><td>Female</td><td>None  </td><td>18.12 </td><td>0     </td><td>18    </td></tr>\n",
       "\t<tr><td>Male  </td><td>None  </td><td> 0.00 </td><td>0     </td><td> 0    </td></tr>\n",
       "\t<tr><td>Female</td><td>None  </td><td>30.08 </td><td>0     </td><td>30    </td></tr>\n",
       "\t<tr><td>Male  </td><td>None  </td><td>16.28 </td><td>0     </td><td>16    </td></tr>\n",
       "</tbody>\n",
       "</table>\n"
      ],
      "text/latex": [
       "\\begin{tabular}{r|lllll}\n",
       " female & happyface & tip & xhappy & tipround\\\\\n",
       "\\hline\n",
       "\t Female & None   & 44.78  & 0      & 45    \\\\\n",
       "\t Female & None   & 27.55  & 0      & 28    \\\\\n",
       "\t Female & None   & 18.12  & 0      & 18    \\\\\n",
       "\t Male   & None   &  0.00  & 0      &  0    \\\\\n",
       "\t Female & None   & 30.08  & 0      & 30    \\\\\n",
       "\t Male   & None   & 16.28  & 0      & 16    \\\\\n",
       "\\end{tabular}\n"
      ],
      "text/markdown": [
       "\n",
       "female | happyface | tip | xhappy | tipround | \n",
       "|---|---|---|---|---|---|\n",
       "| Female | None   | 44.78  | 0      | 45     | \n",
       "| Female | None   | 27.55  | 0      | 28     | \n",
       "| Female | None   | 18.12  | 0      | 18     | \n",
       "| Male   | None   |  0.00  | 0      |  0     | \n",
       "| Female | None   | 30.08  | 0      | 30     | \n",
       "| Male   | None   | 16.28  | 0      | 16     | \n",
       "\n",
       "\n"
      ],
      "text/plain": [
       "  female happyface tip   xhappy tipround\n",
       "1 Female None      44.78 0      45      \n",
       "2 Female None      27.55 0      28      \n",
       "3 Female None      18.12 0      18      \n",
       "4 Male   None       0.00 0       0      \n",
       "5 Female None      30.08 0      30      \n",
       "6 Male   None      16.28 0      16      "
      ]
     },
     "metadata": {},
     "output_type": "display_data"
    }
   ],
   "source": [
    "head(d)"
   ]
  },
  {
   "cell_type": "markdown",
   "metadata": {},
   "source": [
    "Answer the following questions, using the data provided. For this set of prompts, use only `by`, and `mean` to produce an estimate of the treatment effect for each sub-part, and also a p-value for that treatment effect. \n",
    "\n",
    "1. Is there an effect *on average* of placing a happy face on a receipt? \n",
    "2. What is treatment effect *on average* among women? What about among men? \n",
    "3. (Challenge for at home): What is the difference between men and women. What is the p-value associated with this difference? "
   ]
  },
  {
   "cell_type": "code",
   "execution_count": null,
   "metadata": {},
   "outputs": [],
   "source": []
  },
  {
   "cell_type": "markdown",
   "metadata": {},
   "source": [
    "Now, answer the following questions, using the data provided, but you can use linear models (`lm`). Since you're using ensure that you're using \"robust\" standard errors, because why not? \n",
    "\n",
    "1. Is there an effect *on average* of placing a happy face on a receipt? \n",
    "2. What is treatment effect *on average* among women? What about among men? Report this to another team and tell them how you interpret the results from these **two sets of regressions**. Do you have a p-value that you can report for this statement? \n",
    "3. What is the difference between men and women? What is the p-value associated with this difference? "
   ]
  },
  {
   "cell_type": "code",
   "execution_count": null,
   "metadata": {},
   "outputs": [],
   "source": []
  }
 ],
 "metadata": {
  "kernelspec": {
   "display_name": "R",
   "language": "R",
   "name": "ir"
  },
  "language_info": {
   "codemirror_mode": "r",
   "file_extension": ".r",
   "mimetype": "text/x-r-source",
   "name": "R",
   "pygments_lexer": "r",
   "version": "3.4.3"
  }
 },
 "nbformat": 4,
 "nbformat_minor": 2
}
