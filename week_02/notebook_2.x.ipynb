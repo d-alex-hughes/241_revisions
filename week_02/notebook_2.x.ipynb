{
 "cells": [
  {
   "cell_type": "markdown",
   "metadata": {},
   "source": [
    "# Why is a random sample an unbiased estimator? \n",
    "\n",
    "**The** crucial feature that makes an experiment an experiment is the *intervention* that we perform. But, since we're not only looking to conduct an experiment, but also reliably demonstrate with data that some outcome was *caused* by some action, we're going to need a way to demonstrate this. "
   ]
  },
  {
   "cell_type": "markdown",
   "metadata": {},
   "source": [
    "## What does it mean for an estimator to be unbiased? \n",
    "\n",
    "In order to understand whether an estimator is biased or unbiased, we've got to be able to make a statment about the *truth*. The most interesting questions that we ask as data scientists typically concern statemetns about population characteristics that we can't *direclty* observe. \n",
    "\n",
    "- What feeling did this person have when they wrote this sentence? \n",
    "- What *real world object* is in this picture? \n",
    "- What is *this persons's* likelihood to take action? \n",
    "- What is the *causal* effect of X on Y? \n",
    "\n",
    "For each of these circumstances we've got to put together an estimate of the population value. \n",
    "\n",
    "Throughout this course, and in most statistics courses, it is convention to denote *estimators* of a parameter value with a \"hat\". And so, if the true parameter that we're interseted in knowing about is the individual causal effect for some person $D$, $\\tau_{D}$, then we might denote the estimate for that person as $\\hat{\\tau}_{D}$. \n",
    "\n",
    "An **unbiased** estimator of an unknown value is an estimator whose *expected value* is equal to the *true* parameter value. And so, in the case of an indiviudal causal effect we might say that an an estimator of an individual causal effect, $\\hat{\\tau}_{i}$ is unbiased if\n",
    "\n",
    "\\begin{equation} \n",
    "E[\\hat{\\tau}_{i}] = \\tau\n",
    "\\end{equation} \n",
    "\n",
    "Or equivalently, if\n",
    "\n",
    "\\begin{equation}\n",
    "E[\\hat{\\tau}_{i} - \\tau] = 0 \n",
    "\\end{equation}"
   ]
  },
  {
   "cell_type": "markdown",
   "metadata": {},
   "source": [
    "## Is the mean an unbiased estimator of a population parameter? \n",
    "Consider the following example: Your section instructor, wanting to choose his or her examples to fit in with the pop-culture references that *you* are most familiar with, wants to asses how old you are. But, the section instructor also is not so impolite as to ask you directly. How could they construct an estimate for your age? "
   ]
  },
  {
   "cell_type": "code",
   "execution_count": 1,
   "metadata": {},
   "outputs": [
    {
     "data": {},
     "metadata": {},
     "output_type": "display_data"
    },
    {
     "data": {},
     "metadata": {},
     "output_type": "display_data"
    },
    {
     "data": {
      "text/html": [
       "<table>\n",
       "<thead><tr><th scope=col>id</th><th scope=col>names</th><th scope=col>age</th><th scope=col>you</th></tr></thead>\n",
       "<tbody>\n",
       "\t<tr><td>1 </td><td>A </td><td>41</td><td>0 </td></tr>\n",
       "\t<tr><td>2 </td><td>B </td><td>33</td><td>0 </td></tr>\n",
       "\t<tr><td>3 </td><td>C </td><td>32</td><td>0 </td></tr>\n",
       "\t<tr><td>4 </td><td>D </td><td>25</td><td>0 </td></tr>\n",
       "\t<tr><td>5 </td><td>E </td><td>32</td><td>0 </td></tr>\n",
       "\t<tr><td>6 </td><td>F </td><td>32</td><td>0 </td></tr>\n",
       "</tbody>\n",
       "</table>\n"
      ],
      "text/latex": [
       "\\begin{tabular}{r|llll}\n",
       " id & names & age & you\\\\\n",
       "\\hline\n",
       "\t 1  & A  & 41 & 0 \\\\\n",
       "\t 2  & B  & 33 & 0 \\\\\n",
       "\t 3  & C  & 32 & 0 \\\\\n",
       "\t 4  & D  & 25 & 0 \\\\\n",
       "\t 5  & E  & 32 & 0 \\\\\n",
       "\t 6  & F  & 32 & 0 \\\\\n",
       "\\end{tabular}\n"
      ],
      "text/markdown": [
       "\n",
       "id | names | age | you | \n",
       "|---|---|---|---|---|---|\n",
       "| 1  | A  | 41 | 0  | \n",
       "| 2  | B  | 33 | 0  | \n",
       "| 3  | C  | 32 | 0  | \n",
       "| 4  | D  | 25 | 0  | \n",
       "| 5  | E  | 32 | 0  | \n",
       "| 6  | F  | 32 | 0  | \n",
       "\n",
       "\n"
      ],
      "text/plain": [
       "  id names age you\n",
       "1 1  A     41  0  \n",
       "2 2  B     33  0  \n",
       "3 3  C     32  0  \n",
       "4 4  D     25  0  \n",
       "5 5  E     32  0  \n",
       "6 6  F     32  0  "
      ]
     },
     "metadata": {},
     "output_type": "display_data"
    }
   ],
   "source": [
    "library(data.table)\n",
    "\n",
    "class <- data.table( \n",
    "  'id'    = 1:15, \n",
    "  'names' = LETTERS[1:15], \n",
    "  'age'  = sample(24:44, size = 15, replace = TRUE)\n",
    "  ) \n",
    "class[ , you := c(1, rep(0,14))] # indicator for \"you\";  a single 1 and 14 zeros \n",
    "class[ , you := sample(you)] # shuffle that indicator\n",
    "head(class)"
   ]
  },
  {
   "cell_type": "markdown",
   "metadata": {},
   "source": [
    "So, how old are *you*? "
   ]
  },
  {
   "cell_type": "code",
   "execution_count": 2,
   "metadata": {},
   "outputs": [
    {
     "data": {
      "text/html": [
       "29"
      ],
      "text/latex": [
       "29"
      ],
      "text/markdown": [
       "29"
      ],
      "text/plain": [
       "[1] 29"
      ]
     },
     "metadata": {},
     "output_type": "display_data"
    }
   ],
   "source": [
    "your_age <- class[you == 1, age]\n",
    "your_age"
   ]
  },
  {
   "cell_type": "markdown",
   "metadata": {},
   "source": [
    "How old are the other people in the class? Write the slice that will pull this. "
   ]
  },
  {
   "cell_type": "code",
   "execution_count": null,
   "metadata": {},
   "outputs": [],
   "source": []
  },
  {
   "cell_type": "code",
   "execution_count": 3,
   "metadata": {},
   "outputs": [
    {
     "data": {
      "text/html": [
       "<ol class=list-inline>\n",
       "\t<li>41</li>\n",
       "\t<li>33</li>\n",
       "\t<li>32</li>\n",
       "\t<li>25</li>\n",
       "\t<li>32</li>\n",
       "\t<li>32</li>\n",
       "\t<li>28</li>\n",
       "\t<li>28</li>\n",
       "\t<li>37</li>\n",
       "\t<li>25</li>\n",
       "\t<li>38</li>\n",
       "\t<li>44</li>\n",
       "\t<li>29</li>\n",
       "\t<li>30</li>\n",
       "</ol>\n"
      ],
      "text/latex": [
       "\\begin{enumerate*}\n",
       "\\item 41\n",
       "\\item 33\n",
       "\\item 32\n",
       "\\item 25\n",
       "\\item 32\n",
       "\\item 32\n",
       "\\item 28\n",
       "\\item 28\n",
       "\\item 37\n",
       "\\item 25\n",
       "\\item 38\n",
       "\\item 44\n",
       "\\item 29\n",
       "\\item 30\n",
       "\\end{enumerate*}\n"
      ],
      "text/markdown": [
       "1. 41\n",
       "2. 33\n",
       "3. 32\n",
       "4. 25\n",
       "5. 32\n",
       "6. 32\n",
       "7. 28\n",
       "8. 28\n",
       "9. 37\n",
       "10. 25\n",
       "11. 38\n",
       "12. 44\n",
       "13. 29\n",
       "14. 30\n",
       "\n",
       "\n"
      ],
      "text/plain": [
       " [1] 41 33 32 25 32 32 28 28 37 25 38 44 29 30"
      ]
     },
     "metadata": {},
     "output_type": "display_data"
    }
   ],
   "source": [
    "# ANSWER \n",
    "class[you == 0, age]"
   ]
  },
  {
   "cell_type": "markdown",
   "metadata": {},
   "source": [
    "Here is *one* way that I could make a guess about how old you are -- pick one person at random from the class, and them their age, and make that my guess for your age. "
   ]
  },
  {
   "cell_type": "code",
   "execution_count": 4,
   "metadata": {},
   "outputs": [],
   "source": [
    "first_estimator <- class[you == 0 , sample(age, 1)]"
   ]
  },
  {
   "cell_type": "markdown",
   "metadata": {},
   "source": [
    "How far off was I? "
   ]
  },
  {
   "cell_type": "code",
   "execution_count": 5,
   "metadata": {},
   "outputs": [
    {
     "data": {
      "text/html": [
       "-3"
      ],
      "text/latex": [
       "-3"
      ],
      "text/markdown": [
       "-3"
      ],
      "text/plain": [
       "[1] -3"
      ]
     },
     "metadata": {},
     "output_type": "display_data"
    }
   ],
   "source": [
    "first_error = your_age - first_estimator \n",
    "first_error"
   ]
  },
  {
   "cell_type": "markdown",
   "metadata": {},
   "source": [
    "So, I wasn't **right** on. But, that's just a result of only having done this once. The expectation operator places a probability distribution across each of the possible realizations, and then multiplies by the value of that realization. Then we sum those results. \n",
    "\n",
    "If I am sampling one person at random, then that would look like this, the probabiltiy of sampling a single person is:"
   ]
  },
  {
   "cell_type": "code",
   "execution_count": 6,
   "metadata": {},
   "outputs": [
    {
     "data": {},
     "metadata": {},
     "output_type": "display_data"
    },
    {
     "data": {
      "text/html": [
       "<table>\n",
       "<thead><tr><th scope=col>id</th><th scope=col>names</th><th scope=col>age</th><th scope=col>you</th><th scope=col>prob_sample</th></tr></thead>\n",
       "<tbody>\n",
       "\t<tr><td>1         </td><td>A         </td><td>41        </td><td>0         </td><td>0.07142857</td></tr>\n",
       "\t<tr><td>2         </td><td>B         </td><td>33        </td><td>0         </td><td>0.07142857</td></tr>\n",
       "\t<tr><td>3         </td><td>C         </td><td>32        </td><td>0         </td><td>0.07142857</td></tr>\n",
       "\t<tr><td>4         </td><td>D         </td><td>25        </td><td>0         </td><td>0.07142857</td></tr>\n",
       "\t<tr><td>5         </td><td>E         </td><td>32        </td><td>0         </td><td>0.07142857</td></tr>\n",
       "\t<tr><td>6         </td><td>F         </td><td>32        </td><td>0         </td><td>0.07142857</td></tr>\n",
       "</tbody>\n",
       "</table>\n"
      ],
      "text/latex": [
       "\\begin{tabular}{r|lllll}\n",
       " id & names & age & you & prob\\_sample\\\\\n",
       "\\hline\n",
       "\t 1          & A          & 41         & 0          & 0.07142857\\\\\n",
       "\t 2          & B          & 33         & 0          & 0.07142857\\\\\n",
       "\t 3          & C          & 32         & 0          & 0.07142857\\\\\n",
       "\t 4          & D          & 25         & 0          & 0.07142857\\\\\n",
       "\t 5          & E          & 32         & 0          & 0.07142857\\\\\n",
       "\t 6          & F          & 32         & 0          & 0.07142857\\\\\n",
       "\\end{tabular}\n"
      ],
      "text/markdown": [
       "\n",
       "id | names | age | you | prob_sample | \n",
       "|---|---|---|---|---|---|\n",
       "| 1          | A          | 41         | 0          | 0.07142857 | \n",
       "| 2          | B          | 33         | 0          | 0.07142857 | \n",
       "| 3          | C          | 32         | 0          | 0.07142857 | \n",
       "| 4          | D          | 25         | 0          | 0.07142857 | \n",
       "| 5          | E          | 32         | 0          | 0.07142857 | \n",
       "| 6          | F          | 32         | 0          | 0.07142857 | \n",
       "\n",
       "\n"
      ],
      "text/plain": [
       "  id names age you prob_sample\n",
       "1 1  A     41  0   0.07142857 \n",
       "2 2  B     33  0   0.07142857 \n",
       "3 3  C     32  0   0.07142857 \n",
       "4 4  D     25  0   0.07142857 \n",
       "5 5  E     32  0   0.07142857 \n",
       "6 6  F     32  0   0.07142857 "
      ]
     },
     "metadata": {},
     "output_type": "display_data"
    }
   ],
   "source": [
    "class[ , prob_sample := (1 / sum(you==0))]\n",
    "head(class)"
   ]
  },
  {
   "cell_type": "markdown",
   "metadata": {},
   "source": [
    "Each persons contribution to the expectation operator is: "
   ]
  },
  {
   "cell_type": "code",
   "execution_count": 7,
   "metadata": {},
   "outputs": [
    {
     "data": {},
     "metadata": {},
     "output_type": "display_data"
    }
   ],
   "source": [
    "class[ , p_times_age := prob_sample * age]"
   ]
  },
  {
   "cell_type": "markdown",
   "metadata": {},
   "source": [
    "And so the expectation of this **estimator**, which comes from sampling one person from the classroom is: "
   ]
  },
  {
   "cell_type": "code",
   "execution_count": 8,
   "metadata": {},
   "outputs": [
    {
     "data": {
      "text/html": [
       "34.5"
      ],
      "text/latex": [
       "34.5"
      ],
      "text/markdown": [
       "34.5"
      ],
      "text/plain": [
       "[1] 34.5"
      ]
     },
     "metadata": {},
     "output_type": "display_data"
    }
   ],
   "source": [
    "expectation <- class[ , sum(p_times_age)]\n",
    "expectation"
   ]
  },
  {
   "cell_type": "markdown",
   "metadata": {},
   "source": [
    "How far off was I? "
   ]
  },
  {
   "cell_type": "code",
   "execution_count": 9,
   "metadata": {},
   "outputs": [
    {
     "data": {
      "text/html": [
       "-5.5"
      ],
      "text/latex": [
       "-5.5"
      ],
      "text/markdown": [
       "-5.5"
      ],
      "text/plain": [
       "[1] -5.5"
      ]
     },
     "metadata": {},
     "output_type": "display_data"
    }
   ],
   "source": [
    "your_age - expectation"
   ]
  },
  {
   "cell_type": "markdown",
   "metadata": {},
   "source": [
    "Think about doing this a large number of times, where the 'you' indicator is randomly sampled from the population, and then the estimator of one draw is conducted. To do this, I'm goign to pull all the pieces from the last set into a function, so we can run this function a number of times. "
   ]
  },
  {
   "cell_type": "code",
   "execution_count": 10,
   "metadata": {},
   "outputs": [],
   "source": [
    "NSIMS <- 1000\n",
    "\n",
    "c <- data.table( \n",
    "  'id'    = 1:15, \n",
    "  'names' = LETTERS[1:15], \n",
    "  'age'  = sample(24:44, size = 15, replace = TRUE)\n",
    "  ) \n",
    "\n",
    "class_example <- function(class=c) { \n",
    "    class[ , you := c(1, rep(0,14))] # indicator for \"you\";  a single 1 and 14 zeros \n",
    "    class[ , you := sample(you)] # shuffle that indicator\n",
    "    \n",
    "    class_mean <- class[you==0, mean(age)]\n",
    "    your_age   <- class[you==1, age]\n",
    "    \n",
    "    diff <- your_age - class_mean\n",
    "    \n",
    "    return(diff)\n",
    "}\n",
    "\n",
    "diff_vector <- rep(NA, NSIMS)\n",
    "\n",
    "for(i in 1:NSIMS){ \n",
    "  diff_vector[i] <- class_example()\n",
    "}"
   ]
  },
  {
   "cell_type": "code",
   "execution_count": 11,
   "metadata": {},
   "outputs": [
    {
     "data": {
      "text/html": [
       "'The difference between your age and the estimator, across these runs is -0.0782. That is mighty good!'"
      ],
      "text/latex": [
       "'The difference between your age and the estimator, across these runs is -0.0782. That is mighty good!'"
      ],
      "text/markdown": [
       "'The difference between your age and the estimator, across these runs is -0.0782. That is mighty good!'"
      ],
      "text/plain": [
       "[1] \"The difference between your age and the estimator, across these runs is -0.0782. That is mighty good!\""
      ]
     },
     "metadata": {},
     "output_type": "display_data"
    }
   ],
   "source": [
    "sprintf('The difference between your age and the estimator, across these runs is %.4f. That is mighty good!', mean(diff_vector))"
   ]
  },
  {
   "cell_type": "markdown",
   "metadata": {},
   "source": [
    "# Relate this directly to potential outcomes\n",
    "How does this relate directly to potential outcoems? Consider the *science* table that is provided to us in table 2.1. "
   ]
  },
  {
   "cell_type": "code",
   "execution_count": 12,
   "metadata": {},
   "outputs": [],
   "source": [
    "d <- data.table(\n",
    "  'id'  = 1:7, \n",
    "  'y_0' = c(10,15,20,20,10,15,15), \n",
    "  'y_1' = c(15,15,30,15,20,15,30), \n",
    "  'tau' = c(5, 0,10,-5,10,0,15)\n",
    "  )"
   ]
  },
  {
   "cell_type": "markdown",
   "metadata": {},
   "source": [
    "We can't *actully* see both the potential outcome to control and treatment for any **single** person. But, what if we can come up with an unbiased estimate for the potential outcoems to control for the seven villages? \n",
    "\n",
    "Randomly sample 5 of the villages and take the average of their potential outcomes. How close does this come to the true mean of 15? "
   ]
  },
  {
   "cell_type": "code",
   "execution_count": 13,
   "metadata": {},
   "outputs": [],
   "source": [
    "control_mean <- '[replace with your code]'"
   ]
  },
  {
   "cell_type": "markdown",
   "metadata": {},
   "source": [
    "Randomly sample 2 village and take the average of their potential outcomes. How close does this come to the true mean of 20? "
   ]
  },
  {
   "cell_type": "code",
   "execution_count": 14,
   "metadata": {},
   "outputs": [],
   "source": [
    "treat_mean <- '[replace with your code]'"
   ]
  },
  {
   "cell_type": "markdown",
   "metadata": {},
   "source": [
    "Calculate the difference of these. How close does this come to the true treatment effect of 5? "
   ]
  },
  {
   "cell_type": "code",
   "execution_count": null,
   "metadata": {},
   "outputs": [],
   "source": []
  },
  {
   "cell_type": "markdown",
   "metadata": {},
   "source": [
    "Note that beacuse we've got pretty small sample sizes here -- 5 in control and 2 in treatment -- we might actually not get that close in any *particular* run of this experiment. But, across all the experiments that we *could* have conducted, we will be dead on.\n",
    "\n",
    "As we increase the sample size of our experiments, the amount that these estimators in *any one* experiment that we run will produce estimates that are much closer to the true parameter values. We characterize this through standard errors, which you have covered in previous stats classes in the program, but which we'll talk about in detail in week 4. "
   ]
  }
 ],
 "metadata": {
  "kernelspec": {
   "display_name": "R",
   "language": "R",
   "name": "ir"
  },
  "language_info": {
   "codemirror_mode": "r",
   "file_extension": ".r",
   "mimetype": "text/x-r-source",
   "name": "R",
   "pygments_lexer": "r",
   "version": "3.4.3"
  }
 },
 "nbformat": 4,
 "nbformat_minor": 2
}
