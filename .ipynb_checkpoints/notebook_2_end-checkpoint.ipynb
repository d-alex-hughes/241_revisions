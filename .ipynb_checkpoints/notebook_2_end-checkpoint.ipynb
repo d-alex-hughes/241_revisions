{
 "cells": [
  {
   "cell_type": "markdown",
   "metadata": {},
   "source": [
    "# Potential Outcomes \n",
    "\n",
    "The concept of potential outcomes are foundational to the reasoning system that we're going to use for the course. They allow us to think about, with considerably clarity, the comparisons that we want to make, and **exactly** why these comparisons are *causal*. \n",
    "\n",
    "But, despite the somewhat obtuse language that we might use when we're talking about potential outcomes (e.g. \"The potential outcome to treatment, when a unit is assigned to treatment.\") the math surrounding potential outcomes is actually pretty straightforward. \n",
    "\n",
    "# Create Data \n",
    "Let's make some toy data that we can use through this demo. \n",
    "\n",
    "Suppose that we have 1,000 individuals that we can observe in our study. Furthermore, suppose that for each of these people, there is some *latent*, or unmeasured, response to treatment that they *would* have to treatment if we assigned them to take the treatemnt. \n",
    "\n",
    "You might think of this as an unknowable population-level parameter that we're trying to estimate from empirical data. In this worksheet, we're going to make the data so that the causal parameter $\\tau$ has a mean value of 2. But, you could imagine that some other treatment has a mean value of 100. Or, for some third treatment it could have a mean value of zero, in which case we would say there there is *no* treatment effect. \n",
    "\n",
    "For concreteness, suppose that the treatment is assigning people to drink [coffee](https://www.aldeacoffee.com). \n"
   ]
  },
  {
   "cell_type": "markdown",
   "metadata": {},
   "source": [
    "Create a data.table with the following columns: \n",
    "\n",
    "1. An `id` column that ranges from 1 to the number of rows in the data.table. \n",
    "2. A `tau` column that has random draws from the normal distribution. Set the mean of these draws to be two, and the standard deviation to also be two. "
   ]
  },
  {
   "cell_type": "code",
   "execution_count": null,
   "metadata": {},
   "outputs": [],
   "source": [
    "library(data.table)\n",
    "\n",
    "NROWS <- 1000 \n",
    "\n",
    "d <- data.table(\n",
    "\n",
    ")"
   ]
  },
  {
   "cell_type": "markdown",
   "metadata": {},
   "source": [
    "Let's build more into our data, like, that some of the people are tall, while others are short; and some are young, while others are old. \n",
    "\n",
    "Make two new colums, using the `:=` assignment operator in the data.table. We'll make the first column for you. You produce the second column. \n",
    "\n",
    "1. `Height` which is random draws of either 'tall' or 'short'. \n",
    "2. `Age` which is random draws of either 'young' or 'old'. \n"
   ]
  },
  {
   "cell_type": "code",
   "execution_count": null,
   "metadata": {},
   "outputs": [],
   "source": [
    "d[ , height := sample(c('tall','short'), size = .N, replace = TRUE)]\n"
   ]
  },
  {
   "cell_type": "markdown",
   "metadata": {},
   "source": [
    "In just exactly the same way, we can also think of our units having levels of *potential outcomes to control*. That is, we can suppose that people have some level of the outcome in the case that they do not drink any coffee. For concreteness, suppose that the outcome is people's number of minutes of 241 coding they can accomplish, before they fall asleep. \n",
    "\n",
    "There might (or might not) be a relationship between our non-experimentally assigned outcomes. In the example we're working with here, suppose that there is no relationship between height and minutes of coding; but that there is a positive relationship between age and minutes of coding. \n",
    "\n",
    "This might be represented in our data in the following way: The mean number of minutes that someone can work is 10, plus, if they're old (ahem... seasoned, disciplined) they are able to work for an additional 5 minutes on avergae. But, also assume that there is some noise in this relationship. \n",
    "\n",
    "Create a column on the data called `y_0` that takes the following values. \n",
    "\n",
    "- If the preson is young, it takes the value of 10. \n",
    "- If the person is old, it takes the value of 15. \n",
    "- For both young and old people add in a little bit of *noise* a a draw from a random normal distribution with `mean=0` and `sd=1`. \n",
    "\n",
    "There are a couple of ways that you can do this. While you may be tempted to subset your data; this is probably less efficient that it could be. \n",
    "\n",
    "- Either use an `ifelse` statement, which is still not maximally performant; or, \n",
    "- Use an evaluation statement using the `I()` \"as is\" operator. "
   ]
  },
  {
   "cell_type": "code",
   "execution_count": null,
   "metadata": {},
   "outputs": [],
   "source": [
    "d[ , y_0 := ]"
   ]
  },
  {
   "cell_type": "markdown",
   "metadata": {},
   "source": [
    "Notice that there is no relationship between height and potential outcomes to control; and also notice that the \"noise\" in the relationship is represented in the draw from the normal distribution with mean 0. "
   ]
  },
  {
   "cell_type": "markdown",
   "metadata": {},
   "source": [
    "## Potential Outcomes to Treatment \n",
    "If we know people's potential outcomes to control, and we already know each persons *causal effect*, then I suppose we also know their potential outcomes to **treatment**, right? \n",
    "\n",
    "Create people's potential outcomes to treatment, `y_1` as the sum of their `y_0` and `tau` values. "
   ]
  },
  {
   "cell_type": "code",
   "execution_count": null,
   "metadata": {},
   "outputs": [],
   "source": [
    "d[ , y_1 := ]"
   ]
  },
  {
   "cell_type": "markdown",
   "metadata": {},
   "source": [
    "And so, we can represent this **science table** -- the set of all potentially realizable outcomes, and also measurable covariates. "
   ]
  },
  {
   "cell_type": "code",
   "execution_count": null,
   "metadata": {},
   "outputs": [],
   "source": [
    "head(d)"
   ]
  },
  {
   "cell_type": "markdown",
   "metadata": {},
   "source": [
    "## Questions for Understanding \n",
    "\n",
    "First, answer these based on your understanding of how you created the data. Then, answer them using calls and subset against the data. This is *easy* practice for querying the data.tables and performing functions on them. \n",
    "\n",
    "1. On average, will people who are older tend to be taller, shorter, or about the same height, and people who are younger? \n",
    "2. On average, will people who are older tend to have higher or lower potential outcomes to control? \n",
    "3. On average, will people who are taller tend to have higher or lower potential outcomes to treatment? \n",
    "4. **Most importantly**: If these are *potential outcomes* then, can we empirically observe any of these outcomes? \n"
   ]
  },
  {
   "cell_type": "markdown",
   "metadata": {},
   "source": [
    "# Run Your Experiment "
   ]
  },
  {
   "cell_type": "markdown",
   "metadata": {},
   "source": [
    "To this point, we've been working in the *potential outcomes space*. One way that you might think about this is as though these are the measurement that our population of people are going to walk into the expeiment having -- but we haven't measured them yet, so we don't know what they are! That is, suppose we have the whole cohort of students who are enrolled in 241, and they're going to start the coffee drinking experiment in Week 3. In Week 2, they all are either young/old, short/tall, and have innate abilities to focus, *we as the experimenters just don't know them yet!*. \n",
    "\n",
    "When we run the experiment, we accomplish several things: \n",
    "\n",
    "1. We measure outcomes from our subjects;\n",
    "2. We intervene in their lives to force a particular experience; \n",
    "3. As a result of our intervention, we *reveal* either potential outcomes to treatment or control for each subject, and we measure this. \n",
    "\n",
    "The first of these is easy: For every subject, no matter whether they are in treatment or control, we measure the trait that we care about. But, the second two require consierably more care, and are the focus of the class. \n",
    "\n",
    "In this experiment, the way that we are interviening in people's lives is to either give them *coffee* or *decaf coffee*. Then, and only then, we're also able to make some of their potential outcomes measurable. \n"
   ]
  },
  {
   "cell_type": "markdown",
   "metadata": {},
   "source": [
    "Make two final columns: \n",
    "\n",
    "1. Create variable `treat` and randomly assign people to be either in the treatment group or the control group. \n",
    "2. Create a variable `Y` that is the potential outcome that we *actually* observe in the experiment. If the person is assigned to the treatment group, fill `Y = y_1`; and, if they're assigned to the control group fill `Y = y_0`. "
   ]
  },
  {
   "cell_type": "code",
   "execution_count": null,
   "metadata": {},
   "outputs": [],
   "source": []
  },
  {
   "cell_type": "markdown",
   "metadata": {},
   "source": [
    "## Why only some of? \n",
    "\n",
    "Why are we only able to measure some of people's potential outcomes? As David has identified in the async videos, we're only able to measure the potential outcomes that are consistent with the treatment that we actually give people. \n",
    "\n",
    "And, so, while the *science table* might contain information about each persons potential outcomes to treamtent and control, the table of data that we're ever going to be able to generate has a more restricted set. Call this observable data set `obs`, and it is a subset of all the data that might be out there."
   ]
  },
  {
   "cell_type": "code",
   "execution_count": null,
   "metadata": {},
   "outputs": [],
   "source": [
    "obs <- d[ , .(id, height, age, treat, Y)]\n",
    "head(obs)"
   ]
  },
  {
   "cell_type": "markdown",
   "metadata": {},
   "source": [
    "Where did all the data go?? We no longer have access to people's causal effect ($\\tau$), nor do we have access to their potential outcomes to control and treatment. Instead, we're left only with their *realized potential outcomes* that match the condition they were assigned to. "
   ]
  },
  {
   "cell_type": "markdown",
   "metadata": {},
   "source": [
    "## Question of Understanding (Conceptual)\n",
    "\n",
    "1. What happens to these values that are no longer in our dataset? Because we can't measure them, does that mean that they don't exist? Does it mean that they *never* existed? \n",
    "2. If we can't see any person's $\\tau$, then how should we generate an estimate of this population-level parameter? "
   ]
  },
  {
   "cell_type": "markdown",
   "metadata": {},
   "source": []
  },
  {
   "cell_type": "markdown",
   "metadata": {},
   "source": [
    "## Questions of Understanding (Numerical) \n",
    "\n",
    "Use the data.table `d` for these questions. \n",
    "\n",
    "1. Is the average height of people who are in treatment more or less than the average height for people who are in control? \n",
    "2. Among poeple who are in treatment, what is the mean potential outcome to control (`y_0`)? Is this any different than the people who are in control? \n",
    "3. Among people who are in treatment, what is the mean potential outcome to treatment (`y_1`)? Is this any different than the people who are control? \n",
    "4. Among people who are in treatment, what is the average difference between the potential outcomes to treatment and potential outcomes to control? "
   ]
  },
  {
   "cell_type": "code",
   "execution_count": null,
   "metadata": {},
   "outputs": [],
   "source": []
  },
  {
   "cell_type": "markdown",
   "metadata": {},
   "source": [
    "# Estimating Causal Quantities from the Observable Data \n",
    "\n",
    "Of course, we don't get to see each of these potential outcomes\n",
    "instead, we only get to see either one or the other. Which one do we\n",
    "get to see? Well the potential outcome for the treatment condition that\n",
    "we assign the person to! \n",
    "\n",
    "But, though random assignment, the values for the potential outcomes to control that we see *should* be an unbiased estiamte of the whole populations potential outcomes to control. "
   ]
  },
  {
   "cell_type": "code",
   "execution_count": 2,
   "metadata": {},
   "outputs": [
    {
     "ename": "ERROR",
     "evalue": "Error in eval(expr, envir, enclos): object 'd' not found\n",
     "output_type": "error",
     "traceback": [
      "Error in eval(expr, envir, enclos): object 'd' not found\nTraceback:\n"
     ]
    }
   ],
   "source": [
    "mean_y0        <- d[ , mean(y_0)]\n",
    "mean_control_Y <- obs[treat==0, mean(Y)]\n",
    "\n",
    "sprintf(\"The mean of y0 is %.3f, and the mean of contorl Y is %.3f.\", mean_y0, mean_control_Y)"
   ]
  },
  {
   "cell_type": "markdown",
   "metadata": {},
   "source": [
    "Conduct the same comparison among the treatment group. \n",
    "*Don't simply copy paste code; there's benefit in thinking about the queries and functions*. Type out each segment, even though its slower. \n",
    "\n",
    "Does the result surprise you at all? "
   ]
  },
  {
   "cell_type": "code",
   "execution_count": null,
   "metadata": {},
   "outputs": [],
   "source": []
  },
  {
   "cell_type": "markdown",
   "metadata": {},
   "source": [
    "# The Big Punchline! \n",
    "\n",
    "Because the *observable* set of realised potential outcomes are unbiased estimates of the *unobservable* potential outcomes, we're able to generate an unbiased estimate of the causal effect, using only obsevable data! "
   ]
  },
  {
   "cell_type": "markdown",
   "metadata": {},
   "source": [
    "- Calculate the mean of the observable potential outcomes to treatment. \n",
    "- Calcualte the mean of the observable potential outcomes to control. \n",
    "- Then, calculate the difference between the two of these quantities. \n",
    "- How close is this $\\hat{\\tau}$ to the true $\\tau$ that you created in the first code cell? "
   ]
  },
  {
   "cell_type": "code",
   "execution_count": null,
   "metadata": {},
   "outputs": [],
   "source": []
  },
  {
   "cell_type": "markdown",
   "metadata": {},
   "source": [
    "Let that sink in a bit. Most of your job as a data scientist *not* in producing some results; most of your job as a data scientist is in producing reuslts that are the *right* results, and that requires thought. "
   ]
  },
  {
   "cell_type": "code",
   "execution_count": null,
   "metadata": {},
   "outputs": [],
   "source": []
  }
 ],
 "metadata": {
  "kernelspec": {
   "display_name": "R",
   "language": "R",
   "name": "ir"
  },
  "language_info": {
   "codemirror_mode": "r",
   "file_extension": ".r",
   "mimetype": "text/x-r-source",
   "name": "R",
   "pygments_lexer": "r",
   "version": "3.4.3"
  }
 },
 "nbformat": 4,
 "nbformat_minor": 2
}
