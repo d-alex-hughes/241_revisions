{
 "cells": [
  {
   "cell_type": "code",
   "execution_count": 1,
   "metadata": {},
   "outputs": [],
   "source": [
    "library(foreign)\n",
    "library(data.table)"
   ]
  },
  {
   "cell_type": "markdown",
   "metadata": {},
   "source": [
    "To assess whether this experiment was able to generate a random assignment of individuals into treatment and control, we're going to focus only on a few representative varaibles that are reported by David Reiley in the lecture: \n",
    "\n",
    "- An indicator for sex\n",
    "- Whether the individual is nonwhite\n",
    "- Age\n",
    "- Family income\n",
    "- Medical Spending\n",
    "- General Health Index \n",
    "- Cholesterol \n",
    "- Mental Health Index \n",
    "\n",
    "The data is presently packaged across three tables, which means that we will have to organize this data some before we can start to work on assessing the randomization. "
   ]
  },
  {
   "cell_type": "markdown",
   "metadata": {},
   "source": [
    "First, we load the data"
   ]
  },
  {
   "cell_type": "code",
   "execution_count": 2,
   "metadata": {},
   "outputs": [],
   "source": [
    "demographics <- read.dta('./Data/rand_initial_sample_2.dta')\n",
    "# person_years <- read.dta('./Data/person_years.dta')\n",
    "# spending     <- read.dta('./Data/annual_spend.dta')"
   ]
  },
  {
   "cell_type": "markdown",
   "metadata": {},
   "source": [
    "And convert all the `data.frames` to data tables. "
   ]
  },
  {
   "cell_type": "code",
   "execution_count": 3,
   "metadata": {},
   "outputs": [],
   "source": [
    "demographics <- data.table(demographics)\n",
    "# person_years <- data.table(person_years)\n",
    "# spending     <- data.table(spending)"
   ]
  },
  {
   "cell_type": "markdown",
   "metadata": {},
   "source": [
    "From the demographics, we're going to keep `age`, `sex`, and `race`, and `income1` indicators. As well, we're going to keep the `person` indicator and set this as the *key*, or index variable for this data. "
   ]
  },
  {
   "cell_type": "code",
   "execution_count": 4,
   "metadata": {},
   "outputs": [],
   "source": [
    "d <- demographics[ , .(person, female, blackhisp, age, educper, \n",
    "                       income1cpi, hosp, ghindx, cholest, diastol, \n",
    "                       systol, mhi, rand_plan_group)]"
   ]
  },
  {
   "cell_type": "markdown",
   "metadata": {},
   "source": [
    "That `rand_plan_group` variable has a lot of long names in it with strange characters"
   ]
  },
  {
   "cell_type": "code",
   "execution_count": 5,
   "metadata": {},
   "outputs": [
    {
     "data": {
      "text/plain": [
       "rand_plan_group\n",
       "     Free Care      25% Coins    Mixed Coins      50% Coins 95%/100% Coins \n",
       "          1295            432            333            257            759 \n",
       "   Indv Deduct \n",
       "           881 "
      ]
     },
     "metadata": {},
     "output_type": "display_data"
    }
   ],
   "source": [
    "d[ , table(rand_plan_group)]"
   ]
  },
  {
   "cell_type": "markdown",
   "metadata": {},
   "source": [
    "So, I'm going to make a shorter version"
   ]
  },
  {
   "cell_type": "code",
   "execution_count": 6,
   "metadata": {},
   "outputs": [
    {
     "data": {},
     "metadata": {},
     "output_type": "display_data"
    },
    {
     "data": {},
     "metadata": {},
     "output_type": "display_data"
    },
    {
     "data": {},
     "metadata": {},
     "output_type": "display_data"
    },
    {
     "data": {},
     "metadata": {},
     "output_type": "display_data"
    },
    {
     "data": {},
     "metadata": {},
     "output_type": "display_data"
    },
    {
     "data": {},
     "metadata": {},
     "output_type": "display_data"
    }
   ],
   "source": [
    "d[rand_plan_group == \"Free Care\",      short_plan := \"free\"]\n",
    "d[rand_plan_group == \"25% Coins\",      short_plan := \"25\"]\n",
    "d[rand_plan_group == \"Mixed Coins\",    short_plan := \"mixed\"]\n",
    "d[rand_plan_group == \"50% Coins\",      short_plan := \"50\"]\n",
    "d[rand_plan_group == \"95%/100% Coins\", short_plan := \"95\"]\n",
    "d[rand_plan_group == \"Indv Deduct\",    short_plan := \"deduct\"]"
   ]
  },
  {
   "cell_type": "code",
   "execution_count": 7,
   "metadata": {},
   "outputs": [
    {
     "data": {
      "text/html": [
       "<table>\n",
       "<thead><tr><th scope=col>short_plan</th><th scope=col>prop_female</th><th scope=col>prop_blackhist</th><th scope=col>mean_age</th><th scope=col>mean_income</th><th scope=col>mean_educper</th><th scope=col>mean_cholset</th><th scope=col>mean_mhi</th></tr></thead>\n",
       "<tbody>\n",
       "\t<tr><td>NA       </td><td>      NaN</td><td>      NaN</td><td>     NaN </td><td>     NaN </td><td>     NaN </td><td>206.9402 </td><td>74.03323 </td></tr>\n",
       "\t<tr><td>25       </td><td>0.5300926</td><td>0.1536313</td><td>33.86111 </td><td>34911.66 </td><td>12.27045 </td><td>205.3929 </td><td>75.60877 </td></tr>\n",
       "\t<tr><td>50       </td><td>0.5214008</td><td>0.1090047</td><td>33.51751 </td><td>36383.67 </td><td>11.97598 </td><td>209.1133 </td><td>75.64553 </td></tr>\n",
       "\t<tr><td>95       </td><td>0.5599473</td><td>0.1716667</td><td>32.36100 </td><td>31603.21 </td><td>12.10483 </td><td>207.3021 </td><td>73.84584 </td></tr>\n",
       "\t<tr><td>deduct   </td><td>0.5368899</td><td>0.1528752</td><td>32.92168 </td><td>29498.82 </td><td>11.94804 </td><td>205.8820 </td><td>73.72570 </td></tr>\n",
       "\t<tr><td>free     </td><td>0.5220077</td><td>0.1435794</td><td>32.79598 </td><td>30627.02 </td><td>11.84211 </td><td>202.0558 </td><td>74.73590 </td></tr>\n",
       "\t<tr><td>mixed    </td><td>0.5525526</td><td>0.1615385</td><td>32.48649 </td><td>26485.05 </td><td>11.79791 </td><td>202.2582 </td><td>73.83190 </td></tr>\n",
       "</tbody>\n",
       "</table>\n"
      ],
      "text/latex": [
       "\\begin{tabular}{r|llllllll}\n",
       " short\\_plan & prop\\_female & prop\\_blackhist & mean\\_age & mean\\_income & mean\\_educper & mean\\_cholset & mean\\_mhi\\\\\n",
       "\\hline\n",
       "\t NA        &       NaN &       NaN &      NaN  &      NaN  &      NaN  & 206.9402  & 74.03323 \\\\\n",
       "\t 25        & 0.5300926 & 0.1536313 & 33.86111  & 34911.66  & 12.27045  & 205.3929  & 75.60877 \\\\\n",
       "\t 50        & 0.5214008 & 0.1090047 & 33.51751  & 36383.67  & 11.97598  & 209.1133  & 75.64553 \\\\\n",
       "\t 95        & 0.5599473 & 0.1716667 & 32.36100  & 31603.21  & 12.10483  & 207.3021  & 73.84584 \\\\\n",
       "\t deduct    & 0.5368899 & 0.1528752 & 32.92168  & 29498.82  & 11.94804  & 205.8820  & 73.72570 \\\\\n",
       "\t free      & 0.5220077 & 0.1435794 & 32.79598  & 30627.02  & 11.84211  & 202.0558  & 74.73590 \\\\\n",
       "\t mixed     & 0.5525526 & 0.1615385 & 32.48649  & 26485.05  & 11.79791  & 202.2582  & 73.83190 \\\\\n",
       "\\end{tabular}\n"
      ],
      "text/markdown": [
       "\n",
       "short_plan | prop_female | prop_blackhist | mean_age | mean_income | mean_educper | mean_cholset | mean_mhi | \n",
       "|---|---|---|---|---|---|---|\n",
       "| NA        |       NaN |       NaN |      NaN  |      NaN  |      NaN  | 206.9402  | 74.03323  | \n",
       "| 25        | 0.5300926 | 0.1536313 | 33.86111  | 34911.66  | 12.27045  | 205.3929  | 75.60877  | \n",
       "| 50        | 0.5214008 | 0.1090047 | 33.51751  | 36383.67  | 11.97598  | 209.1133  | 75.64553  | \n",
       "| 95        | 0.5599473 | 0.1716667 | 32.36100  | 31603.21  | 12.10483  | 207.3021  | 73.84584  | \n",
       "| deduct    | 0.5368899 | 0.1528752 | 32.92168  | 29498.82  | 11.94804  | 205.8820  | 73.72570  | \n",
       "| free      | 0.5220077 | 0.1435794 | 32.79598  | 30627.02  | 11.84211  | 202.0558  | 74.73590  | \n",
       "| mixed     | 0.5525526 | 0.1615385 | 32.48649  | 26485.05  | 11.79791  | 202.2582  | 73.83190  | \n",
       "\n",
       "\n"
      ],
      "text/plain": [
       "  short_plan prop_female prop_blackhist mean_age mean_income mean_educper\n",
       "1 NA               NaN         NaN           NaN      NaN         NaN    \n",
       "2 25         0.5300926   0.1536313      33.86111 34911.66    12.27045    \n",
       "3 50         0.5214008   0.1090047      33.51751 36383.67    11.97598    \n",
       "4 95         0.5599473   0.1716667      32.36100 31603.21    12.10483    \n",
       "5 deduct     0.5368899   0.1528752      32.92168 29498.82    11.94804    \n",
       "6 free       0.5220077   0.1435794      32.79598 30627.02    11.84211    \n",
       "7 mixed      0.5525526   0.1615385      32.48649 26485.05    11.79791    \n",
       "  mean_cholset mean_mhi\n",
       "1 206.9402     74.03323\n",
       "2 205.3929     75.60877\n",
       "3 209.1133     75.64553\n",
       "4 207.3021     73.84584\n",
       "5 205.8820     73.72570\n",
       "6 202.0558     74.73590\n",
       "7 202.2582     73.83190"
      ]
     },
     "metadata": {},
     "output_type": "display_data"
    }
   ],
   "source": [
    "summary_table <- d[ , .(prop_female = mean(female, na.rm = TRUE), \n",
    "                        prop_blackhist = mean(blackhisp, na.rm = TRUE), \n",
    "                        mean_age = mean(age, na.rm = TRUE), \n",
    "                        mean_income = mean(income1cpi, na.rm = TRUE),\n",
    "                        mean_educper = mean(educper, na.rm = TRUE), \n",
    "                        mean_cholset = mean(cholest, na.rm = TRUE), \n",
    "                        mean_mhi = mean(mhi, na.rm = TRUE)), \n",
    "                   keyby = short_plan]\n",
    "summary_table"
   ]
  },
  {
   "cell_type": "markdown",
   "metadata": {},
   "source": [
    "This is a really informative table: \n",
    "\n",
    "- Across the columns the variables that we're inspecting;\n",
    "- Down the rows are the plans were assigned to individuals. \n",
    "\n",
    "For example: \n",
    "\n",
    "- If we simply look at the proportion of female that are in each of the plans, it looks as though there are between 52% and 55% women across the plan types.\n",
    "- In table 1.3, panel A, we see that in the catastrophic plan, the mean income is reported as being 31,603. This is the same level that we are reporting here in the 95/100 coins plan. \n",
    "\n",
    "But, this isn't exactly what David or the authors of *Mastering Metrics* were showing. This provides mean values for these data in each treatment group, but does not show tests for differences in the levels between the groups. \n",
    "\n",
    "In the cell below, we produce the same output that David Reiley shows by: \n",
    "\n",
    "- Subsetting to the 95% (catastrophic) and the individual deductable plans\n",
    "- Calculating these same means\n",
    "- Calculated the difference in these means"
   ]
  },
  {
   "cell_type": "code",
   "execution_count": 8,
   "metadata": {},
   "outputs": [],
   "source": [
    "catastrophic_deductable <- d[short_plan %in% c(\"95\", \"deduct\"), \n",
    "    .(prop_female = mean(female, na.rm = TRUE),\n",
    "      prop_blackhist = mean(blackhisp, na.rm = TRUE), \n",
    "      mean_age = mean(age, na.rm = TRUE), \n",
    "      mean_income = mean(income1cpi, na.rm = TRUE) \n",
    "     ), \n",
    "   keyby = .(short_plan)]"
   ]
  },
  {
   "cell_type": "code",
   "execution_count": 9,
   "metadata": {},
   "outputs": [
    {
     "data": {
      "text/html": [
       "<table>\n",
       "<thead><tr><th scope=col>diff_female</th><th scope=col>diff_blackhist</th><th scope=col>diff_age</th><th scope=col>diff_income</th></tr></thead>\n",
       "<tbody>\n",
       "\t<tr><td>-0.0230574 </td><td>-0.01879149</td><td>0.5606786  </td><td>-2104.385  </td></tr>\n",
       "</tbody>\n",
       "</table>\n"
      ],
      "text/latex": [
       "\\begin{tabular}{r|llll}\n",
       " diff\\_female & diff\\_blackhist & diff\\_age & diff\\_income\\\\\n",
       "\\hline\n",
       "\t -0.0230574  & -0.01879149 & 0.5606786   & -2104.385  \\\\\n",
       "\\end{tabular}\n"
      ],
      "text/markdown": [
       "\n",
       "diff_female | diff_blackhist | diff_age | diff_income | \n",
       "|---|\n",
       "| -0.0230574  | -0.01879149 | 0.5606786   | -2104.385   | \n",
       "\n",
       "\n"
      ],
      "text/plain": [
       "  diff_female diff_blackhist diff_age  diff_income\n",
       "1 -0.0230574  -0.01879149    0.5606786 -2104.385  "
      ]
     },
     "metadata": {},
     "output_type": "display_data"
    }
   ],
   "source": [
    "catastrophic_deductable[ , .(diff_female = diff(prop_female), \n",
    "                             diff_blackhist = diff(prop_blackhist), \n",
    "                             diff_age = diff(mean_age), \n",
    "                             diff_income = diff(mean_income))]"
   ]
  },
  {
   "cell_type": "markdown",
   "metadata": {},
   "source": [
    "# Conduct this check with Regression "
   ]
  },
  {
   "cell_type": "markdown",
   "metadata": {},
   "source": [
    "The *Field Experiments* textbook authors suggest a more direct check for balance on these covaraites. Because the treatment that we are assigning to individuals is being assigned **at random** it should **NOT** be the case that any feature that we measure provides us leverage to predict whether one person will be in a particular treatment condition. \n",
    "\n",
    "That is -- if treatment are random, then I can't predict which one you've got! \n",
    "\n",
    "To conduct this check, let's use a concept from 203: The F-test. Here we're going to fit two models. \n",
    "\n",
    "- The first model has no model features, just an intercept. \n",
    "- The second model has many model features. \n",
    "\n",
    "We're going to test whether the many model features improve the ability of our model to predict the treatment condition using a F-test. The null hypothesis for this test is that the models predict the same amount of variance in the outcome, and rejecting the null would mean that one of the models outperforms the other. "
   ]
  },
  {
   "cell_type": "code",
   "execution_count": 10,
   "metadata": {},
   "outputs": [],
   "source": [
    "d <- na.omit(d, cols = c(\"female\", \"blackhisp\", \"age\", \"educper\", \"income1cpi\"))"
   ]
  },
  {
   "cell_type": "code",
   "execution_count": 11,
   "metadata": {},
   "outputs": [],
   "source": [
    "short_mod <- d[short_plan %in% c(\"95\", \"deduct\"), \n",
    "              lm(I(short_plan == \"95\") ~ 1)]\n",
    "long_mod <- d[short_plan %in% c(\"95\", \"deduct\"), \n",
    "               lm(I(short_plan == \"95\") ~ female + blackhisp + age + educper + income1cpi)]"
   ]
  },
  {
   "cell_type": "markdown",
   "metadata": {},
   "source": [
    "With these two models fit, we can actually look at the income indicator that David Reiley calls out in the lecture. It *does* in fact, seem that this income feature is associated with being in one or the other of the treatment  conditions, but as David points out, we're makign a *lot* of checks."
   ]
  },
  {
   "cell_type": "code",
   "execution_count": 12,
   "metadata": {},
   "outputs": [
    {
     "data": {
      "text/plain": [
       "\n",
       "Call:\n",
       "lm(formula = I(short_plan == \"95\") ~ female + blackhisp + age + \n",
       "    educper + income1cpi)\n",
       "\n",
       "Residuals:\n",
       "    Min      1Q  Median      3Q     Max \n",
       "-0.6437 -0.4608 -0.4037  0.5333  0.6400 \n",
       "\n",
       "Coefficients:\n",
       "              Estimate Std. Error t value Pr(>|t|)    \n",
       "(Intercept)  3.741e-01  9.058e-02   4.130 3.86e-05 ***\n",
       "female       4.105e-02  2.863e-02   1.434   0.1519    \n",
       "blackhisp    7.073e-02  4.305e-02   1.643   0.1006    \n",
       "age         -9.266e-04  1.316e-03  -0.704   0.4815    \n",
       "educper      2.423e-03  5.291e-03   0.458   0.6470    \n",
       "income1cpi   1.918e-06  9.207e-07   2.083   0.0375 *  \n",
       "---\n",
       "Signif. codes:  0 ‘***’ 0.001 ‘**’ 0.01 ‘*’ 0.05 ‘.’ 0.1 ‘ ’ 1\n",
       "\n",
       "Residual standard error: 0.4981 on 1231 degrees of freedom\n",
       "Multiple R-squared:  0.006487,\tAdjusted R-squared:  0.002451 \n",
       "F-statistic: 1.607 on 5 and 1231 DF,  p-value: 0.1551\n"
      ]
     },
     "metadata": {},
     "output_type": "display_data"
    }
   ],
   "source": [
    "summary(long_mod)"
   ]
  },
  {
   "cell_type": "markdown",
   "metadata": {},
   "source": [
    "To actually conduct the test for these models, we'll use the `anova` method, and pass a test argument that calls for an *F-test*. "
   ]
  },
  {
   "cell_type": "code",
   "execution_count": 13,
   "metadata": {},
   "outputs": [
    {
     "data": {
      "text/html": [
       "<table>\n",
       "<thead><tr><th scope=col>Res.Df</th><th scope=col>RSS</th><th scope=col>Df</th><th scope=col>Sum of Sq</th><th scope=col>F</th><th scope=col>Pr(&gt;F)</th></tr></thead>\n",
       "<tbody>\n",
       "\t<tr><td>1231     </td><td>305.3548 </td><td>NA       </td><td>      NA </td><td>      NA </td><td>       NA</td></tr>\n",
       "\t<tr><td>1236     </td><td>307.3484 </td><td>-5       </td><td>-1.99364 </td><td>1.607423 </td><td>0.1550962</td></tr>\n",
       "</tbody>\n",
       "</table>\n"
      ],
      "text/latex": [
       "\\begin{tabular}{r|llllll}\n",
       " Res.Df & RSS & Df & Sum of Sq & F & Pr(>F)\\\\\n",
       "\\hline\n",
       "\t 1231      & 305.3548  & NA        &       NA  &       NA  &        NA\\\\\n",
       "\t 1236      & 307.3484  & -5        & -1.99364  & 1.607423  & 0.1550962\\\\\n",
       "\\end{tabular}\n"
      ],
      "text/markdown": [
       "\n",
       "Res.Df | RSS | Df | Sum of Sq | F | Pr(>F) | \n",
       "|---|---|\n",
       "| 1231      | 305.3548  | NA        |       NA  |       NA  |        NA | \n",
       "| 1236      | 307.3484  | -5        | -1.99364  | 1.607423  | 0.1550962 | \n",
       "\n",
       "\n"
      ],
      "text/plain": [
       "  Res.Df RSS      Df Sum of Sq F        Pr(>F)   \n",
       "1 1231   305.3548 NA       NA        NA        NA\n",
       "2 1236   307.3484 -5 -1.99364  1.607423 0.1550962"
      ]
     },
     "metadata": {},
     "output_type": "display_data"
    }
   ],
   "source": [
    "anova(long_mod, short_mod, test = \"F\")"
   ]
  },
  {
   "cell_type": "markdown",
   "metadata": {},
   "source": [
    "The results of this tell us the following: \n",
    "\n",
    "- The long model has used 5 more parameters than the short model (Df = 5)\n",
    "- The F statistic generated is 1.6\n",
    "- **Crucially** the probabilty of this difference arising under the null hypothesis is 15%. \n",
    "\n",
    "And so, we conclude from this test that there is not evidence to suggest that these features cause study participants to change their assigned treatment. Or, *there is no evidence to suggest that the randomization did not work in this case.* "
   ]
  },
  {
   "cell_type": "markdown",
   "metadata": {},
   "source": [
    "# Questions for Understanding \n",
    "\n",
    "Using the same data from above, conduct a test, using regression and an F-test, for whether the randomization produced balance between the 25% and 50% plan groups. "
   ]
  },
  {
   "cell_type": "code",
   "execution_count": 14,
   "metadata": {},
   "outputs": [],
   "source": [
    "short_mod <- \"\"\n",
    "long_mod <- \"\""
   ]
  },
  {
   "cell_type": "code",
   "execution_count": 15,
   "metadata": {},
   "outputs": [],
   "source": [
    "# anova()"
   ]
  }
 ],
 "metadata": {
  "kernelspec": {
   "display_name": "R",
   "language": "R",
   "name": "ir"
  },
  "language_info": {
   "codemirror_mode": "r",
   "file_extension": ".r",
   "mimetype": "text/x-r-source",
   "name": "R",
   "pygments_lexer": "r",
   "version": "3.4.3"
  }
 },
 "nbformat": 4,
 "nbformat_minor": 2
}
